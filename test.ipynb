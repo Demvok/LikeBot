{
 "cells": [
  {
   "cell_type": "markdown",
   "id": "51522fcd",
   "metadata": {},
   "source": [
    "### Task test"
   ]
  },
  {
   "cell_type": "code",
   "execution_count": 1,
   "id": "ea211796",
   "metadata": {},
   "outputs": [],
   "source": [
    "from taskhandler import *\n",
    "from database import get_db\n",
    "from logger import setup_logger\n",
    "logger = setup_logger(\"main\", \"main.log\")\n",
    "Task.logger = logger\n",
    "db = get_db()"
   ]
  },
  {
   "cell_type": "code",
   "execution_count": 2,
   "id": "fb67928c",
   "metadata": {},
   "outputs": [],
   "source": [
    "# \n",
    "# tyt byw ura mhwah\n",
    "# heh"
   ]
  },
  {
   "cell_type": "code",
   "execution_count": 3,
   "id": "f747d867",
   "metadata": {},
   "outputs": [],
   "source": [
    "# client = await db.load_all_accounts()\n",
    "# client = await client[0].create_connection()\n",
    "# client"
   ]
  },
  {
   "cell_type": "code",
   "execution_count": 4,
   "id": "2749c17b",
   "metadata": {},
   "outputs": [
    {
     "data": {
      "text/plain": [
       "{'task_id': 0,\n",
       " 'name': 'Text reading speed test',\n",
       " 'description': 'A task to measure text reading speed.',\n",
       " 'post_ids': [2],\n",
       " 'accounts': ['+18563995311'],\n",
       " 'action': {'type': 'react', 'palette': 'positive'},\n",
       " 'status': 'PENDING',\n",
       " 'created_at': '2025-08-18T19:23:21.692553',\n",
       " 'updated_at': '2025-08-18T19:23:21.693552'}"
      ]
     },
     "execution_count": 4,
     "metadata": {},
     "output_type": "execute_result"
    }
   ],
   "source": [
    "tasks = await db.load_all_tasks()\n",
    "task = tasks[1]\n",
    "task.to_dict()"
   ]
  },
  {
   "cell_type": "code",
   "execution_count": 7,
   "id": "451ef7f6",
   "metadata": {},
   "outputs": [
    {
     "name": "stdout",
     "output_type": "stream",
     "text": [
      "2025-09-02 19:48:44 - DB   - INFO  - Getting task from MongoDB with task_id: 3\n",
      "2025-09-02 19:48:44 - DB   - DEBUG - Task found in MongoDB: {'task_id': 3, 'name': 'Test task created in code', 'description': 'Just a test task', 'post_ids': [6, 7], 'accounts': ['+19283944162', '+19708267255', '+18563995311'], 'action': {'type': 'react', 'palette': 'positive'}, 'status': 'PENDING', 'created_at': '2025-09-02T19:47:34.217079', 'updated_at': '2025-09-02T19:47:34.217079'}\n"
     ]
    },
    {
     "data": {
      "text/plain": [
       "{'task_id': 3,\n",
       " 'name': 'Test task created in code',\n",
       " 'description': 'Just a test task',\n",
       " 'post_ids': [6, 7],\n",
       " 'accounts': ['+19283944162', '+19708267255', '+18563995311'],\n",
       " 'action': {'type': 'react', 'palette': 'positive'},\n",
       " 'status': 'PENDING',\n",
       " 'created_at': '2025-09-02T19:47:34.217079',\n",
       " 'updated_at': '2025-09-02T19:47:34.217079'}"
      ]
     },
     "execution_count": 7,
     "metadata": {},
     "output_type": "execute_result"
    }
   ],
   "source": [
    "task = await db.get_task(3)\n",
    "task.to_dict()"
   ]
  },
  {
   "cell_type": "code",
   "execution_count": null,
   "id": "bf194db0",
   "metadata": {},
   "outputs": [
    {
     "name": "stdout",
     "output_type": "stream",
     "text": [
      "2025-09-02 19:48:47 - main - INFO  - Starting task 3 - Test task created in code...\n"
     ]
    },
    {
     "name": "stdout",
     "output_type": "stream",
     "text": [
      "2025-09-02 19:48:47 - DB   - INFO  - Loading all accounts from MongoDB.\n",
      "2025-09-02 19:48:47 - DB   - DEBUG - Loaded 3 accounts from MongoDB.\n",
      "2025-09-02 19:48:47 - DB   - INFO  - Loading all posts from MongoDB.\n",
      "2025-09-02 19:48:47 - DB   - DEBUG - Loaded 7 posts from MongoDB.\n",
      "2025-09-02 19:48:47 - main - INFO  - Connecting clients for 3 accounts...\n",
      "2025-09-02 19:48:47 - +18563995311 - INFO  - Initializing client for +18563995311. Awaiting connection...\n",
      "2025-09-02 19:48:48 - +18563995311 - DEBUG - Client for +18563995311 started successfully.\n",
      "2025-09-02 19:48:48 - +19283944162 - INFO  - Initializing client for +19283944162. Awaiting connection...\n",
      "2025-09-02 19:48:50 - +19283944162 - DEBUG - Client for +19283944162 started successfully.\n",
      "2025-09-02 19:48:50 - +19708267255 - INFO  - Initializing client for +19708267255. Awaiting connection...\n",
      "2025-09-02 19:48:52 - +19708267255 - DEBUG - Client for +19708267255 started successfully.\n",
      "2025-09-02 19:48:52 - main - INFO  - Connected clients for 3 accounts.\n",
      "2025-09-02 19:48:52 - main - INFO  - Validating 2 posts...\n",
      "2025-09-02 19:48:52 - main - INFO  - Validated 2 posts: 0 newly validated, 2 already validated, 0 failed validation.\n",
      "2025-09-02 19:49:07 - +18563995311 - DEBUG - Estimated reading time: 16.364 seconds\n",
      "2025-09-02 19:49:07 - +19708267255 - DEBUG - Estimated reading time: 17.617 seconds\n",
      "2025-09-02 19:49:07 - +19283944162 - DEBUG - Estimated reading time: 19.437 seconds\n",
      "2025-09-02 19:49:25 - +18563995311 - INFO  - Reaction added successfully\n",
      "2025-09-02 19:49:25 - main - DEBUG - Client 8140224296 reacted to post 6\n",
      "2025-09-02 19:49:25 - +19708267255 - INFO  - Reaction added successfully\n",
      "2025-09-02 19:49:25 - main - DEBUG - Client 8014401447 reacted to post 6\n",
      "2025-09-02 19:49:26 - +18563995311 - DEBUG - Estimated reading time: 37.338 seconds\n",
      "2025-09-02 19:49:26 - +19708267255 - DEBUG - Estimated reading time: 36.94 seconds\n",
      "2025-09-02 19:49:28 - +19283944162 - INFO  - Reaction added successfully\n",
      "2025-09-02 19:49:28 - main - DEBUG - Client 8008781642 reacted to post 6\n",
      "2025-09-02 19:49:30 - +19283944162 - DEBUG - Estimated reading time: 57.667 seconds\n",
      "2025-09-02 19:50:04 - +19708267255 - INFO  - Reaction added successfully\n",
      "2025-09-02 19:50:04 - main - DEBUG - Client 8014401447 reacted to post 7\n",
      "2025-09-02 19:50:05 - +18563995311 - INFO  - Reaction added successfully\n",
      "2025-09-02 19:50:05 - main - DEBUG - Client 8140224296 reacted to post 7\n",
      "2025-09-02 19:50:28 - +19283944162 - INFO  - Reaction added successfully\n",
      "2025-09-02 19:50:28 - main - DEBUG - Client 8008781642 reacted to post 7\n",
      "2025-09-02 19:50:29 - +18563995311 - INFO  - Client for +18563995311 disconnected.\n",
      "2025-09-02 19:50:29 - +19283944162 - INFO  - Client for +19283944162 disconnected.\n",
      "2025-09-02 19:50:29 - +19708267255 - INFO  - Client for +19708267255 disconnected.\n",
      "2025-09-02 19:50:29 - main - INFO  - Task 3 completed successfully.\n"
     ]
    }
   ],
   "source": [
    "await task.start()"
   ]
  },
  {
   "cell_type": "code",
   "execution_count": 10,
   "id": "f5afe982",
   "metadata": {},
   "outputs": [
    {
     "data": {
      "text/plain": [
       "FINISHED"
      ]
     },
     "execution_count": 10,
     "metadata": {},
     "output_type": "execute_result"
    }
   ],
   "source": [
    "await task.get_status()"
   ]
  },
  {
   "cell_type": "code",
   "execution_count": 12,
   "id": "efa01d7f",
   "metadata": {},
   "outputs": [],
   "source": [
    "# await task.pause()"
   ]
  },
  {
   "cell_type": "code",
   "execution_count": 13,
   "id": "b1a0f632",
   "metadata": {},
   "outputs": [],
   "source": [
    "# await task.resume()"
   ]
  },
  {
   "cell_type": "markdown",
   "id": "3f97c794",
   "metadata": {},
   "source": [
    "## DB tests"
   ]
  },
  {
   "cell_type": "markdown",
   "id": "fdc0f0de",
   "metadata": {},
   "source": [
    "### init"
   ]
  },
  {
   "cell_type": "code",
   "execution_count": 9,
   "id": "21346be2",
   "metadata": {},
   "outputs": [],
   "source": [
    "from database import get_db\n",
    "from agent import Account\n",
    "from taskhandler import Task, Post"
   ]
  },
  {
   "cell_type": "code",
   "execution_count": 10,
   "id": "3c22e705",
   "metadata": {},
   "outputs": [],
   "source": [
    "db = get_db()"
   ]
  },
  {
   "cell_type": "code",
   "execution_count": 11,
   "id": "5bca3cd3",
   "metadata": {},
   "outputs": [],
   "source": [
    "# client = await db.load_all_accounts()\n",
    "# client = client[0]\n",
    "# client = await client.create_connection()\n",
    "# client"
   ]
  },
  {
   "cell_type": "markdown",
   "id": "7dbb3a3c",
   "metadata": {},
   "source": [
    "### load"
   ]
  },
  {
   "cell_type": "code",
   "execution_count": 12,
   "id": "21a342f3",
   "metadata": {},
   "outputs": [
    {
     "data": {
      "text/plain": [
       "[Account(8140224296, +18563995311),\n",
       " Account(None, +19283944162),\n",
       " Account(None, +19708267255)]"
      ]
     },
     "execution_count": 12,
     "metadata": {},
     "output_type": "execute_result"
    }
   ],
   "source": [
    "await db.load_all_accounts()"
   ]
  },
  {
   "cell_type": "code",
   "execution_count": 13,
   "id": "e8754370",
   "metadata": {},
   "outputs": [
    {
     "data": {
      "text/plain": [
       "[Post(1, validated, https://t.me/c/2723750105/14),\n",
       " Post(2, validated, https://t.me/c/2723750105/15),\n",
       " Post(3, unvalidated, https://t.me/c/2723750105/16),\n",
       " Post(4, validated, https://t.me/c/2723750105/20),\n",
       " Post(5, validated, https://t.me/c/2723750105/18)]"
      ]
     },
     "execution_count": 13,
     "metadata": {},
     "output_type": "execute_result"
    }
   ],
   "source": [
    "await db.load_all_posts()"
   ]
  },
  {
   "cell_type": "code",
   "execution_count": 14,
   "id": "08a4bcf8",
   "metadata": {},
   "outputs": [
    {
     "data": {
      "text/plain": [
       "[Task(1, Test task name, PENDING, 2025-08-07 20:27:29.954892, 2025-08-07 20:27:29.954892),\n",
       " Task(0, Text reading speed test, PENDING, 2025-08-18 19:23:21.692553, 2025-08-18 19:23:21.693552)]"
      ]
     },
     "execution_count": 14,
     "metadata": {},
     "output_type": "execute_result"
    }
   ],
   "source": [
    "await db.load_all_tasks()"
   ]
  },
  {
   "cell_type": "markdown",
   "id": "dd956569",
   "metadata": {},
   "source": [
    "### save all"
   ]
  },
  {
   "cell_type": "code",
   "execution_count": 15,
   "id": "48caa219",
   "metadata": {},
   "outputs": [],
   "source": [
    "await db.save_all_accounts(await db.load_all_accounts())"
   ]
  },
  {
   "cell_type": "code",
   "execution_count": 16,
   "id": "e9db58d8",
   "metadata": {},
   "outputs": [],
   "source": [
    "await db.save_all_posts(await db.load_all_posts())"
   ]
  },
  {
   "cell_type": "code",
   "execution_count": 17,
   "id": "654301bd",
   "metadata": {},
   "outputs": [],
   "source": [
    "await db.save_all_tasks(await db.load_all_tasks())"
   ]
  },
  {
   "cell_type": "markdown",
   "id": "6eafa1ae",
   "metadata": {},
   "source": [
    "### add, update and delete"
   ]
  },
  {
   "cell_type": "markdown",
   "id": "eb9dd42b",
   "metadata": {},
   "source": [
    "#### account"
   ]
  },
  {
   "cell_type": "code",
   "execution_count": 18,
   "id": "8b0a1a88",
   "metadata": {},
   "outputs": [
    {
     "data": {
      "text/plain": [
       "True"
      ]
     },
     "execution_count": 18,
     "metadata": {},
     "output_type": "execute_result"
    }
   ],
   "source": [
    "await db.add_account(Account.from_keys(phone_number='+123'))"
   ]
  },
  {
   "cell_type": "code",
   "execution_count": 19,
   "id": "b2b72714",
   "metadata": {},
   "outputs": [
    {
     "data": {
      "text/plain": [
       "Account(None, +123)"
      ]
     },
     "execution_count": 19,
     "metadata": {},
     "output_type": "execute_result"
    }
   ],
   "source": [
    "await db.get_account('+123')"
   ]
  },
  {
   "cell_type": "code",
   "execution_count": 20,
   "id": "8fa039b1",
   "metadata": {},
   "outputs": [
    {
     "data": {
      "text/plain": [
       "True"
      ]
     },
     "execution_count": 20,
     "metadata": {},
     "output_type": "execute_result"
    }
   ],
   "source": [
    "await db.update_account('+123', {'session_name': 'new_session'})"
   ]
  },
  {
   "cell_type": "code",
   "execution_count": 21,
   "id": "8350521b",
   "metadata": {},
   "outputs": [
    {
     "data": {
      "text/plain": [
       "True"
      ]
     },
     "execution_count": 21,
     "metadata": {},
     "output_type": "execute_result"
    }
   ],
   "source": [
    "await db.delete_account('+123')"
   ]
  },
  {
   "cell_type": "markdown",
   "id": "05c58a6b",
   "metadata": {},
   "source": [
    "#### post"
   ]
  },
  {
   "cell_type": "code",
   "execution_count": 22,
   "id": "8193a818",
   "metadata": {},
   "outputs": [
    {
     "data": {
      "text/plain": [
       "True"
      ]
     },
     "execution_count": 22,
     "metadata": {},
     "output_type": "execute_result"
    }
   ],
   "source": [
    "await db.add_post(Post.from_keys(post_id=-1, message_link='https://example.com/post1'))"
   ]
  },
  {
   "cell_type": "code",
   "execution_count": 23,
   "id": "c7c010dc",
   "metadata": {},
   "outputs": [
    {
     "data": {
      "text/plain": [
       "Post(-1, unvalidated, https://example.com/post1)"
      ]
     },
     "execution_count": 23,
     "metadata": {},
     "output_type": "execute_result"
    }
   ],
   "source": [
    "await db.get_post(-1)"
   ]
  },
  {
   "cell_type": "code",
   "execution_count": 24,
   "id": "689d2760",
   "metadata": {},
   "outputs": [
    {
     "data": {
      "text/plain": [
       "True"
      ]
     },
     "execution_count": 24,
     "metadata": {},
     "output_type": "execute_result"
    }
   ],
   "source": [
    "await db.update_post(-1, {'message_link': 'https://example.com/updated_post1'})"
   ]
  },
  {
   "cell_type": "code",
   "execution_count": 25,
   "id": "e0b483f8",
   "metadata": {},
   "outputs": [
    {
     "data": {
      "text/plain": [
       "True"
      ]
     },
     "execution_count": 25,
     "metadata": {},
     "output_type": "execute_result"
    }
   ],
   "source": [
    "await db.delete_post(-1)"
   ]
  },
  {
   "cell_type": "markdown",
   "id": "01c6938a",
   "metadata": {},
   "source": [
    "#### task"
   ]
  },
  {
   "cell_type": "code",
   "execution_count": 26,
   "id": "d61d35b5",
   "metadata": {},
   "outputs": [
    {
     "data": {
      "text/plain": [
       "True"
      ]
     },
     "execution_count": 26,
     "metadata": {},
     "output_type": "execute_result"
    }
   ],
   "source": [
    "await db.add_task(Task(-1, 'db test', [-1], [], []))"
   ]
  },
  {
   "cell_type": "code",
   "execution_count": 27,
   "id": "28af0590",
   "metadata": {},
   "outputs": [
    {
     "data": {
      "text/plain": [
       "Task(-1, db test, PENDING, 2025-08-26T21:01:42.279120, 2025-08-26T21:01:42.279120)"
      ]
     },
     "execution_count": 27,
     "metadata": {},
     "output_type": "execute_result"
    }
   ],
   "source": [
    "await db.get_task(-1)"
   ]
  },
  {
   "cell_type": "code",
   "execution_count": 28,
   "id": "d847aad0",
   "metadata": {},
   "outputs": [
    {
     "data": {
      "text/plain": [
       "False"
      ]
     },
     "execution_count": 28,
     "metadata": {},
     "output_type": "execute_result"
    }
   ],
   "source": [
    "await db.update_task('-1', {'name': 'updated db test'})"
   ]
  },
  {
   "cell_type": "code",
   "execution_count": 29,
   "id": "880c51cb",
   "metadata": {},
   "outputs": [
    {
     "data": {
      "text/plain": [
       "False"
      ]
     },
     "execution_count": 29,
     "metadata": {},
     "output_type": "execute_result"
    }
   ],
   "source": [
    "await db.delete_task('-1')"
   ]
  },
  {
   "cell_type": "markdown",
   "id": "0fdec9c2",
   "metadata": {},
   "source": [
    "## Event viewer"
   ]
  },
  {
   "cell_type": "code",
   "execution_count": 1,
   "id": "6f056aaf",
   "metadata": {},
   "outputs": [],
   "source": [
    "from reporter import RunEventManager\n",
    "eventManager = RunEventManager()"
   ]
  },
  {
   "cell_type": "code",
   "execution_count": 2,
   "id": "3ffa87b5",
   "metadata": {},
   "outputs": [
    {
     "data": {
      "text/html": [
       "<div>\n",
       "<style scoped>\n",
       "    .dataframe tbody tr th:only-of-type {\n",
       "        vertical-align: middle;\n",
       "    }\n",
       "\n",
       "    .dataframe tbody tr th {\n",
       "        vertical-align: top;\n",
       "    }\n",
       "\n",
       "    .dataframe thead th {\n",
       "        text-align: right;\n",
       "    }\n",
       "</style>\n",
       "<table border=\"1\" class=\"dataframe\">\n",
       "  <thead>\n",
       "    <tr style=\"text-align: right;\">\n",
       "      <th></th>\n",
       "      <th>task_id</th>\n",
       "      <th>run_count</th>\n",
       "    </tr>\n",
       "  </thead>\n",
       "  <tbody>\n",
       "    <tr>\n",
       "      <th>0</th>\n",
       "      <td>0</td>\n",
       "      <td>1</td>\n",
       "    </tr>\n",
       "    <tr>\n",
       "      <th>1</th>\n",
       "      <td>-1</td>\n",
       "      <td>6</td>\n",
       "    </tr>\n",
       "  </tbody>\n",
       "</table>\n",
       "</div>"
      ],
      "text/plain": [
       "   task_id  run_count\n",
       "0        0          1\n",
       "1       -1          6"
      ]
     },
     "execution_count": 2,
     "metadata": {},
     "output_type": "execute_result"
    }
   ],
   "source": [
    "await eventManager.get_tasks()"
   ]
  }
 ],
 "metadata": {
  "kernelspec": {
   "display_name": ".venv",
   "language": "python",
   "name": "python3"
  },
  "language_info": {
   "codemirror_mode": {
    "name": "ipython",
    "version": 3
   },
   "file_extension": ".py",
   "mimetype": "text/x-python",
   "name": "python",
   "nbconvert_exporter": "python",
   "pygments_lexer": "ipython3",
   "version": "3.12.6"
  }
 },
 "nbformat": 4,
 "nbformat_minor": 5
}
