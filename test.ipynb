{
 "cells": [
  {
   "cell_type": "markdown",
   "id": "51522fcd",
   "metadata": {},
   "source": [
    "### Task test"
   ]
  },
  {
   "cell_type": "code",
   "execution_count": null,
   "id": "ea211796",
   "metadata": {},
   "outputs": [
    {
     "name": "stdout",
     "output_type": "stream",
     "text": [
      "2025-09-07 20:28:11 - DB   - INFO    - Initializing MongoDB client and collections.\n",
      "2025-09-07 20:28:11 - DB   - INFO    - Getting task from MongoDB with task_id: 3\n",
      "2025-09-07 20:28:11 - DB   - DEBUG   - Task found in MongoDB: {'task_id': 3, 'name': 'Test task created in code', 'description': 'Just a test task', 'post_ids': [6, 7, 8], 'accounts': ['+19283944162', '+19708267255', '+18563995311'], 'action': {'type': 'react', 'palette': 'negative'}, 'status': 'CRASHED', 'created_at': '2025-09-02T19:47:34.217079', 'updated_at': '2025-09-02T19:47:34.217079'}\n",
      "2025-09-07 20:28:11 - main - INFO    - Starting task 3 - Test task created in code...\n",
      "2025-09-07 20:28:11 - DB   - INFO    - Updating task 3 in MongoDB with data: {'status': 'RUNNING'}\n",
      "2025-09-07 20:28:11 - DB   - DEBUG   - Task 3 update result: 1\n",
      "2025-09-07 20:28:11 - DB   - INFO    - Loading all accounts from MongoDB.\n",
      "2025-09-07 20:28:11 - DB   - DEBUG   - Loaded 3 accounts from MongoDB.\n",
      "2025-09-07 20:28:11 - DB   - INFO    - Loading all posts from MongoDB.\n",
      "2025-09-07 20:28:11 - DB   - DEBUG   - Loaded 8 posts from MongoDB.\n",
      "2025-09-07 20:28:11 - main - INFO    - Connecting clients for 3 accounts...\n",
      "2025-09-07 20:28:11 - +18563995311 - INFO    - Initializing client for +18563995311. Awaiting connection...\n",
      "2025-09-07 20:28:11 - +19283944162 - INFO    - Initializing client for +19283944162. Awaiting connection...\n",
      "2025-09-07 20:28:11 - +19708267255 - INFO    - Initializing client for +19708267255. Awaiting connection...\n",
      "2025-09-07 20:28:13 - +18563995311 - DEBUG   - Client for +18563995311 started successfully.\n",
      "2025-09-07 20:28:13 - +19708267255 - DEBUG   - Client for +19708267255 started successfully.\n",
      "2025-09-07 20:28:13 - +19283944162 - DEBUG   - Client for +19283944162 started successfully.\n",
      "2025-09-07 20:28:13 - main - INFO    - Connected clients for 3 accounts.\n",
      "2025-09-07 20:28:13 - main - INFO    - Validating 3 posts...\n",
      "2025-09-07 20:28:13 - main - INFO    - Validated 3 posts: 0 newly validated, 3 already validated, 0 failed validation.\n",
      "2025-09-07 20:28:13 - main - INFO    - Task 3 proceeding with action: react\n",
      "2025-09-07 20:28:13 - main - INFO    - Created 3 workers for task 3.\n",
      "2025-09-07 20:28:22 - +19708267255 - DEBUG   - Estimated reading time: 20.195 seconds\n",
      "2025-09-07 20:28:22 - +19283944162 - DEBUG   - Estimated reading time: 20.0 seconds\n",
      "2025-09-07 20:28:22 - +18563995311 - DEBUG   - Estimated reading time: 14.178 seconds\n",
      "2025-09-07 20:28:38 - +18563995311 - INFO    - Reaction added successfully\n",
      "2025-09-07 20:28:38 - main - DEBUG   - Client 8140224296 reacted to post 6\n",
      "2025-09-07 20:28:39 - +18563995311 - DEBUG   - Estimated reading time: 48.056 seconds\n",
      "2025-09-07 20:28:43 - +19283944162 - INFO    - Reaction added successfully\n",
      "2025-09-07 20:28:43 - main - DEBUG   - Client 8008781642 reacted to post 6\n",
      "2025-09-07 20:28:44 - +19708267255 - INFO    - Reaction added successfully\n",
      "2025-09-07 20:28:44 - main - DEBUG   - Client 8014401447 reacted to post 6\n",
      "2025-09-07 20:28:44 - +19283944162 - DEBUG   - Estimated reading time: 44.359 seconds\n",
      "2025-09-07 20:28:45 - +19708267255 - DEBUG   - Estimated reading time: 42.716 seconds\n",
      "2025-09-07 20:29:29 - +18563995311 - INFO    - Reaction added successfully\n",
      "2025-09-07 20:29:29 - main - DEBUG   - Client 8140224296 reacted to post 7\n",
      "2025-09-07 20:29:29 - +19708267255 - INFO    - Reaction added successfully\n",
      "2025-09-07 20:29:29 - main - DEBUG   - Client 8014401447 reacted to post 7\n",
      "2025-09-07 20:29:29 - +18563995311 - WARNING - React failed (attempt 1/3): 'NoneType' object has no attribute 'id'\n",
      "2025-09-07 20:29:30 - +19708267255 - WARNING - React failed (attempt 1/3): 'NoneType' object has no attribute 'id'\n",
      "2025-09-07 20:29:30 - +19283944162 - INFO    - Reaction added successfully\n",
      "2025-09-07 20:29:30 - main - DEBUG   - Client 8008781642 reacted to post 7\n",
      "2025-09-07 20:29:31 - +19283944162 - WARNING - React failed (attempt 1/3): 'NoneType' object has no attribute 'id'\n",
      "2025-09-07 20:29:32 - +18563995311 - WARNING - React failed (attempt 2/3): 'NoneType' object has no attribute 'id'\n",
      "2025-09-07 20:29:32 - +19708267255 - WARNING - React failed (attempt 2/3): 'NoneType' object has no attribute 'id'\n",
      "2025-09-07 20:29:33 - +19283944162 - WARNING - React failed (attempt 2/3): 'NoneType' object has no attribute 'id'\n",
      "2025-09-07 20:29:34 - +18563995311 - WARNING - React failed (attempt 3/3): 'NoneType' object has no attribute 'id'\n",
      "2025-09-07 20:29:34 - main - WARNING - Client 8140224296 failed to react to post 8: 'NoneType' object has no attribute 'id'\n",
      "2025-09-07 20:29:35 - +19708267255 - WARNING - React failed (attempt 3/3): 'NoneType' object has no attribute 'id'\n",
      "2025-09-07 20:29:35 - main - WARNING - Client 8014401447 failed to react to post 8: 'NoneType' object has no attribute 'id'\n",
      "2025-09-07 20:29:36 - +19283944162 - WARNING - React failed (attempt 3/3): 'NoneType' object has no attribute 'id'\n",
      "2025-09-07 20:29:36 - main - WARNING - Client 8008781642 failed to react to post 8: 'NoneType' object has no attribute 'id'\n",
      "2025-09-07 20:29:36 - main - INFO    - All workers for task 3 have finished executing.\n",
      "2025-09-07 20:29:36 - main - ERROR   - Error in worker for client 8140224296: 'NoneType' object has no attribute 'id'\n",
      "2025-09-07 20:29:36 - main - ERROR   - Error in worker for client 8008781642: 'NoneType' object has no attribute 'id'\n",
      "2025-09-07 20:29:36 - main - ERROR   - Error in worker for client 8014401447: 'NoneType' object has no attribute 'id'\n",
      "2025-09-07 20:29:36 - main - INFO    - Disconnecting 3 clients...\n",
      "2025-09-07 20:29:36 - +18563995311 - INFO    - Client for +18563995311 disconnected.\n",
      "2025-09-07 20:29:36 - +19283944162 - INFO    - Client for +19283944162 disconnected.\n",
      "2025-09-07 20:29:36 - +19708267255 - INFO    - Client for +19708267255 disconnected.\n",
      "2025-09-07 20:29:36 - main - INFO    - Disconnected 3 clients.\n",
      "2025-09-07 20:29:36 - DB   - INFO    - Updating task 3 in MongoDB with data: {'status': 'FINISHED'}\n",
      "2025-09-07 20:29:36 - DB   - DEBUG   - Task 3 update result: 1\n",
      "2025-09-07 20:29:36 - main - INFO    - Task 3 completed successfully.\n"
     ]
    }
   ],
   "source": [
    "from taskhandler import *\n",
    "from database import get_db\n",
    "db = get_db()"
   ]
  },
  {
   "cell_type": "code",
   "execution_count": 2,
   "id": "fb67928c",
   "metadata": {},
   "outputs": [],
   "source": [
    "# \n",
    "# tyt byw ura mhwah\n",
    "# heh"
   ]
  },
  {
   "cell_type": "code",
   "execution_count": 4,
   "id": "451ef7f6",
   "metadata": {},
   "outputs": [
    {
     "data": {
      "text/plain": [
       "{'task_id': 3,\n",
       " 'name': 'Test task created in code',\n",
       " 'description': 'Just a test task',\n",
       " 'post_ids': [6, 7, 8],\n",
       " 'accounts': ['+19283944162', '+19708267255', '+18563995311'],\n",
       " 'action': {'type': 'react', 'palette': 'negative'},\n",
       " 'status': 'CRASHED',\n",
       " 'created_at': '2025-09-02T19:47:34.217079',\n",
       " 'updated_at': '2025-09-02T19:47:34.217079'}"
      ]
     },
     "execution_count": 4,
     "metadata": {},
     "output_type": "execute_result"
    }
   ],
   "source": [
    "task = await db.get_task(3)\n",
    "task.to_dict()"
   ]
  },
  {
   "cell_type": "code",
   "execution_count": 5,
   "id": "bf194db0",
   "metadata": {},
   "outputs": [],
   "source": [
    "await task.start()"
   ]
  },
  {
   "cell_type": "code",
   "execution_count": 6,
   "id": "f5afe982",
   "metadata": {},
   "outputs": [
    {
     "data": {
      "text/plain": [
       "RUNNING"
      ]
     },
     "execution_count": 6,
     "metadata": {},
     "output_type": "execute_result"
    }
   ],
   "source": [
    "await task.get_status()"
   ]
  },
  {
   "cell_type": "code",
   "execution_count": 7,
   "id": "12989c37",
   "metadata": {},
   "outputs": [],
   "source": [
    "# await task.pause()\n",
    "# await task.resume()"
   ]
  },
  {
   "cell_type": "code",
   "execution_count": 8,
   "id": "efa01d7f",
   "metadata": {},
   "outputs": [],
   "source": [
    "# await task.pause()"
   ]
  },
  {
   "cell_type": "code",
   "execution_count": 9,
   "id": "b1a0f632",
   "metadata": {},
   "outputs": [],
   "source": [
    "# await task.resume()"
   ]
  },
  {
   "cell_type": "markdown",
   "id": "3f97c794",
   "metadata": {},
   "source": [
    "## DB tests"
   ]
  },
  {
   "cell_type": "markdown",
   "id": "fdc0f0de",
   "metadata": {},
   "source": [
    "### init"
   ]
  },
  {
   "cell_type": "code",
   "execution_count": 9,
   "id": "21346be2",
   "metadata": {},
   "outputs": [],
   "source": [
    "from database import get_db\n",
    "from agent import Account\n",
    "from taskhandler import Task, Post"
   ]
  },
  {
   "cell_type": "code",
   "execution_count": 10,
   "id": "3c22e705",
   "metadata": {},
   "outputs": [],
   "source": [
    "db = get_db()"
   ]
  },
  {
   "cell_type": "code",
   "execution_count": 11,
   "id": "5bca3cd3",
   "metadata": {},
   "outputs": [],
   "source": [
    "# client = await db.load_all_accounts()\n",
    "# client = client[0]\n",
    "# client = await client.create_connection()\n",
    "# client"
   ]
  },
  {
   "cell_type": "markdown",
   "id": "7dbb3a3c",
   "metadata": {},
   "source": [
    "### load"
   ]
  },
  {
   "cell_type": "code",
   "execution_count": 12,
   "id": "21a342f3",
   "metadata": {},
   "outputs": [
    {
     "data": {
      "text/plain": [
       "[Account(8140224296, +18563995311),\n",
       " Account(None, +19283944162),\n",
       " Account(None, +19708267255)]"
      ]
     },
     "execution_count": 12,
     "metadata": {},
     "output_type": "execute_result"
    }
   ],
   "source": [
    "await db.load_all_accounts()"
   ]
  },
  {
   "cell_type": "code",
   "execution_count": 13,
   "id": "e8754370",
   "metadata": {},
   "outputs": [
    {
     "data": {
      "text/plain": [
       "[Post(1, validated, https://t.me/c/2723750105/14),\n",
       " Post(2, validated, https://t.me/c/2723750105/15),\n",
       " Post(3, unvalidated, https://t.me/c/2723750105/16),\n",
       " Post(4, validated, https://t.me/c/2723750105/20),\n",
       " Post(5, validated, https://t.me/c/2723750105/18)]"
      ]
     },
     "execution_count": 13,
     "metadata": {},
     "output_type": "execute_result"
    }
   ],
   "source": [
    "await db.load_all_posts()"
   ]
  },
  {
   "cell_type": "code",
   "execution_count": 14,
   "id": "08a4bcf8",
   "metadata": {},
   "outputs": [
    {
     "data": {
      "text/plain": [
       "[Task(1, Test task name, PENDING, 2025-08-07 20:27:29.954892, 2025-08-07 20:27:29.954892),\n",
       " Task(0, Text reading speed test, PENDING, 2025-08-18 19:23:21.692553, 2025-08-18 19:23:21.693552)]"
      ]
     },
     "execution_count": 14,
     "metadata": {},
     "output_type": "execute_result"
    }
   ],
   "source": [
    "await db.load_all_tasks()"
   ]
  },
  {
   "cell_type": "markdown",
   "id": "dd956569",
   "metadata": {},
   "source": [
    "### save all"
   ]
  },
  {
   "cell_type": "code",
   "execution_count": 15,
   "id": "48caa219",
   "metadata": {},
   "outputs": [],
   "source": [
    "await db.save_all_accounts(await db.load_all_accounts())"
   ]
  },
  {
   "cell_type": "code",
   "execution_count": 16,
   "id": "e9db58d8",
   "metadata": {},
   "outputs": [],
   "source": [
    "await db.save_all_posts(await db.load_all_posts())"
   ]
  },
  {
   "cell_type": "code",
   "execution_count": 17,
   "id": "654301bd",
   "metadata": {},
   "outputs": [],
   "source": [
    "await db.save_all_tasks(await db.load_all_tasks())"
   ]
  },
  {
   "cell_type": "markdown",
   "id": "6eafa1ae",
   "metadata": {},
   "source": [
    "### add, update and delete"
   ]
  },
  {
   "cell_type": "markdown",
   "id": "eb9dd42b",
   "metadata": {},
   "source": [
    "#### account"
   ]
  },
  {
   "cell_type": "code",
   "execution_count": 18,
   "id": "8b0a1a88",
   "metadata": {},
   "outputs": [
    {
     "data": {
      "text/plain": [
       "True"
      ]
     },
     "execution_count": 18,
     "metadata": {},
     "output_type": "execute_result"
    }
   ],
   "source": [
    "await db.add_account(Account.from_keys(phone_number='+123'))"
   ]
  },
  {
   "cell_type": "code",
   "execution_count": 19,
   "id": "b2b72714",
   "metadata": {},
   "outputs": [
    {
     "data": {
      "text/plain": [
       "Account(None, +123)"
      ]
     },
     "execution_count": 19,
     "metadata": {},
     "output_type": "execute_result"
    }
   ],
   "source": [
    "await db.get_account('+123')"
   ]
  },
  {
   "cell_type": "code",
   "execution_count": 20,
   "id": "8fa039b1",
   "metadata": {},
   "outputs": [
    {
     "data": {
      "text/plain": [
       "True"
      ]
     },
     "execution_count": 20,
     "metadata": {},
     "output_type": "execute_result"
    }
   ],
   "source": [
    "await db.update_account('+123', {'session_name': 'new_session'})"
   ]
  },
  {
   "cell_type": "code",
   "execution_count": 21,
   "id": "8350521b",
   "metadata": {},
   "outputs": [
    {
     "data": {
      "text/plain": [
       "True"
      ]
     },
     "execution_count": 21,
     "metadata": {},
     "output_type": "execute_result"
    }
   ],
   "source": [
    "await db.delete_account('+123')"
   ]
  },
  {
   "cell_type": "markdown",
   "id": "05c58a6b",
   "metadata": {},
   "source": [
    "#### post"
   ]
  },
  {
   "cell_type": "code",
   "execution_count": 22,
   "id": "8193a818",
   "metadata": {},
   "outputs": [
    {
     "data": {
      "text/plain": [
       "True"
      ]
     },
     "execution_count": 22,
     "metadata": {},
     "output_type": "execute_result"
    }
   ],
   "source": [
    "await db.add_post(Post.from_keys(post_id=-1, message_link='https://example.com/post1'))"
   ]
  },
  {
   "cell_type": "code",
   "execution_count": 23,
   "id": "c7c010dc",
   "metadata": {},
   "outputs": [
    {
     "data": {
      "text/plain": [
       "Post(-1, unvalidated, https://example.com/post1)"
      ]
     },
     "execution_count": 23,
     "metadata": {},
     "output_type": "execute_result"
    }
   ],
   "source": [
    "await db.get_post(-1)"
   ]
  },
  {
   "cell_type": "code",
   "execution_count": 24,
   "id": "689d2760",
   "metadata": {},
   "outputs": [
    {
     "data": {
      "text/plain": [
       "True"
      ]
     },
     "execution_count": 24,
     "metadata": {},
     "output_type": "execute_result"
    }
   ],
   "source": [
    "await db.update_post(-1, {'message_link': 'https://example.com/updated_post1'})"
   ]
  },
  {
   "cell_type": "code",
   "execution_count": 25,
   "id": "e0b483f8",
   "metadata": {},
   "outputs": [
    {
     "data": {
      "text/plain": [
       "True"
      ]
     },
     "execution_count": 25,
     "metadata": {},
     "output_type": "execute_result"
    }
   ],
   "source": [
    "await db.delete_post(-1)"
   ]
  },
  {
   "cell_type": "markdown",
   "id": "01c6938a",
   "metadata": {},
   "source": [
    "#### task"
   ]
  },
  {
   "cell_type": "code",
   "execution_count": 26,
   "id": "d61d35b5",
   "metadata": {},
   "outputs": [
    {
     "data": {
      "text/plain": [
       "True"
      ]
     },
     "execution_count": 26,
     "metadata": {},
     "output_type": "execute_result"
    }
   ],
   "source": [
    "await db.add_task(Task(-1, 'db test', [-1], [], []))"
   ]
  },
  {
   "cell_type": "code",
   "execution_count": 27,
   "id": "28af0590",
   "metadata": {},
   "outputs": [
    {
     "data": {
      "text/plain": [
       "Task(-1, db test, PENDING, 2025-08-26T21:01:42.279120, 2025-08-26T21:01:42.279120)"
      ]
     },
     "execution_count": 27,
     "metadata": {},
     "output_type": "execute_result"
    }
   ],
   "source": [
    "await db.get_task(-1)"
   ]
  },
  {
   "cell_type": "code",
   "execution_count": 28,
   "id": "d847aad0",
   "metadata": {},
   "outputs": [
    {
     "data": {
      "text/plain": [
       "False"
      ]
     },
     "execution_count": 28,
     "metadata": {},
     "output_type": "execute_result"
    }
   ],
   "source": [
    "await db.update_task('-1', {'name': 'updated db test'})"
   ]
  },
  {
   "cell_type": "code",
   "execution_count": 29,
   "id": "880c51cb",
   "metadata": {},
   "outputs": [
    {
     "data": {
      "text/plain": [
       "False"
      ]
     },
     "execution_count": 29,
     "metadata": {},
     "output_type": "execute_result"
    }
   ],
   "source": [
    "await db.delete_task('-1')"
   ]
  },
  {
   "cell_type": "markdown",
   "id": "0fdec9c2",
   "metadata": {},
   "source": [
    "## Event viewer"
   ]
  },
  {
   "cell_type": "code",
   "execution_count": 11,
   "id": "6f056aaf",
   "metadata": {},
   "outputs": [],
   "source": [
    "from reporter import RunEventManager, create_report\n",
    "eventManager = RunEventManager()"
   ]
  },
  {
   "cell_type": "code",
   "execution_count": 36,
   "id": "3ffa87b5",
   "metadata": {},
   "outputs": [
    {
     "data": {
      "text/html": [
       "<div>\n",
       "<style scoped>\n",
       "    .dataframe tbody tr th:only-of-type {\n",
       "        vertical-align: middle;\n",
       "    }\n",
       "\n",
       "    .dataframe tbody tr th {\n",
       "        vertical-align: top;\n",
       "    }\n",
       "\n",
       "    .dataframe thead th {\n",
       "        text-align: right;\n",
       "    }\n",
       "</style>\n",
       "<table border=\"1\" class=\"dataframe\">\n",
       "  <thead>\n",
       "    <tr style=\"text-align: right;\">\n",
       "      <th></th>\n",
       "      <th>task_id</th>\n",
       "      <th>run_count</th>\n",
       "    </tr>\n",
       "  </thead>\n",
       "  <tbody>\n",
       "    <tr>\n",
       "      <th>0</th>\n",
       "      <td>3</td>\n",
       "      <td>33</td>\n",
       "    </tr>\n",
       "    <tr>\n",
       "      <th>1</th>\n",
       "      <td>1</td>\n",
       "      <td>7</td>\n",
       "    </tr>\n",
       "  </tbody>\n",
       "</table>\n",
       "</div>"
      ],
      "text/plain": [
       "   task_id  run_count\n",
       "0        3         33\n",
       "1        1          7"
      ]
     },
     "execution_count": 36,
     "metadata": {},
     "output_type": "execute_result"
    }
   ],
   "source": [
    "await eventManager.get_tasks()"
   ]
  },
  {
   "cell_type": "code",
   "execution_count": 13,
   "id": "9d9e38cb",
   "metadata": {},
   "outputs": [
    {
     "data": {
      "text/html": [
       "<div>\n",
       "<style scoped>\n",
       "    .dataframe tbody tr th:only-of-type {\n",
       "        vertical-align: middle;\n",
       "    }\n",
       "\n",
       "    .dataframe tbody tr th {\n",
       "        vertical-align: top;\n",
       "    }\n",
       "\n",
       "    .dataframe thead th {\n",
       "        text-align: right;\n",
       "    }\n",
       "</style>\n",
       "<table border=\"1\" class=\"dataframe\">\n",
       "  <thead>\n",
       "    <tr style=\"text-align: right;\">\n",
       "      <th></th>\n",
       "      <th>_id</th>\n",
       "      <th>run_id</th>\n",
       "      <th>task_id</th>\n",
       "      <th>started_at</th>\n",
       "      <th>finished_at</th>\n",
       "      <th>status</th>\n",
       "      <th>meta</th>\n",
       "      <th>event_count</th>\n",
       "    </tr>\n",
       "  </thead>\n",
       "  <tbody>\n",
       "    <tr>\n",
       "      <th>0</th>\n",
       "      <td>68bd9b3d87fac7bef366000d</td>\n",
       "      <td>2620967c-3df1-4a4b-bd14-ce5f467991fc</td>\n",
       "      <td>3</td>\n",
       "      <td>2025-09-07 14:48:29.248</td>\n",
       "      <td>NaT</td>\n",
       "      <td>persist_error</td>\n",
       "      <td>{'task_name': 'Test task created in code', 'ac...</td>\n",
       "      <td>2</td>\n",
       "    </tr>\n",
       "    <tr>\n",
       "      <th>1</th>\n",
       "      <td>68bd9aae503010c324c38d4b</td>\n",
       "      <td>20809c61-3acf-4ef8-992e-2573c5f0ad32</td>\n",
       "      <td>3</td>\n",
       "      <td>2025-09-07 14:46:06.880</td>\n",
       "      <td>2025-09-07 14:47:40.083</td>\n",
       "      <td>success</td>\n",
       "      <td>{'task_name': 'Test task created in code', 'ac...</td>\n",
       "      <td>25</td>\n",
       "    </tr>\n",
       "    <tr>\n",
       "      <th>2</th>\n",
       "      <td>68bd99fc503010c324c38d30</td>\n",
       "      <td>70e64404-05f3-4dc1-a75f-426c515d7197</td>\n",
       "      <td>3</td>\n",
       "      <td>2025-09-07 14:43:08.585</td>\n",
       "      <td>2025-09-07 14:44:26.832</td>\n",
       "      <td>success</td>\n",
       "      <td>{'task_name': 'Test task created in code', 'ac...</td>\n",
       "      <td>25</td>\n",
       "    </tr>\n",
       "    <tr>\n",
       "      <th>3</th>\n",
       "      <td>68bd98bb503010c324c38d15</td>\n",
       "      <td>1b469e15-d2cc-462b-a7b3-72ab3bb7796e</td>\n",
       "      <td>3</td>\n",
       "      <td>2025-09-07 14:37:47.260</td>\n",
       "      <td>2025-09-07 14:39:07.816</td>\n",
       "      <td>success</td>\n",
       "      <td>{'task_name': 'Test task created in code', 'ac...</td>\n",
       "      <td>25</td>\n",
       "    </tr>\n",
       "    <tr>\n",
       "      <th>4</th>\n",
       "      <td>68bd975397def6245285411e</td>\n",
       "      <td>a6aeb7b8-4615-49aa-8c6f-f381de29b349</td>\n",
       "      <td>3</td>\n",
       "      <td>2025-09-07 14:31:47.859</td>\n",
       "      <td>2025-09-07 14:33:10.942</td>\n",
       "      <td>success</td>\n",
       "      <td>{'task_name': 'Test task created in code', 'ac...</td>\n",
       "      <td>22</td>\n",
       "    </tr>\n",
       "    <tr>\n",
       "      <th>5</th>\n",
       "      <td>68bd96472897e4d57f98e9e0</td>\n",
       "      <td>295ccd76-8ce5-4534-ac6b-8f58b7954fa1</td>\n",
       "      <td>3</td>\n",
       "      <td>2025-09-07 14:27:19.625</td>\n",
       "      <td>2025-09-07 14:28:45.733</td>\n",
       "      <td>success</td>\n",
       "      <td>{'task_name': 'Test task created in code', 'ac...</td>\n",
       "      <td>22</td>\n",
       "    </tr>\n",
       "    <tr>\n",
       "      <th>6</th>\n",
       "      <td>68bd95def091d8b8d87adc33</td>\n",
       "      <td>38ca65e1-7dc1-4b56-8f9c-0bfbd13f70fb</td>\n",
       "      <td>3</td>\n",
       "      <td>2025-09-07 14:25:34.330</td>\n",
       "      <td>2025-09-07 14:26:58.667</td>\n",
       "      <td>persist_error</td>\n",
       "      <td>{'task_name': 'Test task created in code', 'ac...</td>\n",
       "      <td>22</td>\n",
       "    </tr>\n",
       "    <tr>\n",
       "      <th>7</th>\n",
       "      <td>68bd95c839c498d82acbe0fd</td>\n",
       "      <td>ea593976-d1c9-44f9-a0e1-1c596dfa4c13</td>\n",
       "      <td>3</td>\n",
       "      <td>2025-09-07 14:25:12.993</td>\n",
       "      <td>NaT</td>\n",
       "      <td>persist_error</td>\n",
       "      <td>{'task_name': 'Test task created in code', 'ac...</td>\n",
       "      <td>1</td>\n",
       "    </tr>\n",
       "    <tr>\n",
       "      <th>8</th>\n",
       "      <td>68bd8db81c85677681821871</td>\n",
       "      <td>46d35291-b4b0-4c55-bd5f-b9ea816521ca</td>\n",
       "      <td>3</td>\n",
       "      <td>2025-09-07 13:50:48.576</td>\n",
       "      <td>NaT</td>\n",
       "      <td>persist_error</td>\n",
       "      <td>{'task_name': 'Test task created in code', 'ac...</td>\n",
       "      <td>1</td>\n",
       "    </tr>\n",
       "    <tr>\n",
       "      <th>9</th>\n",
       "      <td>68bd8d961c8567768182186c</td>\n",
       "      <td>351a45fc-272b-4a22-8d0f-6b3316ab41d3</td>\n",
       "      <td>3</td>\n",
       "      <td>2025-09-07 13:50:14.701</td>\n",
       "      <td>NaT</td>\n",
       "      <td>persist_error</td>\n",
       "      <td>{'task_name': 'Test task created in code', 'ac...</td>\n",
       "      <td>1</td>\n",
       "    </tr>\n",
       "    <tr>\n",
       "      <th>10</th>\n",
       "      <td>68bc69579c843bb225add693</td>\n",
       "      <td>99e9dbee-c473-4453-9414-9e63336b4fc1</td>\n",
       "      <td>3</td>\n",
       "      <td>2025-09-06 17:03:19.578</td>\n",
       "      <td>2025-09-06 17:04:37.775</td>\n",
       "      <td>success</td>\n",
       "      <td>{'task_name': 'Test task created in code', 'ac...</td>\n",
       "      <td>25</td>\n",
       "    </tr>\n",
       "    <tr>\n",
       "      <th>11</th>\n",
       "      <td>68bc65839cbb5f24e8f6665c</td>\n",
       "      <td>5ff4abfe-1964-468f-8a1a-99d86b41e9ed</td>\n",
       "      <td>3</td>\n",
       "      <td>2025-09-06 16:46:59.782</td>\n",
       "      <td>2025-09-06 16:48:26.144</td>\n",
       "      <td>success</td>\n",
       "      <td>{'task_name': 'Test task created in code', 'ac...</td>\n",
       "      <td>25</td>\n",
       "    </tr>\n",
       "    <tr>\n",
       "      <th>12</th>\n",
       "      <td>68bc64fd8b93cb0015c470f2</td>\n",
       "      <td>d0b020fc-ef9f-4a33-bb15-340d8db6a2ed</td>\n",
       "      <td>3</td>\n",
       "      <td>2025-09-06 16:44:45.726</td>\n",
       "      <td>NaT</td>\n",
       "      <td>persist_error</td>\n",
       "      <td>{'task_name': 'Test task created in code', 'ac...</td>\n",
       "      <td>3</td>\n",
       "    </tr>\n",
       "    <tr>\n",
       "      <th>13</th>\n",
       "      <td>68bc61cadc6a3eeed99a686c</td>\n",
       "      <td>9bbaa8fa-7867-45e6-89d4-3c6923b01531</td>\n",
       "      <td>3</td>\n",
       "      <td>2025-09-06 16:31:06.849</td>\n",
       "      <td>NaT</td>\n",
       "      <td>persist_error</td>\n",
       "      <td>{'task_name': 'Test task created in code', 'ac...</td>\n",
       "      <td>3</td>\n",
       "    </tr>\n",
       "    <tr>\n",
       "      <th>14</th>\n",
       "      <td>68bc558a1d75ec4c323ccef5</td>\n",
       "      <td>56e6b0df-d44f-40e3-bf54-13157c42c263</td>\n",
       "      <td>3</td>\n",
       "      <td>2025-09-06 15:38:50.749</td>\n",
       "      <td>2025-09-06 15:40:26.762</td>\n",
       "      <td>success</td>\n",
       "      <td>{'task_name': 'Test task created in code', 'ac...</td>\n",
       "      <td>22</td>\n",
       "    </tr>\n",
       "    <tr>\n",
       "      <th>15</th>\n",
       "      <td>68b9d33711b39f33ffbc6647</td>\n",
       "      <td>e5a976ba-2ff5-434a-8e52-c1ed0c31d782</td>\n",
       "      <td>3</td>\n",
       "      <td>2025-09-04 17:58:15.622</td>\n",
       "      <td>2025-09-04 17:59:32.809</td>\n",
       "      <td>success</td>\n",
       "      <td>{'task_name': 'Test task created in code', 'ac...</td>\n",
       "      <td>22</td>\n",
       "    </tr>\n",
       "    <tr>\n",
       "      <th>16</th>\n",
       "      <td>68b9c6904121ac9b54d1e815</td>\n",
       "      <td>c59f904c-f30f-4866-acb5-201f79a432b4</td>\n",
       "      <td>3</td>\n",
       "      <td>2025-09-04 17:04:16.286</td>\n",
       "      <td>2025-09-04 17:05:44.174</td>\n",
       "      <td>success</td>\n",
       "      <td>{'task_name': 'Test task created in code', 'ac...</td>\n",
       "      <td>22</td>\n",
       "    </tr>\n",
       "    <tr>\n",
       "      <th>17</th>\n",
       "      <td>68b8099ab06dc9fbe9b5796e</td>\n",
       "      <td>e7e0ce69-46a9-46d0-aafa-7d572f4f8fb6</td>\n",
       "      <td>3</td>\n",
       "      <td>2025-09-03 09:25:46.261</td>\n",
       "      <td>2025-09-03 09:27:00.639</td>\n",
       "      <td>success</td>\n",
       "      <td>{'task_name': 'Test task created in code', 'ac...</td>\n",
       "      <td>22</td>\n",
       "    </tr>\n",
       "  </tbody>\n",
       "</table>\n",
       "</div>"
      ],
      "text/plain": [
       "                         _id                                run_id  task_id  \\\n",
       "0   68bd9b3d87fac7bef366000d  2620967c-3df1-4a4b-bd14-ce5f467991fc        3   \n",
       "1   68bd9aae503010c324c38d4b  20809c61-3acf-4ef8-992e-2573c5f0ad32        3   \n",
       "2   68bd99fc503010c324c38d30  70e64404-05f3-4dc1-a75f-426c515d7197        3   \n",
       "3   68bd98bb503010c324c38d15  1b469e15-d2cc-462b-a7b3-72ab3bb7796e        3   \n",
       "4   68bd975397def6245285411e  a6aeb7b8-4615-49aa-8c6f-f381de29b349        3   \n",
       "5   68bd96472897e4d57f98e9e0  295ccd76-8ce5-4534-ac6b-8f58b7954fa1        3   \n",
       "6   68bd95def091d8b8d87adc33  38ca65e1-7dc1-4b56-8f9c-0bfbd13f70fb        3   \n",
       "7   68bd95c839c498d82acbe0fd  ea593976-d1c9-44f9-a0e1-1c596dfa4c13        3   \n",
       "8   68bd8db81c85677681821871  46d35291-b4b0-4c55-bd5f-b9ea816521ca        3   \n",
       "9   68bd8d961c8567768182186c  351a45fc-272b-4a22-8d0f-6b3316ab41d3        3   \n",
       "10  68bc69579c843bb225add693  99e9dbee-c473-4453-9414-9e63336b4fc1        3   \n",
       "11  68bc65839cbb5f24e8f6665c  5ff4abfe-1964-468f-8a1a-99d86b41e9ed        3   \n",
       "12  68bc64fd8b93cb0015c470f2  d0b020fc-ef9f-4a33-bb15-340d8db6a2ed        3   \n",
       "13  68bc61cadc6a3eeed99a686c  9bbaa8fa-7867-45e6-89d4-3c6923b01531        3   \n",
       "14  68bc558a1d75ec4c323ccef5  56e6b0df-d44f-40e3-bf54-13157c42c263        3   \n",
       "15  68b9d33711b39f33ffbc6647  e5a976ba-2ff5-434a-8e52-c1ed0c31d782        3   \n",
       "16  68b9c6904121ac9b54d1e815  c59f904c-f30f-4866-acb5-201f79a432b4        3   \n",
       "17  68b8099ab06dc9fbe9b5796e  e7e0ce69-46a9-46d0-aafa-7d572f4f8fb6        3   \n",
       "\n",
       "                started_at             finished_at         status  \\\n",
       "0  2025-09-07 14:48:29.248                     NaT  persist_error   \n",
       "1  2025-09-07 14:46:06.880 2025-09-07 14:47:40.083        success   \n",
       "2  2025-09-07 14:43:08.585 2025-09-07 14:44:26.832        success   \n",
       "3  2025-09-07 14:37:47.260 2025-09-07 14:39:07.816        success   \n",
       "4  2025-09-07 14:31:47.859 2025-09-07 14:33:10.942        success   \n",
       "5  2025-09-07 14:27:19.625 2025-09-07 14:28:45.733        success   \n",
       "6  2025-09-07 14:25:34.330 2025-09-07 14:26:58.667  persist_error   \n",
       "7  2025-09-07 14:25:12.993                     NaT  persist_error   \n",
       "8  2025-09-07 13:50:48.576                     NaT  persist_error   \n",
       "9  2025-09-07 13:50:14.701                     NaT  persist_error   \n",
       "10 2025-09-06 17:03:19.578 2025-09-06 17:04:37.775        success   \n",
       "11 2025-09-06 16:46:59.782 2025-09-06 16:48:26.144        success   \n",
       "12 2025-09-06 16:44:45.726                     NaT  persist_error   \n",
       "13 2025-09-06 16:31:06.849                     NaT  persist_error   \n",
       "14 2025-09-06 15:38:50.749 2025-09-06 15:40:26.762        success   \n",
       "15 2025-09-04 17:58:15.622 2025-09-04 17:59:32.809        success   \n",
       "16 2025-09-04 17:04:16.286 2025-09-04 17:05:44.174        success   \n",
       "17 2025-09-03 09:25:46.261 2025-09-03 09:27:00.639        success   \n",
       "\n",
       "                                                 meta  event_count  \n",
       "0   {'task_name': 'Test task created in code', 'ac...            2  \n",
       "1   {'task_name': 'Test task created in code', 'ac...           25  \n",
       "2   {'task_name': 'Test task created in code', 'ac...           25  \n",
       "3   {'task_name': 'Test task created in code', 'ac...           25  \n",
       "4   {'task_name': 'Test task created in code', 'ac...           22  \n",
       "5   {'task_name': 'Test task created in code', 'ac...           22  \n",
       "6   {'task_name': 'Test task created in code', 'ac...           22  \n",
       "7   {'task_name': 'Test task created in code', 'ac...            1  \n",
       "8   {'task_name': 'Test task created in code', 'ac...            1  \n",
       "9   {'task_name': 'Test task created in code', 'ac...            1  \n",
       "10  {'task_name': 'Test task created in code', 'ac...           25  \n",
       "11  {'task_name': 'Test task created in code', 'ac...           25  \n",
       "12  {'task_name': 'Test task created in code', 'ac...            3  \n",
       "13  {'task_name': 'Test task created in code', 'ac...            3  \n",
       "14  {'task_name': 'Test task created in code', 'ac...           22  \n",
       "15  {'task_name': 'Test task created in code', 'ac...           22  \n",
       "16  {'task_name': 'Test task created in code', 'ac...           22  \n",
       "17  {'task_name': 'Test task created in code', 'ac...           22  "
      ]
     },
     "execution_count": 13,
     "metadata": {},
     "output_type": "execute_result"
    }
   ],
   "source": [
    "await eventManager.get_runs(3)"
   ]
  },
  {
   "cell_type": "code",
   "execution_count": 57,
   "id": "7dd852e6",
   "metadata": {},
   "outputs": [
    {
     "data": {
      "text/html": [
       "<div>\n",
       "<style scoped>\n",
       "    .dataframe tbody tr th:only-of-type {\n",
       "        vertical-align: middle;\n",
       "    }\n",
       "\n",
       "    .dataframe tbody tr th {\n",
       "        vertical-align: top;\n",
       "    }\n",
       "\n",
       "    .dataframe thead th {\n",
       "        text-align: right;\n",
       "    }\n",
       "</style>\n",
       "<table border=\"1\" class=\"dataframe\">\n",
       "  <thead>\n",
       "    <tr style=\"text-align: right;\">\n",
       "      <th></th>\n",
       "      <th>_id</th>\n",
       "      <th>run_id</th>\n",
       "      <th>task_id</th>\n",
       "      <th>ts</th>\n",
       "      <th>level</th>\n",
       "      <th>message</th>\n",
       "      <th>payload</th>\n",
       "      <th>event_type</th>\n",
       "      <th>action_type</th>\n",
       "    </tr>\n",
       "  </thead>\n",
       "  <tbody>\n",
       "    <tr>\n",
       "      <th>0</th>\n",
       "      <td>68bd9b3d87fac7bef366000f</td>\n",
       "      <td>2620967c-3df1-4a4b-bd14-ce5f467991fc</td>\n",
       "      <td>3</td>\n",
       "      <td>2025-09-07 14:48:29.258</td>\n",
       "      <td>ERROR</td>\n",
       "      <td>Unhandled error, run failed: catching classes ...</td>\n",
       "      <td>{'error': 'TypeError('catching classes that do...</td>\n",
       "      <td>error</td>\n",
       "      <td>run_failed</td>\n",
       "    </tr>\n",
       "  </tbody>\n",
       "</table>\n",
       "</div>"
      ],
      "text/plain": [
       "                        _id                                run_id  task_id  \\\n",
       "0  68bd9b3d87fac7bef366000f  2620967c-3df1-4a4b-bd14-ce5f467991fc        3   \n",
       "\n",
       "                       ts  level  \\\n",
       "0 2025-09-07 14:48:29.258  ERROR   \n",
       "\n",
       "                                             message  \\\n",
       "0  Unhandled error, run failed: catching classes ...   \n",
       "\n",
       "                                             payload event_type action_type  \n",
       "0  {'error': 'TypeError('catching classes that do...      error  run_failed  "
      ]
     },
     "execution_count": 57,
     "metadata": {},
     "output_type": "execute_result"
    }
   ],
   "source": [
    "data = await create_report(await eventManager.get_events('2620967c-3df1-4a4b-bd14-ce5f467991fc'), type='errors')\n",
    "data"
   ]
  },
  {
   "cell_type": "markdown",
   "id": "027e3209",
   "metadata": {},
   "source": [
    "### Test"
   ]
  },
  {
   "cell_type": "code",
   "execution_count": null,
   "id": "62811ce3",
   "metadata": {},
   "outputs": [],
   "source": []
  }
 ],
 "metadata": {
  "kernelspec": {
   "display_name": ".venv",
   "language": "python",
   "name": "python3"
  },
  "language_info": {
   "codemirror_mode": {
    "name": "ipython",
    "version": 3
   },
   "file_extension": ".py",
   "mimetype": "text/x-python",
   "name": "python",
   "nbconvert_exporter": "python",
   "pygments_lexer": "ipython3",
   "version": "3.12.6"
  }
 },
 "nbformat": 4,
 "nbformat_minor": 5
}
