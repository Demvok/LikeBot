{
 "cells": [
  {
   "cell_type": "markdown",
   "id": "51522fcd",
   "metadata": {},
   "source": [
    "### Task test"
   ]
  },
  {
   "cell_type": "code",
   "execution_count": 1,
   "id": "ea211796",
   "metadata": {},
   "outputs": [],
   "source": [
    "from taskhandler import *\n",
    "from database import get_db\n",
    "from logger import setup_logger\n",
    "logger = setup_logger(\"main\", \"main.log\")\n",
    "Task.logger = logger\n",
    "db = get_db()"
   ]
  },
  {
   "cell_type": "code",
   "execution_count": 2,
   "id": "fb67928c",
   "metadata": {},
   "outputs": [],
   "source": [
    "# \n",
    "# tyt byw ura mhwah\n",
    "# heh"
   ]
  },
  {
   "cell_type": "code",
   "execution_count": 3,
   "id": "f747d867",
   "metadata": {},
   "outputs": [],
   "source": [
    "# client = await db.load_all_accounts()\n",
    "# client = await client[0].create_connection()\n",
    "# client"
   ]
  },
  {
   "cell_type": "code",
   "execution_count": 4,
   "id": "2749c17b",
   "metadata": {},
   "outputs": [
    {
     "name": "stdout",
     "output_type": "stream",
     "text": [
      "2025-09-02 20:10:02 - DB   - INFO  - Initializing MongoDB client and collections.\n",
      "2025-09-02 20:10:02 - DB   - INFO  - Loading all tasks from MongoDB.\n",
      "2025-09-02 20:10:02 - DB   - DEBUG - Loaded 4 tasks from MongoDB.\n"
     ]
    },
    {
     "data": {
      "text/plain": [
       "{'task_id': 0,\n",
       " 'name': 'Text reading speed test',\n",
       " 'description': 'A task to measure text reading speed.',\n",
       " 'post_ids': [2],\n",
       " 'accounts': ['+18563995311'],\n",
       " 'action': {'type': 'react', 'palette': 'positive'},\n",
       " 'status': 'PENDING',\n",
       " 'created_at': '2025-08-18T19:23:21.692553',\n",
       " 'updated_at': '2025-08-18T19:23:21.693552'}"
      ]
     },
     "execution_count": 4,
     "metadata": {},
     "output_type": "execute_result"
    }
   ],
   "source": [
    "tasks = await db.load_all_tasks()\n",
    "task = tasks[1]\n",
    "task.to_dict()"
   ]
  },
  {
   "cell_type": "code",
   "execution_count": 5,
   "id": "451ef7f6",
   "metadata": {},
   "outputs": [
    {
     "name": "stdout",
     "output_type": "stream",
     "text": [
      "2025-09-02 20:10:02 - DB   - INFO  - Getting task from MongoDB with task_id: 3\n",
      "2025-09-02 20:10:02 - DB   - DEBUG - Task found in MongoDB: {'task_id': 3, 'name': 'Test task created in code', 'description': 'Just a test task', 'post_ids': [6, 7], 'accounts': ['+19283944162', '+19708267255', '+18563995311'], 'action': {'type': 'react', 'palette': 'positive'}, 'status': 'PENDING', 'created_at': '2025-09-02T19:47:34.217079', 'updated_at': '2025-09-02T19:47:34.217079'}\n"
     ]
    },
    {
     "data": {
      "text/plain": [
       "{'task_id': 3,\n",
       " 'name': 'Test task created in code',\n",
       " 'description': 'Just a test task',\n",
       " 'post_ids': [6, 7],\n",
       " 'accounts': ['+19283944162', '+19708267255', '+18563995311'],\n",
       " 'action': {'type': 'react', 'palette': 'positive'},\n",
       " 'status': 'PENDING',\n",
       " 'created_at': '2025-09-02T19:47:34.217079',\n",
       " 'updated_at': '2025-09-02T19:47:34.217079'}"
      ]
     },
     "execution_count": 5,
     "metadata": {},
     "output_type": "execute_result"
    }
   ],
   "source": [
    "task = await db.get_task(3)\n",
    "task.to_dict()"
   ]
  },
  {
   "cell_type": "code",
   "execution_count": null,
   "id": "bf194db0",
   "metadata": {},
   "outputs": [
    {
     "name": "stdout",
     "output_type": "stream",
     "text": [
      "2025-09-02 20:10:02 - main - INFO  - Starting task 3 - Test task created in code...\n"
     ]
    },
    {
     "name": "stdout",
     "output_type": "stream",
     "text": [
      "2025-09-02 20:10:02 - DB   - INFO  - Loading all accounts from MongoDB.\n",
      "2025-09-02 20:10:02 - DB   - DEBUG - Loaded 3 accounts from MongoDB.\n",
      "2025-09-02 20:10:02 - DB   - INFO  - Loading all posts from MongoDB.\n",
      "2025-09-02 20:10:02 - DB   - DEBUG - Loaded 7 posts from MongoDB.\n",
      "2025-09-02 20:10:02 - main - INFO  - Connecting clients for 3 accounts...\n",
      "2025-09-02 20:10:02 - +18563995311 - INFO  - Initializing client for +18563995311. Awaiting connection...\n",
      "2025-09-02 20:10:04 - +18563995311 - DEBUG - Client for +18563995311 started successfully.\n",
      "2025-09-02 20:10:04 - +19283944162 - INFO  - Initializing client for +19283944162. Awaiting connection...\n",
      "2025-09-02 20:10:06 - +19283944162 - DEBUG - Client for +19283944162 started successfully.\n",
      "2025-09-02 20:10:06 - +19708267255 - INFO  - Initializing client for +19708267255. Awaiting connection...\n",
      "2025-09-02 20:10:08 - +19708267255 - DEBUG - Client for +19708267255 started successfully.\n",
      "2025-09-02 20:10:08 - main - INFO  - Connected clients for 3 accounts.\n",
      "2025-09-02 20:10:08 - main - INFO  - Validating 2 posts...\n",
      "2025-09-02 20:10:08 - main - INFO  - Validated 2 posts: 0 newly validated, 2 already validated, 0 failed validation.\n",
      "2025-09-02 20:10:08 - main - INFO  - Task 3 proceeding with action: react\n",
      "2025-09-02 20:10:08 - main - INFO  - Created 3 workers for task 3.\n",
      "2025-09-02 20:10:10 - +18563995311 - DEBUG - Estimated reading time: 21.451 seconds\n",
      "2025-09-02 20:10:10 - +19283944162 - DEBUG - Estimated reading time: 18.0 seconds\n",
      "2025-09-02 20:10:10 - +19708267255 - DEBUG - Estimated reading time: 16.829 seconds\n",
      "2025-09-02 20:10:29 - +19708267255 - INFO  - Reaction added successfully\n",
      "2025-09-02 20:10:29 - main - DEBUG - Client 8014401447 reacted to post 6\n",
      "2025-09-02 20:10:30 - +19283944162 - INFO  - Reaction added successfully\n",
      "2025-09-02 20:10:30 - main - DEBUG - Client 8008781642 reacted to post 6\n",
      "2025-09-02 20:10:30 - +19708267255 - DEBUG - Estimated reading time: 51.133 seconds\n",
      "2025-09-02 20:10:31 - +19283944162 - DEBUG - Estimated reading time: 39.468 seconds\n",
      "2025-09-02 20:10:33 - +18563995311 - INFO  - Reaction added successfully\n",
      "2025-09-02 20:10:33 - main - DEBUG - Client 8140224296 reacted to post 6\n",
      "2025-09-02 20:10:34 - +18563995311 - DEBUG - Estimated reading time: 42.541 seconds\n",
      "2025-09-02 20:11:11 - +19283944162 - INFO  - Reaction added successfully\n",
      "2025-09-02 20:11:11 - main - DEBUG - Client 8008781642 reacted to post 7\n",
      "2025-09-02 20:11:18 - +18563995311 - INFO  - Reaction added successfully\n",
      "2025-09-02 20:11:18 - main - DEBUG - Client 8140224296 reacted to post 7\n",
      "2025-09-02 20:11:22 - +19708267255 - INFO  - Reaction added successfully\n",
      "2025-09-02 20:11:22 - main - DEBUG - Client 8014401447 reacted to post 7\n",
      "2025-09-02 20:11:22 - main - INFO  - All workers for task 3 have finished executing.\n",
      "2025-09-02 20:11:22 - +18563995311 - INFO  - Client for +18563995311 disconnected.\n",
      "2025-09-02 20:11:22 - +19283944162 - INFO  - Client for +19283944162 disconnected.\n",
      "2025-09-02 20:11:22 - +19708267255 - INFO  - Client for +19708267255 disconnected.\n",
      "2025-09-02 20:11:22 - main - INFO  - Task 3 completed successfully.\n"
     ]
    }
   ],
   "source": [
    "await task.start()"
   ]
  },
  {
   "cell_type": "code",
   "execution_count": 11,
   "id": "f5afe982",
   "metadata": {},
   "outputs": [
    {
     "data": {
      "text/plain": [
       "FINISHED"
      ]
     },
     "execution_count": 11,
     "metadata": {},
     "output_type": "execute_result"
    }
   ],
   "source": [
    "await task.get_status()"
   ]
  },
  {
   "cell_type": "code",
   "execution_count": 8,
   "id": "efa01d7f",
   "metadata": {},
   "outputs": [],
   "source": [
    "# await task.pause()"
   ]
  },
  {
   "cell_type": "code",
   "execution_count": 9,
   "id": "b1a0f632",
   "metadata": {},
   "outputs": [],
   "source": [
    "# await task.resume()"
   ]
  },
  {
   "cell_type": "markdown",
   "id": "3f97c794",
   "metadata": {},
   "source": [
    "## DB tests"
   ]
  },
  {
   "cell_type": "markdown",
   "id": "fdc0f0de",
   "metadata": {},
   "source": [
    "### init"
   ]
  },
  {
   "cell_type": "code",
   "execution_count": 9,
   "id": "21346be2",
   "metadata": {},
   "outputs": [],
   "source": [
    "from database import get_db\n",
    "from agent import Account\n",
    "from taskhandler import Task, Post"
   ]
  },
  {
   "cell_type": "code",
   "execution_count": 10,
   "id": "3c22e705",
   "metadata": {},
   "outputs": [],
   "source": [
    "db = get_db()"
   ]
  },
  {
   "cell_type": "code",
   "execution_count": 11,
   "id": "5bca3cd3",
   "metadata": {},
   "outputs": [],
   "source": [
    "# client = await db.load_all_accounts()\n",
    "# client = client[0]\n",
    "# client = await client.create_connection()\n",
    "# client"
   ]
  },
  {
   "cell_type": "markdown",
   "id": "7dbb3a3c",
   "metadata": {},
   "source": [
    "### load"
   ]
  },
  {
   "cell_type": "code",
   "execution_count": 12,
   "id": "21a342f3",
   "metadata": {},
   "outputs": [
    {
     "data": {
      "text/plain": [
       "[Account(8140224296, +18563995311),\n",
       " Account(None, +19283944162),\n",
       " Account(None, +19708267255)]"
      ]
     },
     "execution_count": 12,
     "metadata": {},
     "output_type": "execute_result"
    }
   ],
   "source": [
    "await db.load_all_accounts()"
   ]
  },
  {
   "cell_type": "code",
   "execution_count": 13,
   "id": "e8754370",
   "metadata": {},
   "outputs": [
    {
     "data": {
      "text/plain": [
       "[Post(1, validated, https://t.me/c/2723750105/14),\n",
       " Post(2, validated, https://t.me/c/2723750105/15),\n",
       " Post(3, unvalidated, https://t.me/c/2723750105/16),\n",
       " Post(4, validated, https://t.me/c/2723750105/20),\n",
       " Post(5, validated, https://t.me/c/2723750105/18)]"
      ]
     },
     "execution_count": 13,
     "metadata": {},
     "output_type": "execute_result"
    }
   ],
   "source": [
    "await db.load_all_posts()"
   ]
  },
  {
   "cell_type": "code",
   "execution_count": 14,
   "id": "08a4bcf8",
   "metadata": {},
   "outputs": [
    {
     "data": {
      "text/plain": [
       "[Task(1, Test task name, PENDING, 2025-08-07 20:27:29.954892, 2025-08-07 20:27:29.954892),\n",
       " Task(0, Text reading speed test, PENDING, 2025-08-18 19:23:21.692553, 2025-08-18 19:23:21.693552)]"
      ]
     },
     "execution_count": 14,
     "metadata": {},
     "output_type": "execute_result"
    }
   ],
   "source": [
    "await db.load_all_tasks()"
   ]
  },
  {
   "cell_type": "markdown",
   "id": "dd956569",
   "metadata": {},
   "source": [
    "### save all"
   ]
  },
  {
   "cell_type": "code",
   "execution_count": 15,
   "id": "48caa219",
   "metadata": {},
   "outputs": [],
   "source": [
    "await db.save_all_accounts(await db.load_all_accounts())"
   ]
  },
  {
   "cell_type": "code",
   "execution_count": 16,
   "id": "e9db58d8",
   "metadata": {},
   "outputs": [],
   "source": [
    "await db.save_all_posts(await db.load_all_posts())"
   ]
  },
  {
   "cell_type": "code",
   "execution_count": 17,
   "id": "654301bd",
   "metadata": {},
   "outputs": [],
   "source": [
    "await db.save_all_tasks(await db.load_all_tasks())"
   ]
  },
  {
   "cell_type": "markdown",
   "id": "6eafa1ae",
   "metadata": {},
   "source": [
    "### add, update and delete"
   ]
  },
  {
   "cell_type": "markdown",
   "id": "eb9dd42b",
   "metadata": {},
   "source": [
    "#### account"
   ]
  },
  {
   "cell_type": "code",
   "execution_count": 18,
   "id": "8b0a1a88",
   "metadata": {},
   "outputs": [
    {
     "data": {
      "text/plain": [
       "True"
      ]
     },
     "execution_count": 18,
     "metadata": {},
     "output_type": "execute_result"
    }
   ],
   "source": [
    "await db.add_account(Account.from_keys(phone_number='+123'))"
   ]
  },
  {
   "cell_type": "code",
   "execution_count": 19,
   "id": "b2b72714",
   "metadata": {},
   "outputs": [
    {
     "data": {
      "text/plain": [
       "Account(None, +123)"
      ]
     },
     "execution_count": 19,
     "metadata": {},
     "output_type": "execute_result"
    }
   ],
   "source": [
    "await db.get_account('+123')"
   ]
  },
  {
   "cell_type": "code",
   "execution_count": 20,
   "id": "8fa039b1",
   "metadata": {},
   "outputs": [
    {
     "data": {
      "text/plain": [
       "True"
      ]
     },
     "execution_count": 20,
     "metadata": {},
     "output_type": "execute_result"
    }
   ],
   "source": [
    "await db.update_account('+123', {'session_name': 'new_session'})"
   ]
  },
  {
   "cell_type": "code",
   "execution_count": 21,
   "id": "8350521b",
   "metadata": {},
   "outputs": [
    {
     "data": {
      "text/plain": [
       "True"
      ]
     },
     "execution_count": 21,
     "metadata": {},
     "output_type": "execute_result"
    }
   ],
   "source": [
    "await db.delete_account('+123')"
   ]
  },
  {
   "cell_type": "markdown",
   "id": "05c58a6b",
   "metadata": {},
   "source": [
    "#### post"
   ]
  },
  {
   "cell_type": "code",
   "execution_count": 22,
   "id": "8193a818",
   "metadata": {},
   "outputs": [
    {
     "data": {
      "text/plain": [
       "True"
      ]
     },
     "execution_count": 22,
     "metadata": {},
     "output_type": "execute_result"
    }
   ],
   "source": [
    "await db.add_post(Post.from_keys(post_id=-1, message_link='https://example.com/post1'))"
   ]
  },
  {
   "cell_type": "code",
   "execution_count": 23,
   "id": "c7c010dc",
   "metadata": {},
   "outputs": [
    {
     "data": {
      "text/plain": [
       "Post(-1, unvalidated, https://example.com/post1)"
      ]
     },
     "execution_count": 23,
     "metadata": {},
     "output_type": "execute_result"
    }
   ],
   "source": [
    "await db.get_post(-1)"
   ]
  },
  {
   "cell_type": "code",
   "execution_count": 24,
   "id": "689d2760",
   "metadata": {},
   "outputs": [
    {
     "data": {
      "text/plain": [
       "True"
      ]
     },
     "execution_count": 24,
     "metadata": {},
     "output_type": "execute_result"
    }
   ],
   "source": [
    "await db.update_post(-1, {'message_link': 'https://example.com/updated_post1'})"
   ]
  },
  {
   "cell_type": "code",
   "execution_count": 25,
   "id": "e0b483f8",
   "metadata": {},
   "outputs": [
    {
     "data": {
      "text/plain": [
       "True"
      ]
     },
     "execution_count": 25,
     "metadata": {},
     "output_type": "execute_result"
    }
   ],
   "source": [
    "await db.delete_post(-1)"
   ]
  },
  {
   "cell_type": "markdown",
   "id": "01c6938a",
   "metadata": {},
   "source": [
    "#### task"
   ]
  },
  {
   "cell_type": "code",
   "execution_count": 26,
   "id": "d61d35b5",
   "metadata": {},
   "outputs": [
    {
     "data": {
      "text/plain": [
       "True"
      ]
     },
     "execution_count": 26,
     "metadata": {},
     "output_type": "execute_result"
    }
   ],
   "source": [
    "await db.add_task(Task(-1, 'db test', [-1], [], []))"
   ]
  },
  {
   "cell_type": "code",
   "execution_count": 27,
   "id": "28af0590",
   "metadata": {},
   "outputs": [
    {
     "data": {
      "text/plain": [
       "Task(-1, db test, PENDING, 2025-08-26T21:01:42.279120, 2025-08-26T21:01:42.279120)"
      ]
     },
     "execution_count": 27,
     "metadata": {},
     "output_type": "execute_result"
    }
   ],
   "source": [
    "await db.get_task(-1)"
   ]
  },
  {
   "cell_type": "code",
   "execution_count": 28,
   "id": "d847aad0",
   "metadata": {},
   "outputs": [
    {
     "data": {
      "text/plain": [
       "False"
      ]
     },
     "execution_count": 28,
     "metadata": {},
     "output_type": "execute_result"
    }
   ],
   "source": [
    "await db.update_task('-1', {'name': 'updated db test'})"
   ]
  },
  {
   "cell_type": "code",
   "execution_count": 29,
   "id": "880c51cb",
   "metadata": {},
   "outputs": [
    {
     "data": {
      "text/plain": [
       "False"
      ]
     },
     "execution_count": 29,
     "metadata": {},
     "output_type": "execute_result"
    }
   ],
   "source": [
    "await db.delete_task('-1')"
   ]
  },
  {
   "cell_type": "markdown",
   "id": "0fdec9c2",
   "metadata": {},
   "source": [
    "## Event viewer"
   ]
  },
  {
   "cell_type": "code",
   "execution_count": 4,
   "id": "6f056aaf",
   "metadata": {},
   "outputs": [],
   "source": [
    "from reporter import RunEventManager\n",
    "eventManager = RunEventManager()"
   ]
  },
  {
   "cell_type": "code",
   "execution_count": 5,
   "id": "3ffa87b5",
   "metadata": {},
   "outputs": [
    {
     "data": {
      "text/html": [
       "<div>\n",
       "<style scoped>\n",
       "    .dataframe tbody tr th:only-of-type {\n",
       "        vertical-align: middle;\n",
       "    }\n",
       "\n",
       "    .dataframe tbody tr th {\n",
       "        vertical-align: top;\n",
       "    }\n",
       "\n",
       "    .dataframe thead th {\n",
       "        text-align: right;\n",
       "    }\n",
       "</style>\n",
       "<table border=\"1\" class=\"dataframe\">\n",
       "  <thead>\n",
       "    <tr style=\"text-align: right;\">\n",
       "      <th></th>\n",
       "      <th>task_id</th>\n",
       "      <th>run_count</th>\n",
       "    </tr>\n",
       "  </thead>\n",
       "  <tbody>\n",
       "    <tr>\n",
       "      <th>0</th>\n",
       "      <td>3</td>\n",
       "      <td>1</td>\n",
       "    </tr>\n",
       "  </tbody>\n",
       "</table>\n",
       "</div>"
      ],
      "text/plain": [
       "   task_id  run_count\n",
       "0        3          1"
      ]
     },
     "execution_count": 5,
     "metadata": {},
     "output_type": "execute_result"
    }
   ],
   "source": [
    "await eventManager.get_tasks()"
   ]
  },
  {
   "cell_type": "code",
   "execution_count": 6,
   "id": "9d9e38cb",
   "metadata": {},
   "outputs": [
    {
     "data": {
      "text/html": [
       "<div>\n",
       "<style scoped>\n",
       "    .dataframe tbody tr th:only-of-type {\n",
       "        vertical-align: middle;\n",
       "    }\n",
       "\n",
       "    .dataframe tbody tr th {\n",
       "        vertical-align: top;\n",
       "    }\n",
       "\n",
       "    .dataframe thead th {\n",
       "        text-align: right;\n",
       "    }\n",
       "</style>\n",
       "<table border=\"1\" class=\"dataframe\">\n",
       "  <thead>\n",
       "    <tr style=\"text-align: right;\">\n",
       "      <th></th>\n",
       "      <th>_id</th>\n",
       "      <th>run_id</th>\n",
       "      <th>task_id</th>\n",
       "      <th>started_at</th>\n",
       "      <th>finished_at</th>\n",
       "      <th>status</th>\n",
       "      <th>meta</th>\n",
       "      <th>event_count</th>\n",
       "    </tr>\n",
       "  </thead>\n",
       "  <tbody>\n",
       "    <tr>\n",
       "      <th>0</th>\n",
       "      <td>68b724ea8eb185c7f128d859</td>\n",
       "      <td>af0deb8e-1536-4587-9910-cfda514e61de</td>\n",
       "      <td>3</td>\n",
       "      <td>2025-09-02 17:10:02.706</td>\n",
       "      <td>None</td>\n",
       "      <td>running</td>\n",
       "      <td>{'task_name': 'Test task created in code', 'ac...</td>\n",
       "      <td>22</td>\n",
       "    </tr>\n",
       "  </tbody>\n",
       "</table>\n",
       "</div>"
      ],
      "text/plain": [
       "                        _id                                run_id  task_id  \\\n",
       "0  68b724ea8eb185c7f128d859  af0deb8e-1536-4587-9910-cfda514e61de        3   \n",
       "\n",
       "               started_at finished_at   status  \\\n",
       "0 2025-09-02 17:10:02.706        None  running   \n",
       "\n",
       "                                                meta  event_count  \n",
       "0  {'task_name': 'Test task created in code', 'ac...           22  "
      ]
     },
     "execution_count": 6,
     "metadata": {},
     "output_type": "execute_result"
    }
   ],
   "source": [
    "await eventManager.get_runs(3)"
   ]
  },
  {
   "cell_type": "code",
   "execution_count": 23,
   "id": "87e2fbc8",
   "metadata": {},
   "outputs": [
    {
     "data": {
      "text/html": [
       "<div>\n",
       "<style scoped>\n",
       "    .dataframe tbody tr th:only-of-type {\n",
       "        vertical-align: middle;\n",
       "    }\n",
       "\n",
       "    .dataframe tbody tr th {\n",
       "        vertical-align: top;\n",
       "    }\n",
       "\n",
       "    .dataframe thead th {\n",
       "        text-align: right;\n",
       "    }\n",
       "</style>\n",
       "<table border=\"1\" class=\"dataframe\">\n",
       "  <thead>\n",
       "    <tr style=\"text-align: right;\">\n",
       "      <th></th>\n",
       "      <th>_id</th>\n",
       "      <th>run_id</th>\n",
       "      <th>task_id</th>\n",
       "      <th>ts</th>\n",
       "      <th>level</th>\n",
       "      <th>message</th>\n",
       "      <th>payload</th>\n",
       "      <th>event_type</th>\n",
       "      <th>action_type</th>\n",
       "      <th>details</th>\n",
       "    </tr>\n",
       "  </thead>\n",
       "  <tbody>\n",
       "    <tr>\n",
       "      <th>0</th>\n",
       "      <td>68b724eb8eb185c7f128d85a</td>\n",
       "      <td>af0deb8e-1536-4587-9910-cfda514e61de</td>\n",
       "      <td>3</td>\n",
       "      <td>2025-09-02 17:10:02.715</td>\n",
       "      <td>INFO</td>\n",
       "      <td>Starting run for task.</td>\n",
       "      <td>{}</td>\n",
       "      <td>info</td>\n",
       "      <td>init</td>\n",
       "      <td>run_start</td>\n",
       "    </tr>\n",
       "    <tr>\n",
       "      <th>1</th>\n",
       "      <td>68b724eb8eb185c7f128d85b</td>\n",
       "      <td>af0deb8e-1536-4587-9910-cfda514e61de</td>\n",
       "      <td>3</td>\n",
       "      <td>2025-09-02 17:10:02.728</td>\n",
       "      <td>DEBUG</td>\n",
       "      <td>Got accounts and posts objects.</td>\n",
       "      <td>{}</td>\n",
       "      <td>info</td>\n",
       "      <td>init</td>\n",
       "      <td>data_loaded</td>\n",
       "    </tr>\n",
       "    <tr>\n",
       "      <th>2</th>\n",
       "      <td>68b724f08eb185c7f128d85c</td>\n",
       "      <td>af0deb8e-1536-4587-9910-cfda514e61de</td>\n",
       "      <td>3</td>\n",
       "      <td>2025-09-02 17:10:08.435</td>\n",
       "      <td>INFO</td>\n",
       "      <td>Connected 3 clients.</td>\n",
       "      <td>{}</td>\n",
       "      <td>info</td>\n",
       "      <td>connecting</td>\n",
       "      <td>client_connect</td>\n",
       "    </tr>\n",
       "    <tr>\n",
       "      <th>3</th>\n",
       "      <td>68b724f08eb185c7f128d85d</td>\n",
       "      <td>af0deb8e-1536-4587-9910-cfda514e61de</td>\n",
       "      <td>3</td>\n",
       "      <td>2025-09-02 17:10:08.437</td>\n",
       "      <td>INFO</td>\n",
       "      <td>Validated 2 posts.</td>\n",
       "      <td>{}</td>\n",
       "      <td>info</td>\n",
       "      <td>connecting</td>\n",
       "      <td>posts_validated</td>\n",
       "    </tr>\n",
       "    <tr>\n",
       "      <th>4</th>\n",
       "      <td>68b724f08eb185c7f128d85e</td>\n",
       "      <td>af0deb8e-1536-4587-9910-cfda514e61de</td>\n",
       "      <td>3</td>\n",
       "      <td>2025-09-02 17:10:08.439</td>\n",
       "      <td>DEBUG</td>\n",
       "      <td>Proceeding to worker creation</td>\n",
       "      <td>{}</td>\n",
       "      <td>info</td>\n",
       "      <td>action</td>\n",
       "      <td>creating_workers</td>\n",
       "    </tr>\n",
       "    <tr>\n",
       "      <th>5</th>\n",
       "      <td>68b724f08eb185c7f128d85f</td>\n",
       "      <td>af0deb8e-1536-4587-9910-cfda514e61de</td>\n",
       "      <td>3</td>\n",
       "      <td>2025-09-02 17:10:08.440</td>\n",
       "      <td>INFO</td>\n",
       "      <td>Worker started for client +18563995311</td>\n",
       "      <td>{}</td>\n",
       "      <td>info</td>\n",
       "      <td>worker</td>\n",
       "      <td>None</td>\n",
       "    </tr>\n",
       "    <tr>\n",
       "      <th>6</th>\n",
       "      <td>68b724f08eb185c7f128d860</td>\n",
       "      <td>af0deb8e-1536-4587-9910-cfda514e61de</td>\n",
       "      <td>3</td>\n",
       "      <td>2025-09-02 17:10:08.440</td>\n",
       "      <td>DEBUG</td>\n",
       "      <td>Worker proceeds to reacting</td>\n",
       "      <td>{}</td>\n",
       "      <td>info</td>\n",
       "      <td>worker</td>\n",
       "      <td>None</td>\n",
       "    </tr>\n",
       "    <tr>\n",
       "      <th>7</th>\n",
       "      <td>68b724f08eb185c7f128d861</td>\n",
       "      <td>af0deb8e-1536-4587-9910-cfda514e61de</td>\n",
       "      <td>3</td>\n",
       "      <td>2025-09-02 17:10:08.442</td>\n",
       "      <td>INFO</td>\n",
       "      <td>Worker started for client +19283944162</td>\n",
       "      <td>{}</td>\n",
       "      <td>info</td>\n",
       "      <td>worker</td>\n",
       "      <td>None</td>\n",
       "    </tr>\n",
       "    <tr>\n",
       "      <th>8</th>\n",
       "      <td>68b724f08eb185c7f128d862</td>\n",
       "      <td>af0deb8e-1536-4587-9910-cfda514e61de</td>\n",
       "      <td>3</td>\n",
       "      <td>2025-09-02 17:10:08.442</td>\n",
       "      <td>DEBUG</td>\n",
       "      <td>Worker proceeds to reacting</td>\n",
       "      <td>{}</td>\n",
       "      <td>info</td>\n",
       "      <td>worker</td>\n",
       "      <td>None</td>\n",
       "    </tr>\n",
       "    <tr>\n",
       "      <th>9</th>\n",
       "      <td>68b724f08eb185c7f128d863</td>\n",
       "      <td>af0deb8e-1536-4587-9910-cfda514e61de</td>\n",
       "      <td>3</td>\n",
       "      <td>2025-09-02 17:10:08.442</td>\n",
       "      <td>INFO</td>\n",
       "      <td>Worker started for client +19708267255</td>\n",
       "      <td>{}</td>\n",
       "      <td>info</td>\n",
       "      <td>worker</td>\n",
       "      <td>None</td>\n",
       "    </tr>\n",
       "    <tr>\n",
       "      <th>10</th>\n",
       "      <td>68b724f08eb185c7f128d864</td>\n",
       "      <td>af0deb8e-1536-4587-9910-cfda514e61de</td>\n",
       "      <td>3</td>\n",
       "      <td>2025-09-02 17:10:08.442</td>\n",
       "      <td>DEBUG</td>\n",
       "      <td>Worker proceeds to reacting</td>\n",
       "      <td>{}</td>\n",
       "      <td>info</td>\n",
       "      <td>worker</td>\n",
       "      <td>None</td>\n",
       "    </tr>\n",
       "    <tr>\n",
       "      <th>11</th>\n",
       "      <td>68b725058eb185c7f128d865</td>\n",
       "      <td>af0deb8e-1536-4587-9910-cfda514e61de</td>\n",
       "      <td>3</td>\n",
       "      <td>2025-09-02 17:10:29.256</td>\n",
       "      <td>DEBUG</td>\n",
       "      <td>Client +19708267255 reacted to post 6 with pos...</td>\n",
       "      <td>{'client': '+19708267255', 'post_id': 6, 'pale...</td>\n",
       "      <td>info</td>\n",
       "      <td>worker</td>\n",
       "      <td>react</td>\n",
       "    </tr>\n",
       "    <tr>\n",
       "      <th>12</th>\n",
       "      <td>68b725068eb185c7f128d866</td>\n",
       "      <td>af0deb8e-1536-4587-9910-cfda514e61de</td>\n",
       "      <td>3</td>\n",
       "      <td>2025-09-02 17:10:30.164</td>\n",
       "      <td>DEBUG</td>\n",
       "      <td>Client +19283944162 reacted to post 6 with pos...</td>\n",
       "      <td>{'client': '+19283944162', 'post_id': 6, 'pale...</td>\n",
       "      <td>info</td>\n",
       "      <td>worker</td>\n",
       "      <td>react</td>\n",
       "    </tr>\n",
       "    <tr>\n",
       "      <th>13</th>\n",
       "      <td>68b725098eb185c7f128d867</td>\n",
       "      <td>af0deb8e-1536-4587-9910-cfda514e61de</td>\n",
       "      <td>3</td>\n",
       "      <td>2025-09-02 17:10:33.919</td>\n",
       "      <td>DEBUG</td>\n",
       "      <td>Client +18563995311 reacted to post 6 with pos...</td>\n",
       "      <td>{'client': '+18563995311', 'post_id': 6, 'pale...</td>\n",
       "      <td>info</td>\n",
       "      <td>worker</td>\n",
       "      <td>react</td>\n",
       "    </tr>\n",
       "    <tr>\n",
       "      <th>14</th>\n",
       "      <td>68b7252f8eb185c7f128d868</td>\n",
       "      <td>af0deb8e-1536-4587-9910-cfda514e61de</td>\n",
       "      <td>3</td>\n",
       "      <td>2025-09-02 17:11:11.636</td>\n",
       "      <td>DEBUG</td>\n",
       "      <td>Client +19283944162 reacted to post 7 with pos...</td>\n",
       "      <td>{'client': '+19283944162', 'post_id': 7, 'pale...</td>\n",
       "      <td>info</td>\n",
       "      <td>worker</td>\n",
       "      <td>react</td>\n",
       "    </tr>\n",
       "    <tr>\n",
       "      <th>15</th>\n",
       "      <td>68b725308eb185c7f128d869</td>\n",
       "      <td>af0deb8e-1536-4587-9910-cfda514e61de</td>\n",
       "      <td>3</td>\n",
       "      <td>2025-09-02 17:11:11.636</td>\n",
       "      <td>INFO</td>\n",
       "      <td>Worker finished for client +19283944162</td>\n",
       "      <td>{}</td>\n",
       "      <td>info</td>\n",
       "      <td>worker</td>\n",
       "      <td>None</td>\n",
       "    </tr>\n",
       "    <tr>\n",
       "      <th>16</th>\n",
       "      <td>68b725368eb185c7f128d86a</td>\n",
       "      <td>af0deb8e-1536-4587-9910-cfda514e61de</td>\n",
       "      <td>3</td>\n",
       "      <td>2025-09-02 17:11:18.700</td>\n",
       "      <td>DEBUG</td>\n",
       "      <td>Client +18563995311 reacted to post 7 with pos...</td>\n",
       "      <td>{'client': '+18563995311', 'post_id': 7, 'pale...</td>\n",
       "      <td>info</td>\n",
       "      <td>worker</td>\n",
       "      <td>react</td>\n",
       "    </tr>\n",
       "    <tr>\n",
       "      <th>17</th>\n",
       "      <td>68b725378eb185c7f128d86b</td>\n",
       "      <td>af0deb8e-1536-4587-9910-cfda514e61de</td>\n",
       "      <td>3</td>\n",
       "      <td>2025-09-02 17:11:18.700</td>\n",
       "      <td>INFO</td>\n",
       "      <td>Worker finished for client +18563995311</td>\n",
       "      <td>{}</td>\n",
       "      <td>info</td>\n",
       "      <td>worker</td>\n",
       "      <td>None</td>\n",
       "    </tr>\n",
       "    <tr>\n",
       "      <th>18</th>\n",
       "      <td>68b7253a8eb185c7f128d86c</td>\n",
       "      <td>af0deb8e-1536-4587-9910-cfda514e61de</td>\n",
       "      <td>3</td>\n",
       "      <td>2025-09-02 17:11:22.261</td>\n",
       "      <td>DEBUG</td>\n",
       "      <td>Client +19708267255 reacted to post 7 with pos...</td>\n",
       "      <td>{'client': '+19708267255', 'post_id': 7, 'pale...</td>\n",
       "      <td>info</td>\n",
       "      <td>worker</td>\n",
       "      <td>react</td>\n",
       "    </tr>\n",
       "    <tr>\n",
       "      <th>19</th>\n",
       "      <td>68b7253a8eb185c7f128d86d</td>\n",
       "      <td>af0deb8e-1536-4587-9910-cfda514e61de</td>\n",
       "      <td>3</td>\n",
       "      <td>2025-09-02 17:11:22.261</td>\n",
       "      <td>INFO</td>\n",
       "      <td>Worker finished for client +19708267255</td>\n",
       "      <td>{}</td>\n",
       "      <td>info</td>\n",
       "      <td>worker</td>\n",
       "      <td>None</td>\n",
       "    </tr>\n",
       "    <tr>\n",
       "      <th>20</th>\n",
       "      <td>68b7253a8eb185c7f128d86e</td>\n",
       "      <td>af0deb8e-1536-4587-9910-cfda514e61de</td>\n",
       "      <td>3</td>\n",
       "      <td>2025-09-02 17:11:22.263</td>\n",
       "      <td>INFO</td>\n",
       "      <td>All workers have finished executing.</td>\n",
       "      <td>{}</td>\n",
       "      <td>info</td>\n",
       "      <td>action</td>\n",
       "      <td>workers_finished</td>\n",
       "    </tr>\n",
       "    <tr>\n",
       "      <th>21</th>\n",
       "      <td>68b7253a8eb185c7f128d86f</td>\n",
       "      <td>af0deb8e-1536-4587-9910-cfda514e61de</td>\n",
       "      <td>3</td>\n",
       "      <td>2025-09-02 17:11:22.595</td>\n",
       "      <td>INFO</td>\n",
       "      <td>Run has ended.</td>\n",
       "      <td>{}</td>\n",
       "      <td>info</td>\n",
       "      <td>run_end</td>\n",
       "      <td>None</td>\n",
       "    </tr>\n",
       "  </tbody>\n",
       "</table>\n",
       "</div>"
      ],
      "text/plain": [
       "                         _id                                run_id  task_id  \\\n",
       "0   68b724eb8eb185c7f128d85a  af0deb8e-1536-4587-9910-cfda514e61de        3   \n",
       "1   68b724eb8eb185c7f128d85b  af0deb8e-1536-4587-9910-cfda514e61de        3   \n",
       "2   68b724f08eb185c7f128d85c  af0deb8e-1536-4587-9910-cfda514e61de        3   \n",
       "3   68b724f08eb185c7f128d85d  af0deb8e-1536-4587-9910-cfda514e61de        3   \n",
       "4   68b724f08eb185c7f128d85e  af0deb8e-1536-4587-9910-cfda514e61de        3   \n",
       "5   68b724f08eb185c7f128d85f  af0deb8e-1536-4587-9910-cfda514e61de        3   \n",
       "6   68b724f08eb185c7f128d860  af0deb8e-1536-4587-9910-cfda514e61de        3   \n",
       "7   68b724f08eb185c7f128d861  af0deb8e-1536-4587-9910-cfda514e61de        3   \n",
       "8   68b724f08eb185c7f128d862  af0deb8e-1536-4587-9910-cfda514e61de        3   \n",
       "9   68b724f08eb185c7f128d863  af0deb8e-1536-4587-9910-cfda514e61de        3   \n",
       "10  68b724f08eb185c7f128d864  af0deb8e-1536-4587-9910-cfda514e61de        3   \n",
       "11  68b725058eb185c7f128d865  af0deb8e-1536-4587-9910-cfda514e61de        3   \n",
       "12  68b725068eb185c7f128d866  af0deb8e-1536-4587-9910-cfda514e61de        3   \n",
       "13  68b725098eb185c7f128d867  af0deb8e-1536-4587-9910-cfda514e61de        3   \n",
       "14  68b7252f8eb185c7f128d868  af0deb8e-1536-4587-9910-cfda514e61de        3   \n",
       "15  68b725308eb185c7f128d869  af0deb8e-1536-4587-9910-cfda514e61de        3   \n",
       "16  68b725368eb185c7f128d86a  af0deb8e-1536-4587-9910-cfda514e61de        3   \n",
       "17  68b725378eb185c7f128d86b  af0deb8e-1536-4587-9910-cfda514e61de        3   \n",
       "18  68b7253a8eb185c7f128d86c  af0deb8e-1536-4587-9910-cfda514e61de        3   \n",
       "19  68b7253a8eb185c7f128d86d  af0deb8e-1536-4587-9910-cfda514e61de        3   \n",
       "20  68b7253a8eb185c7f128d86e  af0deb8e-1536-4587-9910-cfda514e61de        3   \n",
       "21  68b7253a8eb185c7f128d86f  af0deb8e-1536-4587-9910-cfda514e61de        3   \n",
       "\n",
       "                        ts  level  \\\n",
       "0  2025-09-02 17:10:02.715   INFO   \n",
       "1  2025-09-02 17:10:02.728  DEBUG   \n",
       "2  2025-09-02 17:10:08.435   INFO   \n",
       "3  2025-09-02 17:10:08.437   INFO   \n",
       "4  2025-09-02 17:10:08.439  DEBUG   \n",
       "5  2025-09-02 17:10:08.440   INFO   \n",
       "6  2025-09-02 17:10:08.440  DEBUG   \n",
       "7  2025-09-02 17:10:08.442   INFO   \n",
       "8  2025-09-02 17:10:08.442  DEBUG   \n",
       "9  2025-09-02 17:10:08.442   INFO   \n",
       "10 2025-09-02 17:10:08.442  DEBUG   \n",
       "11 2025-09-02 17:10:29.256  DEBUG   \n",
       "12 2025-09-02 17:10:30.164  DEBUG   \n",
       "13 2025-09-02 17:10:33.919  DEBUG   \n",
       "14 2025-09-02 17:11:11.636  DEBUG   \n",
       "15 2025-09-02 17:11:11.636   INFO   \n",
       "16 2025-09-02 17:11:18.700  DEBUG   \n",
       "17 2025-09-02 17:11:18.700   INFO   \n",
       "18 2025-09-02 17:11:22.261  DEBUG   \n",
       "19 2025-09-02 17:11:22.261   INFO   \n",
       "20 2025-09-02 17:11:22.263   INFO   \n",
       "21 2025-09-02 17:11:22.595   INFO   \n",
       "\n",
       "                                              message  \\\n",
       "0                              Starting run for task.   \n",
       "1                     Got accounts and posts objects.   \n",
       "2                                Connected 3 clients.   \n",
       "3                                  Validated 2 posts.   \n",
       "4                       Proceeding to worker creation   \n",
       "5              Worker started for client +18563995311   \n",
       "6                         Worker proceeds to reacting   \n",
       "7              Worker started for client +19283944162   \n",
       "8                         Worker proceeds to reacting   \n",
       "9              Worker started for client +19708267255   \n",
       "10                        Worker proceeds to reacting   \n",
       "11  Client +19708267255 reacted to post 6 with pos...   \n",
       "12  Client +19283944162 reacted to post 6 with pos...   \n",
       "13  Client +18563995311 reacted to post 6 with pos...   \n",
       "14  Client +19283944162 reacted to post 7 with pos...   \n",
       "15            Worker finished for client +19283944162   \n",
       "16  Client +18563995311 reacted to post 7 with pos...   \n",
       "17            Worker finished for client +18563995311   \n",
       "18  Client +19708267255 reacted to post 7 with pos...   \n",
       "19            Worker finished for client +19708267255   \n",
       "20               All workers have finished executing.   \n",
       "21                                     Run has ended.   \n",
       "\n",
       "                                              payload event_type action_type  \\\n",
       "0                                                  {}       info        init   \n",
       "1                                                  {}       info        init   \n",
       "2                                                  {}       info  connecting   \n",
       "3                                                  {}       info  connecting   \n",
       "4                                                  {}       info      action   \n",
       "5                                                  {}       info      worker   \n",
       "6                                                  {}       info      worker   \n",
       "7                                                  {}       info      worker   \n",
       "8                                                  {}       info      worker   \n",
       "9                                                  {}       info      worker   \n",
       "10                                                 {}       info      worker   \n",
       "11  {'client': '+19708267255', 'post_id': 6, 'pale...       info      worker   \n",
       "12  {'client': '+19283944162', 'post_id': 6, 'pale...       info      worker   \n",
       "13  {'client': '+18563995311', 'post_id': 6, 'pale...       info      worker   \n",
       "14  {'client': '+19283944162', 'post_id': 7, 'pale...       info      worker   \n",
       "15                                                 {}       info      worker   \n",
       "16  {'client': '+18563995311', 'post_id': 7, 'pale...       info      worker   \n",
       "17                                                 {}       info      worker   \n",
       "18  {'client': '+19708267255', 'post_id': 7, 'pale...       info      worker   \n",
       "19                                                 {}       info      worker   \n",
       "20                                                 {}       info      action   \n",
       "21                                                 {}       info     run_end   \n",
       "\n",
       "             details  \n",
       "0          run_start  \n",
       "1        data_loaded  \n",
       "2     client_connect  \n",
       "3    posts_validated  \n",
       "4   creating_workers  \n",
       "5               None  \n",
       "6               None  \n",
       "7               None  \n",
       "8               None  \n",
       "9               None  \n",
       "10              None  \n",
       "11             react  \n",
       "12             react  \n",
       "13             react  \n",
       "14             react  \n",
       "15              None  \n",
       "16             react  \n",
       "17              None  \n",
       "18             react  \n",
       "19              None  \n",
       "20  workers_finished  \n",
       "21              None  "
      ]
     },
     "execution_count": 23,
     "metadata": {},
     "output_type": "execute_result"
    }
   ],
   "source": [
    "data = await eventManager.get_events('af0deb8e-1536-4587-9910-cfda514e61de')\n",
    "data"
   ]
  },
  {
   "cell_type": "code",
   "execution_count": null,
   "id": "d514d367",
   "metadata": {},
   "outputs": [],
   "source": [
    "preprocessed_data = data.drop(['_id', 'task_id', 'run_id', 'level'], axis=1).loc[data['action_type'] == 'worker'].dropna(subset=['details']).drop(['action_type', 'details'], axis=1).reset_index(drop=True)\n",
    "preprocessed_data.ts = preprocessed_data.ts.dt.round('s')\n",
    "preprocessed_data.rename({'ts': 'datetime', 'message': 'details'}, axis=1, inplace=True)"
   ]
  }
 ],
 "metadata": {
  "kernelspec": {
   "display_name": ".venv",
   "language": "python",
   "name": "python3"
  },
  "language_info": {
   "codemirror_mode": {
    "name": "ipython",
    "version": 3
   },
   "file_extension": ".py",
   "mimetype": "text/x-python",
   "name": "python",
   "nbconvert_exporter": "python",
   "pygments_lexer": "ipython3",
   "version": "3.12.6"
  }
 },
 "nbformat": 4,
 "nbformat_minor": 5
}
