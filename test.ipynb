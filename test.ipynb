{
 "cells": [
  {
   "cell_type": "markdown",
   "id": "51522fcd",
   "metadata": {},
   "source": [
    "## Task test"
   ]
  },
  {
   "cell_type": "code",
   "execution_count": null,
   "id": "ea211796",
   "metadata": {},
   "outputs": [
    {
     "name": "stdout",
     "output_type": "stream",
     "text": [
      "2025-09-07 20:28:11 - DB   - INFO    - Initializing MongoDB client and collections.\n",
      "2025-09-07 20:28:11 - DB   - INFO    - Getting task from MongoDB with task_id: 3\n",
      "2025-09-07 20:28:11 - DB   - DEBUG   - Task found in MongoDB: {'task_id': 3, 'name': 'Test task created in code', 'description': 'Just a test task', 'post_ids': [6, 7, 8], 'accounts': ['+19283944162', '+19708267255', '+18563995311'], 'action': {'type': 'react', 'palette': 'negative'}, 'status': 'CRASHED', 'created_at': '2025-09-02T19:47:34.217079', 'updated_at': '2025-09-02T19:47:34.217079'}\n",
      "2025-09-07 20:28:11 - main - INFO    - Starting task 3 - Test task created in code...\n",
      "2025-09-07 20:28:11 - DB   - INFO    - Updating task 3 in MongoDB with data: {'status': 'RUNNING'}\n",
      "2025-09-07 20:28:11 - DB   - DEBUG   - Task 3 update result: 1\n",
      "2025-09-07 20:28:11 - DB   - INFO    - Loading all accounts from MongoDB.\n",
      "2025-09-07 20:28:11 - DB   - DEBUG   - Loaded 3 accounts from MongoDB.\n",
      "2025-09-07 20:28:11 - DB   - INFO    - Loading all posts from MongoDB.\n",
      "2025-09-07 20:28:11 - DB   - DEBUG   - Loaded 8 posts from MongoDB.\n",
      "2025-09-07 20:28:11 - main - INFO    - Connecting clients for 3 accounts...\n",
      "2025-09-07 20:28:11 - +18563995311 - INFO    - Initializing client for +18563995311. Awaiting connection...\n",
      "2025-09-07 20:28:11 - +19283944162 - INFO    - Initializing client for +19283944162. Awaiting connection...\n",
      "2025-09-07 20:28:11 - +19708267255 - INFO    - Initializing client for +19708267255. Awaiting connection...\n",
      "2025-09-07 20:28:13 - +18563995311 - DEBUG   - Client for +18563995311 started successfully.\n",
      "2025-09-07 20:28:13 - +19708267255 - DEBUG   - Client for +19708267255 started successfully.\n",
      "2025-09-07 20:28:13 - +19283944162 - DEBUG   - Client for +19283944162 started successfully.\n",
      "2025-09-07 20:28:13 - main - INFO    - Connected clients for 3 accounts.\n",
      "2025-09-07 20:28:13 - main - INFO    - Validating 3 posts...\n",
      "2025-09-07 20:28:13 - main - INFO    - Validated 3 posts: 0 newly validated, 3 already validated, 0 failed validation.\n",
      "2025-09-07 20:28:13 - main - INFO    - Task 3 proceeding with action: react\n",
      "2025-09-07 20:28:13 - main - INFO    - Created 3 workers for task 3.\n",
      "2025-09-07 20:28:22 - +19708267255 - DEBUG   - Estimated reading time: 20.195 seconds\n",
      "2025-09-07 20:28:22 - +19283944162 - DEBUG   - Estimated reading time: 20.0 seconds\n",
      "2025-09-07 20:28:22 - +18563995311 - DEBUG   - Estimated reading time: 14.178 seconds\n",
      "2025-09-07 20:28:38 - +18563995311 - INFO    - Reaction added successfully\n",
      "2025-09-07 20:28:38 - main - DEBUG   - Client 8140224296 reacted to post 6\n",
      "2025-09-07 20:28:39 - +18563995311 - DEBUG   - Estimated reading time: 48.056 seconds\n",
      "2025-09-07 20:28:43 - +19283944162 - INFO    - Reaction added successfully\n",
      "2025-09-07 20:28:43 - main - DEBUG   - Client 8008781642 reacted to post 6\n",
      "2025-09-07 20:28:44 - +19708267255 - INFO    - Reaction added successfully\n",
      "2025-09-07 20:28:44 - main - DEBUG   - Client 8014401447 reacted to post 6\n",
      "2025-09-07 20:28:44 - +19283944162 - DEBUG   - Estimated reading time: 44.359 seconds\n",
      "2025-09-07 20:28:45 - +19708267255 - DEBUG   - Estimated reading time: 42.716 seconds\n",
      "2025-09-07 20:29:29 - +18563995311 - INFO    - Reaction added successfully\n",
      "2025-09-07 20:29:29 - main - DEBUG   - Client 8140224296 reacted to post 7\n",
      "2025-09-07 20:29:29 - +19708267255 - INFO    - Reaction added successfully\n",
      "2025-09-07 20:29:29 - main - DEBUG   - Client 8014401447 reacted to post 7\n",
      "2025-09-07 20:29:29 - +18563995311 - WARNING - React failed (attempt 1/3): 'NoneType' object has no attribute 'id'\n",
      "2025-09-07 20:29:30 - +19708267255 - WARNING - React failed (attempt 1/3): 'NoneType' object has no attribute 'id'\n",
      "2025-09-07 20:29:30 - +19283944162 - INFO    - Reaction added successfully\n",
      "2025-09-07 20:29:30 - main - DEBUG   - Client 8008781642 reacted to post 7\n",
      "2025-09-07 20:29:31 - +19283944162 - WARNING - React failed (attempt 1/3): 'NoneType' object has no attribute 'id'\n",
      "2025-09-07 20:29:32 - +18563995311 - WARNING - React failed (attempt 2/3): 'NoneType' object has no attribute 'id'\n",
      "2025-09-07 20:29:32 - +19708267255 - WARNING - React failed (attempt 2/3): 'NoneType' object has no attribute 'id'\n",
      "2025-09-07 20:29:33 - +19283944162 - WARNING - React failed (attempt 2/3): 'NoneType' object has no attribute 'id'\n",
      "2025-09-07 20:29:34 - +18563995311 - WARNING - React failed (attempt 3/3): 'NoneType' object has no attribute 'id'\n",
      "2025-09-07 20:29:34 - main - WARNING - Client 8140224296 failed to react to post 8: 'NoneType' object has no attribute 'id'\n",
      "2025-09-07 20:29:35 - +19708267255 - WARNING - React failed (attempt 3/3): 'NoneType' object has no attribute 'id'\n",
      "2025-09-07 20:29:35 - main - WARNING - Client 8014401447 failed to react to post 8: 'NoneType' object has no attribute 'id'\n",
      "2025-09-07 20:29:36 - +19283944162 - WARNING - React failed (attempt 3/3): 'NoneType' object has no attribute 'id'\n",
      "2025-09-07 20:29:36 - main - WARNING - Client 8008781642 failed to react to post 8: 'NoneType' object has no attribute 'id'\n",
      "2025-09-07 20:29:36 - main - INFO    - All workers for task 3 have finished executing.\n",
      "2025-09-07 20:29:36 - main - ERROR   - Error in worker for client 8140224296: 'NoneType' object has no attribute 'id'\n",
      "2025-09-07 20:29:36 - main - ERROR   - Error in worker for client 8008781642: 'NoneType' object has no attribute 'id'\n",
      "2025-09-07 20:29:36 - main - ERROR   - Error in worker for client 8014401447: 'NoneType' object has no attribute 'id'\n",
      "2025-09-07 20:29:36 - main - INFO    - Disconnecting 3 clients...\n",
      "2025-09-07 20:29:36 - +18563995311 - INFO    - Client for +18563995311 disconnected.\n",
      "2025-09-07 20:29:36 - +19283944162 - INFO    - Client for +19283944162 disconnected.\n",
      "2025-09-07 20:29:36 - +19708267255 - INFO    - Client for +19708267255 disconnected.\n",
      "2025-09-07 20:29:36 - main - INFO    - Disconnected 3 clients.\n",
      "2025-09-07 20:29:36 - DB   - INFO    - Updating task 3 in MongoDB with data: {'status': 'FINISHED'}\n",
      "2025-09-07 20:29:36 - DB   - DEBUG   - Task 3 update result: 1\n",
      "2025-09-07 20:29:36 - main - INFO    - Task 3 completed successfully.\n"
     ]
    }
   ],
   "source": [
    "from taskhandler import *\n",
    "from database import get_db\n",
    "db = get_db()"
   ]
  },
  {
   "cell_type": "code",
   "execution_count": 2,
   "id": "fb67928c",
   "metadata": {},
   "outputs": [],
   "source": [
    "# \n",
    "# tyt byw ura mhwah\n",
    "# heh"
   ]
  },
  {
   "cell_type": "code",
   "execution_count": 4,
   "id": "451ef7f6",
   "metadata": {},
   "outputs": [
    {
     "data": {
      "text/plain": [
       "{'task_id': 3,\n",
       " 'name': 'Test task created in code',\n",
       " 'description': 'Just a test task',\n",
       " 'post_ids': [6, 7, 8],\n",
       " 'accounts': ['+19283944162', '+19708267255', '+18563995311'],\n",
       " 'action': {'type': 'react', 'palette': 'negative'},\n",
       " 'status': 'CRASHED',\n",
       " 'created_at': '2025-09-02T19:47:34.217079',\n",
       " 'updated_at': '2025-09-02T19:47:34.217079'}"
      ]
     },
     "execution_count": 4,
     "metadata": {},
     "output_type": "execute_result"
    }
   ],
   "source": [
    "task = await db.get_task(3)\n",
    "task.to_dict()"
   ]
  },
  {
   "cell_type": "code",
   "execution_count": 5,
   "id": "bf194db0",
   "metadata": {},
   "outputs": [],
   "source": [
    "await task.start()"
   ]
  },
  {
   "cell_type": "code",
   "execution_count": 6,
   "id": "f5afe982",
   "metadata": {},
   "outputs": [
    {
     "data": {
      "text/plain": [
       "RUNNING"
      ]
     },
     "execution_count": 6,
     "metadata": {},
     "output_type": "execute_result"
    }
   ],
   "source": [
    "await task.get_status()"
   ]
  },
  {
   "cell_type": "code",
   "execution_count": 7,
   "id": "12989c37",
   "metadata": {},
   "outputs": [],
   "source": [
    "# await task.pause()\n",
    "# await task.resume()"
   ]
  },
  {
   "cell_type": "code",
   "execution_count": 8,
   "id": "efa01d7f",
   "metadata": {},
   "outputs": [],
   "source": [
    "# await task.pause()"
   ]
  },
  {
   "cell_type": "code",
   "execution_count": 9,
   "id": "b1a0f632",
   "metadata": {},
   "outputs": [],
   "source": [
    "# await task.resume()"
   ]
  },
  {
   "cell_type": "markdown",
   "id": "3f97c794",
   "metadata": {},
   "source": [
    "## DB tests"
   ]
  },
  {
   "cell_type": "markdown",
   "id": "fdc0f0de",
   "metadata": {},
   "source": [
    "### init"
   ]
  },
  {
   "cell_type": "code",
   "execution_count": null,
   "id": "21346be2",
   "metadata": {},
   "outputs": [
    {
     "name": "stdout",
     "output_type": "stream",
     "text": [
      "2025-10-02 09:56:08 - DB   - INFO    - Initializing MongoDB client and collections.\n",
      "2025-10-02 09:56:08 - DB   - INFO    - Adding post to MongoDB: {'post_id': None, 'chat_id': None, 'message_id': None, 'message_link': 'https://t.me/c/2723750105/34', 'is_validated': False, 'created_at': '2025-10-02T09:56:08.378024', 'updated_at': '2025-10-02T09:56:08.378024'}\n",
      "2025-10-02 09:56:08 - DB   - INFO    - Loading all posts from MongoDB.\n",
      "2025-10-02 09:56:09 - DB   - DEBUG   - Loaded 0 posts from MongoDB.\n",
      "2025-10-02 09:56:09 - DB   - INFO    - Getting post from MongoDB with post_id: 1\n",
      "2025-10-02 09:56:09 - DB   - DEBUG   - Post with post_id 1 added to MongoDB.\n"
     ]
    }
   ],
   "source": [
    "from database import get_db\n",
    "from agent import Account\n",
    "from taskhandler import Task, Post"
   ]
  },
  {
   "cell_type": "code",
   "execution_count": 2,
   "id": "3c22e705",
   "metadata": {},
   "outputs": [],
   "source": [
    "db = get_db()"
   ]
  },
  {
   "cell_type": "code",
   "execution_count": 11,
   "id": "5bca3cd3",
   "metadata": {},
   "outputs": [],
   "source": [
    "# client = await db.load_all_accounts()\n",
    "# client = client[0]\n",
    "# client = await client.create_connection()\n",
    "# client"
   ]
  },
  {
   "cell_type": "markdown",
   "id": "7dbb3a3c",
   "metadata": {},
   "source": [
    "### load"
   ]
  },
  {
   "cell_type": "code",
   "execution_count": 12,
   "id": "21a342f3",
   "metadata": {},
   "outputs": [
    {
     "data": {
      "text/plain": [
       "[Account(8140224296, +18563995311),\n",
       " Account(None, +19283944162),\n",
       " Account(None, +19708267255)]"
      ]
     },
     "execution_count": 12,
     "metadata": {},
     "output_type": "execute_result"
    }
   ],
   "source": [
    "await db.load_all_accounts()"
   ]
  },
  {
   "cell_type": "code",
   "execution_count": 13,
   "id": "e8754370",
   "metadata": {},
   "outputs": [
    {
     "data": {
      "text/plain": [
       "[Post(1, validated, https://t.me/c/2723750105/14),\n",
       " Post(2, validated, https://t.me/c/2723750105/15),\n",
       " Post(3, unvalidated, https://t.me/c/2723750105/16),\n",
       " Post(4, validated, https://t.me/c/2723750105/20),\n",
       " Post(5, validated, https://t.me/c/2723750105/18)]"
      ]
     },
     "execution_count": 13,
     "metadata": {},
     "output_type": "execute_result"
    }
   ],
   "source": [
    "await db.load_all_posts()"
   ]
  },
  {
   "cell_type": "code",
   "execution_count": 14,
   "id": "08a4bcf8",
   "metadata": {},
   "outputs": [
    {
     "data": {
      "text/plain": [
       "[Task(1, Test task name, PENDING, 2025-08-07 20:27:29.954892, 2025-08-07 20:27:29.954892),\n",
       " Task(0, Text reading speed test, PENDING, 2025-08-18 19:23:21.692553, 2025-08-18 19:23:21.693552)]"
      ]
     },
     "execution_count": 14,
     "metadata": {},
     "output_type": "execute_result"
    }
   ],
   "source": [
    "await db.load_all_tasks()"
   ]
  },
  {
   "cell_type": "markdown",
   "id": "dd956569",
   "metadata": {},
   "source": [
    "### save all"
   ]
  },
  {
   "cell_type": "code",
   "execution_count": 15,
   "id": "48caa219",
   "metadata": {},
   "outputs": [],
   "source": [
    "await db.save_all_accounts(await db.load_all_accounts())"
   ]
  },
  {
   "cell_type": "code",
   "execution_count": 16,
   "id": "e9db58d8",
   "metadata": {},
   "outputs": [],
   "source": [
    "await db.save_all_posts(await db.load_all_posts())"
   ]
  },
  {
   "cell_type": "code",
   "execution_count": 17,
   "id": "654301bd",
   "metadata": {},
   "outputs": [],
   "source": [
    "await db.save_all_tasks(await db.load_all_tasks())"
   ]
  },
  {
   "cell_type": "markdown",
   "id": "6eafa1ae",
   "metadata": {},
   "source": [
    "### add, update and delete"
   ]
  },
  {
   "cell_type": "markdown",
   "id": "eb9dd42b",
   "metadata": {},
   "source": [
    "#### account"
   ]
  },
  {
   "cell_type": "code",
   "execution_count": 18,
   "id": "8b0a1a88",
   "metadata": {},
   "outputs": [
    {
     "data": {
      "text/plain": [
       "True"
      ]
     },
     "execution_count": 18,
     "metadata": {},
     "output_type": "execute_result"
    }
   ],
   "source": [
    "await db.add_account(Account.from_keys(phone_number='+123'))"
   ]
  },
  {
   "cell_type": "code",
   "execution_count": 19,
   "id": "b2b72714",
   "metadata": {},
   "outputs": [
    {
     "data": {
      "text/plain": [
       "Account(None, +123)"
      ]
     },
     "execution_count": 19,
     "metadata": {},
     "output_type": "execute_result"
    }
   ],
   "source": [
    "await db.get_account('+123')"
   ]
  },
  {
   "cell_type": "code",
   "execution_count": 20,
   "id": "8fa039b1",
   "metadata": {},
   "outputs": [
    {
     "data": {
      "text/plain": [
       "True"
      ]
     },
     "execution_count": 20,
     "metadata": {},
     "output_type": "execute_result"
    }
   ],
   "source": [
    "await db.update_account('+123', {'session_name': 'new_session'})"
   ]
  },
  {
   "cell_type": "code",
   "execution_count": 21,
   "id": "8350521b",
   "metadata": {},
   "outputs": [
    {
     "data": {
      "text/plain": [
       "True"
      ]
     },
     "execution_count": 21,
     "metadata": {},
     "output_type": "execute_result"
    }
   ],
   "source": [
    "await db.delete_account('+123')"
   ]
  },
  {
   "cell_type": "markdown",
   "id": "05c58a6b",
   "metadata": {},
   "source": [
    "#### post"
   ]
  },
  {
   "cell_type": "code",
   "execution_count": 22,
   "id": "8193a818",
   "metadata": {},
   "outputs": [
    {
     "data": {
      "text/plain": [
       "True"
      ]
     },
     "execution_count": 22,
     "metadata": {},
     "output_type": "execute_result"
    }
   ],
   "source": [
    "await db.add_post(Post.from_keys(post_id=-1, message_link='https://example.com/post1'))"
   ]
  },
  {
   "cell_type": "code",
   "execution_count": 23,
   "id": "c7c010dc",
   "metadata": {},
   "outputs": [
    {
     "data": {
      "text/plain": [
       "Post(-1, unvalidated, https://example.com/post1)"
      ]
     },
     "execution_count": 23,
     "metadata": {},
     "output_type": "execute_result"
    }
   ],
   "source": [
    "await db.get_post(-1)"
   ]
  },
  {
   "cell_type": "code",
   "execution_count": 24,
   "id": "689d2760",
   "metadata": {},
   "outputs": [
    {
     "data": {
      "text/plain": [
       "True"
      ]
     },
     "execution_count": 24,
     "metadata": {},
     "output_type": "execute_result"
    }
   ],
   "source": [
    "await db.update_post(-1, {'message_link': 'https://example.com/updated_post1'})"
   ]
  },
  {
   "cell_type": "code",
   "execution_count": 25,
   "id": "e0b483f8",
   "metadata": {},
   "outputs": [
    {
     "data": {
      "text/plain": [
       "True"
      ]
     },
     "execution_count": 25,
     "metadata": {},
     "output_type": "execute_result"
    }
   ],
   "source": [
    "await db.delete_post(-1)"
   ]
  },
  {
   "cell_type": "markdown",
   "id": "01c6938a",
   "metadata": {},
   "source": [
    "#### task"
   ]
  },
  {
   "cell_type": "code",
   "execution_count": 26,
   "id": "d61d35b5",
   "metadata": {},
   "outputs": [
    {
     "data": {
      "text/plain": [
       "True"
      ]
     },
     "execution_count": 26,
     "metadata": {},
     "output_type": "execute_result"
    }
   ],
   "source": [
    "await db.add_task(Task(-1, 'db test', [-1], [], []))"
   ]
  },
  {
   "cell_type": "code",
   "execution_count": 27,
   "id": "28af0590",
   "metadata": {},
   "outputs": [
    {
     "data": {
      "text/plain": [
       "Task(-1, db test, PENDING, 2025-08-26T21:01:42.279120, 2025-08-26T21:01:42.279120)"
      ]
     },
     "execution_count": 27,
     "metadata": {},
     "output_type": "execute_result"
    }
   ],
   "source": [
    "await db.get_task(-1)"
   ]
  },
  {
   "cell_type": "code",
   "execution_count": 28,
   "id": "d847aad0",
   "metadata": {},
   "outputs": [
    {
     "data": {
      "text/plain": [
       "False"
      ]
     },
     "execution_count": 28,
     "metadata": {},
     "output_type": "execute_result"
    }
   ],
   "source": [
    "await db.update_task('-1', {'name': 'updated db test'})"
   ]
  },
  {
   "cell_type": "code",
   "execution_count": 29,
   "id": "880c51cb",
   "metadata": {},
   "outputs": [
    {
     "data": {
      "text/plain": [
       "False"
      ]
     },
     "execution_count": 29,
     "metadata": {},
     "output_type": "execute_result"
    }
   ],
   "source": [
    "await db.delete_task('-1')"
   ]
  },
  {
   "cell_type": "markdown",
   "id": "0fdec9c2",
   "metadata": {},
   "source": [
    "## Event viewer"
   ]
  },
  {
   "cell_type": "code",
   "execution_count": null,
   "id": "6f056aaf",
   "metadata": {},
   "outputs": [
    {
     "name": "stdout",
     "output_type": "stream",
     "text": [
      "2025-10-02 00:01:35 - DB   - INFO    - Initializing MongoDB client and collections.\n",
      "2025-10-02 00:01:35 - DB   - INFO    - Getting post from MongoDB with post_id: nan\n",
      "2025-10-02 00:01:35 - DB   - INFO    - Getting post from MongoDB with post_id: nan\n",
      "2025-10-02 00:01:35 - DB   - INFO    - Getting post from MongoDB with post_id: nan\n",
      "2025-10-02 00:01:35 - DB   - INFO    - Getting post from MongoDB with post_id: 6.0\n",
      "2025-10-02 00:01:35 - DB   - INFO    - Getting post from MongoDB with post_id: 6.0\n",
      "2025-10-02 00:01:35 - DB   - INFO    - Getting post from MongoDB with post_id: 6.0\n",
      "2025-10-02 00:01:35 - DB   - INFO    - Getting post from MongoDB with post_id: 7.0\n",
      "2025-10-02 00:01:35 - DB   - INFO    - Getting post from MongoDB with post_id: 7.0\n",
      "2025-10-02 00:01:35 - DB   - INFO    - Getting post from MongoDB with post_id: 7.0\n",
      "2025-10-02 00:01:35 - DB   - DEBUG   - Post found in MongoDB: {'post_id': 6, 'chat_id': -1002723750105, 'message_id': 32, 'message_link': 'https://t.me/c/2723750105/32', 'created_at': '2025-09-02T19:31:48.679668', 'updated_at': '2025-09-30 19:36:50.662683'}\n",
      "2025-10-02 00:01:35 - DB   - DEBUG   - Post found in MongoDB: {'post_id': 7, 'chat_id': -1002723750105, 'message_id': 33, 'message_link': 'https://t.me/c/2723750105/33', 'created_at': '2025-09-02T19:32:12.238701', 'updated_at': '2025-09-10 15:34:16.753536'}\n",
      "2025-10-02 00:01:35 - DB   - DEBUG   - Post found in MongoDB: {'post_id': 6, 'chat_id': -1002723750105, 'message_id': 32, 'message_link': 'https://t.me/c/2723750105/32', 'created_at': '2025-09-02T19:31:48.679668', 'updated_at': '2025-09-30 19:36:50.662683'}\n",
      "2025-10-02 00:01:35 - DB   - DEBUG   - Post found in MongoDB: {'post_id': 6, 'chat_id': -1002723750105, 'message_id': 32, 'message_link': 'https://t.me/c/2723750105/32', 'created_at': '2025-09-02T19:31:48.679668', 'updated_at': '2025-09-30 19:36:50.662683'}\n",
      "2025-10-02 00:01:35 - DB   - DEBUG   - Post found in MongoDB: {'post_id': 7, 'chat_id': -1002723750105, 'message_id': 33, 'message_link': 'https://t.me/c/2723750105/33', 'created_at': '2025-09-02T19:32:12.238701', 'updated_at': '2025-09-10 15:34:16.753536'}\n",
      "2025-10-02 00:01:35 - DB   - DEBUG   - Post found in MongoDB: {'post_id': 7, 'chat_id': -1002723750105, 'message_id': 33, 'message_link': 'https://t.me/c/2723750105/33', 'created_at': '2025-09-02T19:32:12.238701', 'updated_at': '2025-09-10 15:34:16.753536'}\n"
     ]
    }
   ],
   "source": [
    "from reporter import RunEventManager, create_report\n",
    "eventManager = RunEventManager()"
   ]
  },
  {
   "cell_type": "code",
   "execution_count": 2,
   "id": "3ffa87b5",
   "metadata": {},
   "outputs": [
    {
     "data": {
      "text/html": [
       "<div>\n",
       "<style scoped>\n",
       "    .dataframe tbody tr th:only-of-type {\n",
       "        vertical-align: middle;\n",
       "    }\n",
       "\n",
       "    .dataframe tbody tr th {\n",
       "        vertical-align: top;\n",
       "    }\n",
       "\n",
       "    .dataframe thead th {\n",
       "        text-align: right;\n",
       "    }\n",
       "</style>\n",
       "<table border=\"1\" class=\"dataframe\">\n",
       "  <thead>\n",
       "    <tr style=\"text-align: right;\">\n",
       "      <th></th>\n",
       "      <th>task_id</th>\n",
       "      <th>run_count</th>\n",
       "    </tr>\n",
       "  </thead>\n",
       "  <tbody>\n",
       "    <tr>\n",
       "      <th>0</th>\n",
       "      <td>3</td>\n",
       "      <td>34</td>\n",
       "    </tr>\n",
       "    <tr>\n",
       "      <th>1</th>\n",
       "      <td>1</td>\n",
       "      <td>6</td>\n",
       "    </tr>\n",
       "    <tr>\n",
       "      <th>2</th>\n",
       "      <td>8</td>\n",
       "      <td>2</td>\n",
       "    </tr>\n",
       "  </tbody>\n",
       "</table>\n",
       "</div>"
      ],
      "text/plain": [
       "   task_id  run_count\n",
       "0        3         34\n",
       "1        1          6\n",
       "2        8          2"
      ]
     },
     "execution_count": 2,
     "metadata": {},
     "output_type": "execute_result"
    }
   ],
   "source": [
    "await eventManager.get_tasks()"
   ]
  },
  {
   "cell_type": "code",
   "execution_count": 3,
   "id": "9d9e38cb",
   "metadata": {},
   "outputs": [
    {
     "data": {
      "text/html": [
       "<div>\n",
       "<style scoped>\n",
       "    .dataframe tbody tr th:only-of-type {\n",
       "        vertical-align: middle;\n",
       "    }\n",
       "\n",
       "    .dataframe tbody tr th {\n",
       "        vertical-align: top;\n",
       "    }\n",
       "\n",
       "    .dataframe thead th {\n",
       "        text-align: right;\n",
       "    }\n",
       "</style>\n",
       "<table border=\"1\" class=\"dataframe\">\n",
       "  <thead>\n",
       "    <tr style=\"text-align: right;\">\n",
       "      <th></th>\n",
       "      <th>_id</th>\n",
       "      <th>run_id</th>\n",
       "      <th>task_id</th>\n",
       "      <th>started_at</th>\n",
       "      <th>finished_at</th>\n",
       "      <th>status</th>\n",
       "      <th>meta</th>\n",
       "      <th>event_count</th>\n",
       "    </tr>\n",
       "  </thead>\n",
       "  <tbody>\n",
       "    <tr>\n",
       "      <th>0</th>\n",
       "      <td>68c3fb8aeea8fc46cd74855d</td>\n",
       "      <td>2c461a84-59cf-48ee-99bc-e28fdd0ac7d9</td>\n",
       "      <td>3</td>\n",
       "      <td>2025-09-12 10:52:58.917</td>\n",
       "      <td>2025-09-12 10:54:33.811</td>\n",
       "      <td>success</td>\n",
       "      <td>{'task_name': 'Test task created in code', 'ac...</td>\n",
       "      <td>25</td>\n",
       "    </tr>\n",
       "    <tr>\n",
       "      <th>1</th>\n",
       "      <td>68c17046f61830ff7b58cdc3</td>\n",
       "      <td>79f20872-d942-4dcd-9df2-d8a71aa641eb</td>\n",
       "      <td>3</td>\n",
       "      <td>2025-09-10 12:34:14.411</td>\n",
       "      <td>2025-09-10 12:35:38.441</td>\n",
       "      <td>success</td>\n",
       "      <td>{'task_name': 'Test task created in code', 'ac...</td>\n",
       "      <td>25</td>\n",
       "    </tr>\n",
       "    <tr>\n",
       "      <th>2</th>\n",
       "      <td>68bdd072afbf3bb27205101f</td>\n",
       "      <td>4eaccea1-cdd6-46dd-bcc9-4f040a44cb8b</td>\n",
       "      <td>3</td>\n",
       "      <td>2025-09-07 18:35:30.098</td>\n",
       "      <td>2025-09-07 18:35:30.121</td>\n",
       "      <td>failed</td>\n",
       "      <td>{'error': 'Testing connection error handling.'}</td>\n",
       "      <td>4</td>\n",
       "    </tr>\n",
       "    <tr>\n",
       "      <th>3</th>\n",
       "      <td>68bdd065079a86ffbb1f9ddb</td>\n",
       "      <td>9167a43e-1d2d-44e0-9bd0-66520ae9d00a</td>\n",
       "      <td>3</td>\n",
       "      <td>2025-09-07 18:35:17.305</td>\n",
       "      <td>2025-09-07 18:35:17.326</td>\n",
       "      <td>failed</td>\n",
       "      <td>{'error': 'Testing connection error handling.'}</td>\n",
       "      <td>4</td>\n",
       "    </tr>\n",
       "    <tr>\n",
       "      <th>4</th>\n",
       "      <td>68bdd050388c1c19eb8fbb1a</td>\n",
       "      <td>319a6fc3-a02b-4581-96e4-b832920b5b31</td>\n",
       "      <td>3</td>\n",
       "      <td>2025-09-07 18:34:56.427</td>\n",
       "      <td>NaT</td>\n",
       "      <td>running</td>\n",
       "      <td>{'task_name': 'Test task created in code', 'ac...</td>\n",
       "      <td>11</td>\n",
       "    </tr>\n",
       "    <tr>\n",
       "      <th>5</th>\n",
       "      <td>68bdcea7b41a9c42c60ca6a5</td>\n",
       "      <td>5c2f680b-ac67-4fac-8d78-bc3b204ccad5</td>\n",
       "      <td>3</td>\n",
       "      <td>2025-09-07 18:27:51.798</td>\n",
       "      <td>2025-09-07 18:27:51.807</td>\n",
       "      <td>failed</td>\n",
       "      <td>{'error': 'Testing connection error handling.'}</td>\n",
       "      <td>0</td>\n",
       "    </tr>\n",
       "    <tr>\n",
       "      <th>6</th>\n",
       "      <td>68bdcc2c7b76cc7657f5389a</td>\n",
       "      <td>1ef3553d-2e99-4e3d-bde9-8446ce839484</td>\n",
       "      <td>3</td>\n",
       "      <td>2025-09-07 18:17:16.011</td>\n",
       "      <td>2025-09-07 18:17:16.021</td>\n",
       "      <td>failed</td>\n",
       "      <td>{'error': 'Testing connection error handling.'}</td>\n",
       "      <td>0</td>\n",
       "    </tr>\n",
       "    <tr>\n",
       "      <th>7</th>\n",
       "      <td>68bdcaf89b928a1a3bcadbb0</td>\n",
       "      <td>b6dad144-6de6-4b26-8e96-7b6632aa69fd</td>\n",
       "      <td>3</td>\n",
       "      <td>2025-09-07 18:12:08.611</td>\n",
       "      <td>2025-09-07 18:13:31.590</td>\n",
       "      <td>success</td>\n",
       "      <td>{'task_name': 'Test task created in code', 'ac...</td>\n",
       "      <td>20</td>\n",
       "    </tr>\n",
       "    <tr>\n",
       "      <th>8</th>\n",
       "      <td>68bdcaddf9ebafd47ce0e2b9</td>\n",
       "      <td>e726bec2-76d1-4011-8465-764824bbb0aa</td>\n",
       "      <td>3</td>\n",
       "      <td>2025-09-07 18:11:41.645</td>\n",
       "      <td>2025-09-07 18:11:41.652</td>\n",
       "      <td>failed</td>\n",
       "      <td>{'error': 'Testing connection error handling.'}</td>\n",
       "      <td>0</td>\n",
       "    </tr>\n",
       "    <tr>\n",
       "      <th>9</th>\n",
       "      <td>68bdca77914278b5439dda50</td>\n",
       "      <td>c44813e0-b565-41eb-9bb8-bfaa0ccfbeee</td>\n",
       "      <td>3</td>\n",
       "      <td>2025-09-07 18:09:59.052</td>\n",
       "      <td>2025-09-07 18:09:59.062</td>\n",
       "      <td>failed</td>\n",
       "      <td>{'error': 'catching classes that do not inheri...</td>\n",
       "      <td>0</td>\n",
       "    </tr>\n",
       "    <tr>\n",
       "      <th>10</th>\n",
       "      <td>68bdca5524cac36738cded10</td>\n",
       "      <td>d93aa79f-4a46-470b-95f4-b5544f2d8e1a</td>\n",
       "      <td>3</td>\n",
       "      <td>2025-09-07 18:09:25.792</td>\n",
       "      <td>2025-09-07 18:09:25.799</td>\n",
       "      <td>failed</td>\n",
       "      <td>{'error': 'catching classes that do not inheri...</td>\n",
       "      <td>0</td>\n",
       "    </tr>\n",
       "    <tr>\n",
       "      <th>11</th>\n",
       "      <td>68bdca12afe084657d6c415d</td>\n",
       "      <td>ff6ae179-abcf-4113-8eff-f28355f85bf0</td>\n",
       "      <td>3</td>\n",
       "      <td>2025-09-07 18:08:18.749</td>\n",
       "      <td>NaT</td>\n",
       "      <td>running</td>\n",
       "      <td>{'task_name': 'Test task created in code', 'ac...</td>\n",
       "      <td>14</td>\n",
       "    </tr>\n",
       "    <tr>\n",
       "      <th>12</th>\n",
       "      <td>68bdc99ba00a4e79cd7663b5</td>\n",
       "      <td>7f23a012-c0e4-4cb1-812f-7cbab3f5991d</td>\n",
       "      <td>3</td>\n",
       "      <td>2025-09-07 18:06:19.444</td>\n",
       "      <td>2025-09-07 18:07:39.860</td>\n",
       "      <td>success</td>\n",
       "      <td>{'task_name': 'Test task created in code', 'ac...</td>\n",
       "      <td>20</td>\n",
       "    </tr>\n",
       "    <tr>\n",
       "      <th>13</th>\n",
       "      <td>68bdc7b614873875258a0999</td>\n",
       "      <td>16354479-1779-42f4-9555-7041f3b48e4f</td>\n",
       "      <td>3</td>\n",
       "      <td>2025-09-07 17:58:14.128</td>\n",
       "      <td>2025-09-07 17:59:39.651</td>\n",
       "      <td>success</td>\n",
       "      <td>{'task_name': 'Test task created in code', 'ac...</td>\n",
       "      <td>20</td>\n",
       "    </tr>\n",
       "    <tr>\n",
       "      <th>14</th>\n",
       "      <td>68bdc0ab302bd18d1521cdaa</td>\n",
       "      <td>805ae98c-8686-4e40-8fdd-426e3b534f16</td>\n",
       "      <td>3</td>\n",
       "      <td>2025-09-07 17:28:11.468</td>\n",
       "      <td>2025-09-07 17:29:36.425</td>\n",
       "      <td>success</td>\n",
       "      <td>{'task_name': 'Test task created in code', 'ac...</td>\n",
       "      <td>25</td>\n",
       "    </tr>\n",
       "    <tr>\n",
       "      <th>15</th>\n",
       "      <td>68bdc0885d711c7adf84e6c5</td>\n",
       "      <td>ca7bbe0f-a5c7-4ae4-b16a-252162b6e29b</td>\n",
       "      <td>3</td>\n",
       "      <td>2025-09-07 17:27:36.954</td>\n",
       "      <td>NaT</td>\n",
       "      <td>persist_error</td>\n",
       "      <td>{'task_name': 'Test task created in code', 'ac...</td>\n",
       "      <td>2</td>\n",
       "    </tr>\n",
       "    <tr>\n",
       "      <th>16</th>\n",
       "      <td>68bd9b3d87fac7bef366000d</td>\n",
       "      <td>2620967c-3df1-4a4b-bd14-ce5f467991fc</td>\n",
       "      <td>3</td>\n",
       "      <td>2025-09-07 14:48:29.248</td>\n",
       "      <td>NaT</td>\n",
       "      <td>persist_error</td>\n",
       "      <td>{'task_name': 'Test task created in code', 'ac...</td>\n",
       "      <td>2</td>\n",
       "    </tr>\n",
       "    <tr>\n",
       "      <th>17</th>\n",
       "      <td>68bd9aae503010c324c38d4b</td>\n",
       "      <td>20809c61-3acf-4ef8-992e-2573c5f0ad32</td>\n",
       "      <td>3</td>\n",
       "      <td>2025-09-07 14:46:06.880</td>\n",
       "      <td>2025-09-07 14:47:40.083</td>\n",
       "      <td>success</td>\n",
       "      <td>{'task_name': 'Test task created in code', 'ac...</td>\n",
       "      <td>25</td>\n",
       "    </tr>\n",
       "    <tr>\n",
       "      <th>18</th>\n",
       "      <td>68bd99fc503010c324c38d30</td>\n",
       "      <td>70e64404-05f3-4dc1-a75f-426c515d7197</td>\n",
       "      <td>3</td>\n",
       "      <td>2025-09-07 14:43:08.585</td>\n",
       "      <td>2025-09-07 14:44:26.832</td>\n",
       "      <td>success</td>\n",
       "      <td>{'task_name': 'Test task created in code', 'ac...</td>\n",
       "      <td>25</td>\n",
       "    </tr>\n",
       "    <tr>\n",
       "      <th>19</th>\n",
       "      <td>68bd98bb503010c324c38d15</td>\n",
       "      <td>1b469e15-d2cc-462b-a7b3-72ab3bb7796e</td>\n",
       "      <td>3</td>\n",
       "      <td>2025-09-07 14:37:47.260</td>\n",
       "      <td>2025-09-07 14:39:07.816</td>\n",
       "      <td>success</td>\n",
       "      <td>{'task_name': 'Test task created in code', 'ac...</td>\n",
       "      <td>25</td>\n",
       "    </tr>\n",
       "    <tr>\n",
       "      <th>20</th>\n",
       "      <td>68bd975397def6245285411e</td>\n",
       "      <td>a6aeb7b8-4615-49aa-8c6f-f381de29b349</td>\n",
       "      <td>3</td>\n",
       "      <td>2025-09-07 14:31:47.859</td>\n",
       "      <td>2025-09-07 14:33:10.942</td>\n",
       "      <td>success</td>\n",
       "      <td>{'task_name': 'Test task created in code', 'ac...</td>\n",
       "      <td>22</td>\n",
       "    </tr>\n",
       "    <tr>\n",
       "      <th>21</th>\n",
       "      <td>68bd96472897e4d57f98e9e0</td>\n",
       "      <td>295ccd76-8ce5-4534-ac6b-8f58b7954fa1</td>\n",
       "      <td>3</td>\n",
       "      <td>2025-09-07 14:27:19.625</td>\n",
       "      <td>2025-09-07 14:28:45.733</td>\n",
       "      <td>success</td>\n",
       "      <td>{'task_name': 'Test task created in code', 'ac...</td>\n",
       "      <td>22</td>\n",
       "    </tr>\n",
       "    <tr>\n",
       "      <th>22</th>\n",
       "      <td>68bd95def091d8b8d87adc33</td>\n",
       "      <td>38ca65e1-7dc1-4b56-8f9c-0bfbd13f70fb</td>\n",
       "      <td>3</td>\n",
       "      <td>2025-09-07 14:25:34.330</td>\n",
       "      <td>2025-09-07 14:26:58.667</td>\n",
       "      <td>persist_error</td>\n",
       "      <td>{'task_name': 'Test task created in code', 'ac...</td>\n",
       "      <td>22</td>\n",
       "    </tr>\n",
       "    <tr>\n",
       "      <th>23</th>\n",
       "      <td>68bd95c839c498d82acbe0fd</td>\n",
       "      <td>ea593976-d1c9-44f9-a0e1-1c596dfa4c13</td>\n",
       "      <td>3</td>\n",
       "      <td>2025-09-07 14:25:12.993</td>\n",
       "      <td>NaT</td>\n",
       "      <td>persist_error</td>\n",
       "      <td>{'task_name': 'Test task created in code', 'ac...</td>\n",
       "      <td>1</td>\n",
       "    </tr>\n",
       "    <tr>\n",
       "      <th>24</th>\n",
       "      <td>68bd8db81c85677681821871</td>\n",
       "      <td>46d35291-b4b0-4c55-bd5f-b9ea816521ca</td>\n",
       "      <td>3</td>\n",
       "      <td>2025-09-07 13:50:48.576</td>\n",
       "      <td>NaT</td>\n",
       "      <td>persist_error</td>\n",
       "      <td>{'task_name': 'Test task created in code', 'ac...</td>\n",
       "      <td>1</td>\n",
       "    </tr>\n",
       "    <tr>\n",
       "      <th>25</th>\n",
       "      <td>68bd8d961c8567768182186c</td>\n",
       "      <td>351a45fc-272b-4a22-8d0f-6b3316ab41d3</td>\n",
       "      <td>3</td>\n",
       "      <td>2025-09-07 13:50:14.701</td>\n",
       "      <td>NaT</td>\n",
       "      <td>persist_error</td>\n",
       "      <td>{'task_name': 'Test task created in code', 'ac...</td>\n",
       "      <td>1</td>\n",
       "    </tr>\n",
       "    <tr>\n",
       "      <th>26</th>\n",
       "      <td>68bc69579c843bb225add693</td>\n",
       "      <td>99e9dbee-c473-4453-9414-9e63336b4fc1</td>\n",
       "      <td>3</td>\n",
       "      <td>2025-09-06 17:03:19.578</td>\n",
       "      <td>2025-09-06 17:04:37.775</td>\n",
       "      <td>success</td>\n",
       "      <td>{'task_name': 'Test task created in code', 'ac...</td>\n",
       "      <td>25</td>\n",
       "    </tr>\n",
       "    <tr>\n",
       "      <th>27</th>\n",
       "      <td>68bc65839cbb5f24e8f6665c</td>\n",
       "      <td>5ff4abfe-1964-468f-8a1a-99d86b41e9ed</td>\n",
       "      <td>3</td>\n",
       "      <td>2025-09-06 16:46:59.782</td>\n",
       "      <td>2025-09-06 16:48:26.144</td>\n",
       "      <td>success</td>\n",
       "      <td>{'task_name': 'Test task created in code', 'ac...</td>\n",
       "      <td>25</td>\n",
       "    </tr>\n",
       "    <tr>\n",
       "      <th>28</th>\n",
       "      <td>68bc64fd8b93cb0015c470f2</td>\n",
       "      <td>d0b020fc-ef9f-4a33-bb15-340d8db6a2ed</td>\n",
       "      <td>3</td>\n",
       "      <td>2025-09-06 16:44:45.726</td>\n",
       "      <td>NaT</td>\n",
       "      <td>persist_error</td>\n",
       "      <td>{'task_name': 'Test task created in code', 'ac...</td>\n",
       "      <td>3</td>\n",
       "    </tr>\n",
       "    <tr>\n",
       "      <th>29</th>\n",
       "      <td>68bc61cadc6a3eeed99a686c</td>\n",
       "      <td>9bbaa8fa-7867-45e6-89d4-3c6923b01531</td>\n",
       "      <td>3</td>\n",
       "      <td>2025-09-06 16:31:06.849</td>\n",
       "      <td>NaT</td>\n",
       "      <td>persist_error</td>\n",
       "      <td>{'task_name': 'Test task created in code', 'ac...</td>\n",
       "      <td>3</td>\n",
       "    </tr>\n",
       "    <tr>\n",
       "      <th>30</th>\n",
       "      <td>68bc558a1d75ec4c323ccef5</td>\n",
       "      <td>56e6b0df-d44f-40e3-bf54-13157c42c263</td>\n",
       "      <td>3</td>\n",
       "      <td>2025-09-06 15:38:50.749</td>\n",
       "      <td>2025-09-06 15:40:26.762</td>\n",
       "      <td>success</td>\n",
       "      <td>{'task_name': 'Test task created in code', 'ac...</td>\n",
       "      <td>22</td>\n",
       "    </tr>\n",
       "    <tr>\n",
       "      <th>31</th>\n",
       "      <td>68b9d33711b39f33ffbc6647</td>\n",
       "      <td>e5a976ba-2ff5-434a-8e52-c1ed0c31d782</td>\n",
       "      <td>3</td>\n",
       "      <td>2025-09-04 17:58:15.622</td>\n",
       "      <td>2025-09-04 17:59:32.809</td>\n",
       "      <td>success</td>\n",
       "      <td>{'task_name': 'Test task created in code', 'ac...</td>\n",
       "      <td>22</td>\n",
       "    </tr>\n",
       "    <tr>\n",
       "      <th>32</th>\n",
       "      <td>68b9c6904121ac9b54d1e815</td>\n",
       "      <td>c59f904c-f30f-4866-acb5-201f79a432b4</td>\n",
       "      <td>3</td>\n",
       "      <td>2025-09-04 17:04:16.286</td>\n",
       "      <td>2025-09-04 17:05:44.174</td>\n",
       "      <td>success</td>\n",
       "      <td>{'task_name': 'Test task created in code', 'ac...</td>\n",
       "      <td>22</td>\n",
       "    </tr>\n",
       "    <tr>\n",
       "      <th>33</th>\n",
       "      <td>68b8099ab06dc9fbe9b5796e</td>\n",
       "      <td>e7e0ce69-46a9-46d0-aafa-7d572f4f8fb6</td>\n",
       "      <td>3</td>\n",
       "      <td>2025-09-03 09:25:46.261</td>\n",
       "      <td>2025-09-03 09:27:00.639</td>\n",
       "      <td>success</td>\n",
       "      <td>{'task_name': 'Test task created in code', 'ac...</td>\n",
       "      <td>22</td>\n",
       "    </tr>\n",
       "  </tbody>\n",
       "</table>\n",
       "</div>"
      ],
      "text/plain": [
       "                         _id                                run_id  task_id  \\\n",
       "0   68c3fb8aeea8fc46cd74855d  2c461a84-59cf-48ee-99bc-e28fdd0ac7d9        3   \n",
       "1   68c17046f61830ff7b58cdc3  79f20872-d942-4dcd-9df2-d8a71aa641eb        3   \n",
       "2   68bdd072afbf3bb27205101f  4eaccea1-cdd6-46dd-bcc9-4f040a44cb8b        3   \n",
       "3   68bdd065079a86ffbb1f9ddb  9167a43e-1d2d-44e0-9bd0-66520ae9d00a        3   \n",
       "4   68bdd050388c1c19eb8fbb1a  319a6fc3-a02b-4581-96e4-b832920b5b31        3   \n",
       "5   68bdcea7b41a9c42c60ca6a5  5c2f680b-ac67-4fac-8d78-bc3b204ccad5        3   \n",
       "6   68bdcc2c7b76cc7657f5389a  1ef3553d-2e99-4e3d-bde9-8446ce839484        3   \n",
       "7   68bdcaf89b928a1a3bcadbb0  b6dad144-6de6-4b26-8e96-7b6632aa69fd        3   \n",
       "8   68bdcaddf9ebafd47ce0e2b9  e726bec2-76d1-4011-8465-764824bbb0aa        3   \n",
       "9   68bdca77914278b5439dda50  c44813e0-b565-41eb-9bb8-bfaa0ccfbeee        3   \n",
       "10  68bdca5524cac36738cded10  d93aa79f-4a46-470b-95f4-b5544f2d8e1a        3   \n",
       "11  68bdca12afe084657d6c415d  ff6ae179-abcf-4113-8eff-f28355f85bf0        3   \n",
       "12  68bdc99ba00a4e79cd7663b5  7f23a012-c0e4-4cb1-812f-7cbab3f5991d        3   \n",
       "13  68bdc7b614873875258a0999  16354479-1779-42f4-9555-7041f3b48e4f        3   \n",
       "14  68bdc0ab302bd18d1521cdaa  805ae98c-8686-4e40-8fdd-426e3b534f16        3   \n",
       "15  68bdc0885d711c7adf84e6c5  ca7bbe0f-a5c7-4ae4-b16a-252162b6e29b        3   \n",
       "16  68bd9b3d87fac7bef366000d  2620967c-3df1-4a4b-bd14-ce5f467991fc        3   \n",
       "17  68bd9aae503010c324c38d4b  20809c61-3acf-4ef8-992e-2573c5f0ad32        3   \n",
       "18  68bd99fc503010c324c38d30  70e64404-05f3-4dc1-a75f-426c515d7197        3   \n",
       "19  68bd98bb503010c324c38d15  1b469e15-d2cc-462b-a7b3-72ab3bb7796e        3   \n",
       "20  68bd975397def6245285411e  a6aeb7b8-4615-49aa-8c6f-f381de29b349        3   \n",
       "21  68bd96472897e4d57f98e9e0  295ccd76-8ce5-4534-ac6b-8f58b7954fa1        3   \n",
       "22  68bd95def091d8b8d87adc33  38ca65e1-7dc1-4b56-8f9c-0bfbd13f70fb        3   \n",
       "23  68bd95c839c498d82acbe0fd  ea593976-d1c9-44f9-a0e1-1c596dfa4c13        3   \n",
       "24  68bd8db81c85677681821871  46d35291-b4b0-4c55-bd5f-b9ea816521ca        3   \n",
       "25  68bd8d961c8567768182186c  351a45fc-272b-4a22-8d0f-6b3316ab41d3        3   \n",
       "26  68bc69579c843bb225add693  99e9dbee-c473-4453-9414-9e63336b4fc1        3   \n",
       "27  68bc65839cbb5f24e8f6665c  5ff4abfe-1964-468f-8a1a-99d86b41e9ed        3   \n",
       "28  68bc64fd8b93cb0015c470f2  d0b020fc-ef9f-4a33-bb15-340d8db6a2ed        3   \n",
       "29  68bc61cadc6a3eeed99a686c  9bbaa8fa-7867-45e6-89d4-3c6923b01531        3   \n",
       "30  68bc558a1d75ec4c323ccef5  56e6b0df-d44f-40e3-bf54-13157c42c263        3   \n",
       "31  68b9d33711b39f33ffbc6647  e5a976ba-2ff5-434a-8e52-c1ed0c31d782        3   \n",
       "32  68b9c6904121ac9b54d1e815  c59f904c-f30f-4866-acb5-201f79a432b4        3   \n",
       "33  68b8099ab06dc9fbe9b5796e  e7e0ce69-46a9-46d0-aafa-7d572f4f8fb6        3   \n",
       "\n",
       "                started_at             finished_at         status  \\\n",
       "0  2025-09-12 10:52:58.917 2025-09-12 10:54:33.811        success   \n",
       "1  2025-09-10 12:34:14.411 2025-09-10 12:35:38.441        success   \n",
       "2  2025-09-07 18:35:30.098 2025-09-07 18:35:30.121         failed   \n",
       "3  2025-09-07 18:35:17.305 2025-09-07 18:35:17.326         failed   \n",
       "4  2025-09-07 18:34:56.427                     NaT        running   \n",
       "5  2025-09-07 18:27:51.798 2025-09-07 18:27:51.807         failed   \n",
       "6  2025-09-07 18:17:16.011 2025-09-07 18:17:16.021         failed   \n",
       "7  2025-09-07 18:12:08.611 2025-09-07 18:13:31.590        success   \n",
       "8  2025-09-07 18:11:41.645 2025-09-07 18:11:41.652         failed   \n",
       "9  2025-09-07 18:09:59.052 2025-09-07 18:09:59.062         failed   \n",
       "10 2025-09-07 18:09:25.792 2025-09-07 18:09:25.799         failed   \n",
       "11 2025-09-07 18:08:18.749                     NaT        running   \n",
       "12 2025-09-07 18:06:19.444 2025-09-07 18:07:39.860        success   \n",
       "13 2025-09-07 17:58:14.128 2025-09-07 17:59:39.651        success   \n",
       "14 2025-09-07 17:28:11.468 2025-09-07 17:29:36.425        success   \n",
       "15 2025-09-07 17:27:36.954                     NaT  persist_error   \n",
       "16 2025-09-07 14:48:29.248                     NaT  persist_error   \n",
       "17 2025-09-07 14:46:06.880 2025-09-07 14:47:40.083        success   \n",
       "18 2025-09-07 14:43:08.585 2025-09-07 14:44:26.832        success   \n",
       "19 2025-09-07 14:37:47.260 2025-09-07 14:39:07.816        success   \n",
       "20 2025-09-07 14:31:47.859 2025-09-07 14:33:10.942        success   \n",
       "21 2025-09-07 14:27:19.625 2025-09-07 14:28:45.733        success   \n",
       "22 2025-09-07 14:25:34.330 2025-09-07 14:26:58.667  persist_error   \n",
       "23 2025-09-07 14:25:12.993                     NaT  persist_error   \n",
       "24 2025-09-07 13:50:48.576                     NaT  persist_error   \n",
       "25 2025-09-07 13:50:14.701                     NaT  persist_error   \n",
       "26 2025-09-06 17:03:19.578 2025-09-06 17:04:37.775        success   \n",
       "27 2025-09-06 16:46:59.782 2025-09-06 16:48:26.144        success   \n",
       "28 2025-09-06 16:44:45.726                     NaT  persist_error   \n",
       "29 2025-09-06 16:31:06.849                     NaT  persist_error   \n",
       "30 2025-09-06 15:38:50.749 2025-09-06 15:40:26.762        success   \n",
       "31 2025-09-04 17:58:15.622 2025-09-04 17:59:32.809        success   \n",
       "32 2025-09-04 17:04:16.286 2025-09-04 17:05:44.174        success   \n",
       "33 2025-09-03 09:25:46.261 2025-09-03 09:27:00.639        success   \n",
       "\n",
       "                                                 meta  event_count  \n",
       "0   {'task_name': 'Test task created in code', 'ac...           25  \n",
       "1   {'task_name': 'Test task created in code', 'ac...           25  \n",
       "2     {'error': 'Testing connection error handling.'}            4  \n",
       "3     {'error': 'Testing connection error handling.'}            4  \n",
       "4   {'task_name': 'Test task created in code', 'ac...           11  \n",
       "5     {'error': 'Testing connection error handling.'}            0  \n",
       "6     {'error': 'Testing connection error handling.'}            0  \n",
       "7   {'task_name': 'Test task created in code', 'ac...           20  \n",
       "8     {'error': 'Testing connection error handling.'}            0  \n",
       "9   {'error': 'catching classes that do not inheri...            0  \n",
       "10  {'error': 'catching classes that do not inheri...            0  \n",
       "11  {'task_name': 'Test task created in code', 'ac...           14  \n",
       "12  {'task_name': 'Test task created in code', 'ac...           20  \n",
       "13  {'task_name': 'Test task created in code', 'ac...           20  \n",
       "14  {'task_name': 'Test task created in code', 'ac...           25  \n",
       "15  {'task_name': 'Test task created in code', 'ac...            2  \n",
       "16  {'task_name': 'Test task created in code', 'ac...            2  \n",
       "17  {'task_name': 'Test task created in code', 'ac...           25  \n",
       "18  {'task_name': 'Test task created in code', 'ac...           25  \n",
       "19  {'task_name': 'Test task created in code', 'ac...           25  \n",
       "20  {'task_name': 'Test task created in code', 'ac...           22  \n",
       "21  {'task_name': 'Test task created in code', 'ac...           22  \n",
       "22  {'task_name': 'Test task created in code', 'ac...           22  \n",
       "23  {'task_name': 'Test task created in code', 'ac...            1  \n",
       "24  {'task_name': 'Test task created in code', 'ac...            1  \n",
       "25  {'task_name': 'Test task created in code', 'ac...            1  \n",
       "26  {'task_name': 'Test task created in code', 'ac...           25  \n",
       "27  {'task_name': 'Test task created in code', 'ac...           25  \n",
       "28  {'task_name': 'Test task created in code', 'ac...            3  \n",
       "29  {'task_name': 'Test task created in code', 'ac...            3  \n",
       "30  {'task_name': 'Test task created in code', 'ac...           22  \n",
       "31  {'task_name': 'Test task created in code', 'ac...           22  \n",
       "32  {'task_name': 'Test task created in code', 'ac...           22  \n",
       "33  {'task_name': 'Test task created in code', 'ac...           22  "
      ]
     },
     "execution_count": 3,
     "metadata": {},
     "output_type": "execute_result"
    }
   ],
   "source": [
    "await eventManager.get_runs(3)"
   ]
  },
  {
   "cell_type": "code",
   "execution_count": 5,
   "id": "7dd852e6",
   "metadata": {},
   "outputs": [
    {
     "data": {
      "text/html": [
       "<div>\n",
       "<style scoped>\n",
       "    .dataframe tbody tr th:only-of-type {\n",
       "        vertical-align: middle;\n",
       "    }\n",
       "\n",
       "    .dataframe tbody tr th {\n",
       "        vertical-align: top;\n",
       "    }\n",
       "\n",
       "    .dataframe thead th {\n",
       "        text-align: right;\n",
       "    }\n",
       "</style>\n",
       "<table border=\"1\" class=\"dataframe\">\n",
       "  <thead>\n",
       "    <tr style=\"text-align: right;\">\n",
       "      <th></th>\n",
       "      <th>datetime</th>\n",
       "      <th>level</th>\n",
       "      <th>message</th>\n",
       "      <th>event_type</th>\n",
       "      <th>action_type</th>\n",
       "      <th>details</th>\n",
       "      <th>client</th>\n",
       "      <th>post_id</th>\n",
       "      <th>palette</th>\n",
       "      <th>error</th>\n",
       "    </tr>\n",
       "  </thead>\n",
       "  <tbody>\n",
       "    <tr>\n",
       "      <th>0</th>\n",
       "      <td>2025-09-12 10:52:59</td>\n",
       "      <td>INFO</td>\n",
       "      <td>Starting run for task.</td>\n",
       "      <td>info</td>\n",
       "      <td>init</td>\n",
       "      <td>run_start</td>\n",
       "      <td>NaN</td>\n",
       "      <td>NaN</td>\n",
       "      <td>NaN</td>\n",
       "      <td>NaN</td>\n",
       "    </tr>\n",
       "    <tr>\n",
       "      <th>1</th>\n",
       "      <td>2025-09-12 10:52:59</td>\n",
       "      <td>DEBUG</td>\n",
       "      <td>Got accounts and posts objects.</td>\n",
       "      <td>info</td>\n",
       "      <td>init</td>\n",
       "      <td>data_loaded</td>\n",
       "      <td>NaN</td>\n",
       "      <td>NaN</td>\n",
       "      <td>NaN</td>\n",
       "      <td>NaN</td>\n",
       "    </tr>\n",
       "    <tr>\n",
       "      <th>2</th>\n",
       "      <td>2025-09-12 10:53:01</td>\n",
       "      <td>INFO</td>\n",
       "      <td>Connected 3 clients.</td>\n",
       "      <td>info</td>\n",
       "      <td>connecting</td>\n",
       "      <td>client_connect</td>\n",
       "      <td>NaN</td>\n",
       "      <td>NaN</td>\n",
       "      <td>NaN</td>\n",
       "      <td>NaN</td>\n",
       "    </tr>\n",
       "    <tr>\n",
       "      <th>3</th>\n",
       "      <td>2025-09-12 10:53:01</td>\n",
       "      <td>INFO</td>\n",
       "      <td>Validated 3 posts.</td>\n",
       "      <td>info</td>\n",
       "      <td>connecting</td>\n",
       "      <td>posts_validated</td>\n",
       "      <td>NaN</td>\n",
       "      <td>NaN</td>\n",
       "      <td>NaN</td>\n",
       "      <td>NaN</td>\n",
       "    </tr>\n",
       "    <tr>\n",
       "      <th>4</th>\n",
       "      <td>2025-09-12 10:53:01</td>\n",
       "      <td>DEBUG</td>\n",
       "      <td>Proceeding to worker creation</td>\n",
       "      <td>info</td>\n",
       "      <td>action</td>\n",
       "      <td>creating_workers</td>\n",
       "      <td>NaN</td>\n",
       "      <td>NaN</td>\n",
       "      <td>NaN</td>\n",
       "      <td>NaN</td>\n",
       "    </tr>\n",
       "    <tr>\n",
       "      <th>5</th>\n",
       "      <td>2025-09-12 10:53:01</td>\n",
       "      <td>INFO</td>\n",
       "      <td>Worker started for client +18563995311</td>\n",
       "      <td>info</td>\n",
       "      <td>worker</td>\n",
       "      <td>None</td>\n",
       "      <td>NaN</td>\n",
       "      <td>NaN</td>\n",
       "      <td>NaN</td>\n",
       "      <td>NaN</td>\n",
       "    </tr>\n",
       "    <tr>\n",
       "      <th>6</th>\n",
       "      <td>2025-09-12 10:53:01</td>\n",
       "      <td>DEBUG</td>\n",
       "      <td>Worker proceeds to reacting</td>\n",
       "      <td>info</td>\n",
       "      <td>worker</td>\n",
       "      <td>action</td>\n",
       "      <td>NaN</td>\n",
       "      <td>NaN</td>\n",
       "      <td>NaN</td>\n",
       "      <td>NaN</td>\n",
       "    </tr>\n",
       "    <tr>\n",
       "      <th>7</th>\n",
       "      <td>2025-09-12 10:53:01</td>\n",
       "      <td>INFO</td>\n",
       "      <td>Worker started for client +19283944162</td>\n",
       "      <td>info</td>\n",
       "      <td>worker</td>\n",
       "      <td>None</td>\n",
       "      <td>NaN</td>\n",
       "      <td>NaN</td>\n",
       "      <td>NaN</td>\n",
       "      <td>NaN</td>\n",
       "    </tr>\n",
       "    <tr>\n",
       "      <th>8</th>\n",
       "      <td>2025-09-12 10:53:01</td>\n",
       "      <td>DEBUG</td>\n",
       "      <td>Worker proceeds to reacting</td>\n",
       "      <td>info</td>\n",
       "      <td>worker</td>\n",
       "      <td>action</td>\n",
       "      <td>NaN</td>\n",
       "      <td>NaN</td>\n",
       "      <td>NaN</td>\n",
       "      <td>NaN</td>\n",
       "    </tr>\n",
       "    <tr>\n",
       "      <th>9</th>\n",
       "      <td>2025-09-12 10:53:01</td>\n",
       "      <td>INFO</td>\n",
       "      <td>Worker started for client +19708267255</td>\n",
       "      <td>info</td>\n",
       "      <td>worker</td>\n",
       "      <td>None</td>\n",
       "      <td>NaN</td>\n",
       "      <td>NaN</td>\n",
       "      <td>NaN</td>\n",
       "      <td>NaN</td>\n",
       "    </tr>\n",
       "    <tr>\n",
       "      <th>10</th>\n",
       "      <td>2025-09-12 10:53:01</td>\n",
       "      <td>DEBUG</td>\n",
       "      <td>Worker proceeds to reacting</td>\n",
       "      <td>info</td>\n",
       "      <td>worker</td>\n",
       "      <td>action</td>\n",
       "      <td>NaN</td>\n",
       "      <td>NaN</td>\n",
       "      <td>NaN</td>\n",
       "      <td>NaN</td>\n",
       "    </tr>\n",
       "    <tr>\n",
       "      <th>11</th>\n",
       "      <td>2025-09-12 10:53:33</td>\n",
       "      <td>DEBUG</td>\n",
       "      <td>Client +19708267255 reacted to post 6 with neg...</td>\n",
       "      <td>info</td>\n",
       "      <td>worker</td>\n",
       "      <td>react</td>\n",
       "      <td>+19708267255</td>\n",
       "      <td>6.0</td>\n",
       "      <td>negative</td>\n",
       "      <td>NaN</td>\n",
       "    </tr>\n",
       "    <tr>\n",
       "      <th>12</th>\n",
       "      <td>2025-09-12 10:53:33</td>\n",
       "      <td>DEBUG</td>\n",
       "      <td>Client +18563995311 reacted to post 6 with neg...</td>\n",
       "      <td>info</td>\n",
       "      <td>worker</td>\n",
       "      <td>react</td>\n",
       "      <td>+18563995311</td>\n",
       "      <td>6.0</td>\n",
       "      <td>negative</td>\n",
       "      <td>NaN</td>\n",
       "    </tr>\n",
       "    <tr>\n",
       "      <th>13</th>\n",
       "      <td>2025-09-12 10:53:36</td>\n",
       "      <td>DEBUG</td>\n",
       "      <td>Client +19283944162 reacted to post 6 with neg...</td>\n",
       "      <td>info</td>\n",
       "      <td>worker</td>\n",
       "      <td>react</td>\n",
       "      <td>+19283944162</td>\n",
       "      <td>6.0</td>\n",
       "      <td>negative</td>\n",
       "      <td>NaN</td>\n",
       "    </tr>\n",
       "    <tr>\n",
       "      <th>14</th>\n",
       "      <td>2025-09-12 10:54:12</td>\n",
       "      <td>DEBUG</td>\n",
       "      <td>Client +19708267255 reacted to post 7 with neg...</td>\n",
       "      <td>info</td>\n",
       "      <td>worker</td>\n",
       "      <td>react</td>\n",
       "      <td>+19708267255</td>\n",
       "      <td>7.0</td>\n",
       "      <td>negative</td>\n",
       "      <td>NaN</td>\n",
       "    </tr>\n",
       "    <tr>\n",
       "      <th>15</th>\n",
       "      <td>2025-09-12 10:54:18</td>\n",
       "      <td>WARNING</td>\n",
       "      <td>Client +19708267255 failed to react to post 8:...</td>\n",
       "      <td>error</td>\n",
       "      <td>worker</td>\n",
       "      <td>react</td>\n",
       "      <td>NaN</td>\n",
       "      <td>NaN</td>\n",
       "      <td>NaN</td>\n",
       "      <td>AttributeError(\"'NoneType' object has no attri...</td>\n",
       "    </tr>\n",
       "    <tr>\n",
       "      <th>16</th>\n",
       "      <td>2025-09-12 10:54:24</td>\n",
       "      <td>DEBUG</td>\n",
       "      <td>Client +18563995311 reacted to post 7 with neg...</td>\n",
       "      <td>info</td>\n",
       "      <td>worker</td>\n",
       "      <td>react</td>\n",
       "      <td>+18563995311</td>\n",
       "      <td>7.0</td>\n",
       "      <td>negative</td>\n",
       "      <td>NaN</td>\n",
       "    </tr>\n",
       "    <tr>\n",
       "      <th>17</th>\n",
       "      <td>2025-09-12 10:54:28</td>\n",
       "      <td>DEBUG</td>\n",
       "      <td>Client +19283944162 reacted to post 7 with neg...</td>\n",
       "      <td>info</td>\n",
       "      <td>worker</td>\n",
       "      <td>react</td>\n",
       "      <td>+19283944162</td>\n",
       "      <td>7.0</td>\n",
       "      <td>negative</td>\n",
       "      <td>NaN</td>\n",
       "    </tr>\n",
       "    <tr>\n",
       "      <th>18</th>\n",
       "      <td>2025-09-12 10:54:29</td>\n",
       "      <td>WARNING</td>\n",
       "      <td>Client +18563995311 failed to react to post 8:...</td>\n",
       "      <td>error</td>\n",
       "      <td>worker</td>\n",
       "      <td>react</td>\n",
       "      <td>NaN</td>\n",
       "      <td>NaN</td>\n",
       "      <td>NaN</td>\n",
       "      <td>AttributeError(\"'NoneType' object has no attri...</td>\n",
       "    </tr>\n",
       "    <tr>\n",
       "      <th>19</th>\n",
       "      <td>2025-09-12 10:54:34</td>\n",
       "      <td>WARNING</td>\n",
       "      <td>Client +19283944162 failed to react to post 8:...</td>\n",
       "      <td>error</td>\n",
       "      <td>worker</td>\n",
       "      <td>react</td>\n",
       "      <td>NaN</td>\n",
       "      <td>NaN</td>\n",
       "      <td>NaN</td>\n",
       "      <td>AttributeError(\"'NoneType' object has no attri...</td>\n",
       "    </tr>\n",
       "    <tr>\n",
       "      <th>20</th>\n",
       "      <td>2025-09-12 10:54:34</td>\n",
       "      <td>INFO</td>\n",
       "      <td>All workers have finished executing.</td>\n",
       "      <td>info</td>\n",
       "      <td>action</td>\n",
       "      <td>workers_finished</td>\n",
       "      <td>NaN</td>\n",
       "      <td>NaN</td>\n",
       "      <td>NaN</td>\n",
       "      <td>NaN</td>\n",
       "    </tr>\n",
       "    <tr>\n",
       "      <th>21</th>\n",
       "      <td>2025-09-12 10:54:34</td>\n",
       "      <td>WARNING</td>\n",
       "      <td>Worker for client 8140224296 raised an excepti...</td>\n",
       "      <td>error</td>\n",
       "      <td>worker_exception</td>\n",
       "      <td>None</td>\n",
       "      <td>NaN</td>\n",
       "      <td>NaN</td>\n",
       "      <td>NaN</td>\n",
       "      <td>NaN</td>\n",
       "    </tr>\n",
       "    <tr>\n",
       "      <th>22</th>\n",
       "      <td>2025-09-12 10:54:34</td>\n",
       "      <td>WARNING</td>\n",
       "      <td>Worker for client 8008781642 raised an excepti...</td>\n",
       "      <td>error</td>\n",
       "      <td>worker_exception</td>\n",
       "      <td>None</td>\n",
       "      <td>NaN</td>\n",
       "      <td>NaN</td>\n",
       "      <td>NaN</td>\n",
       "      <td>NaN</td>\n",
       "    </tr>\n",
       "    <tr>\n",
       "      <th>23</th>\n",
       "      <td>2025-09-12 10:54:34</td>\n",
       "      <td>WARNING</td>\n",
       "      <td>Worker for client 8014401447 raised an excepti...</td>\n",
       "      <td>error</td>\n",
       "      <td>worker_exception</td>\n",
       "      <td>None</td>\n",
       "      <td>NaN</td>\n",
       "      <td>NaN</td>\n",
       "      <td>NaN</td>\n",
       "      <td>NaN</td>\n",
       "    </tr>\n",
       "    <tr>\n",
       "      <th>24</th>\n",
       "      <td>2025-09-12 10:54:34</td>\n",
       "      <td>INFO</td>\n",
       "      <td>Run has ended.</td>\n",
       "      <td>info</td>\n",
       "      <td>run_end</td>\n",
       "      <td>None</td>\n",
       "      <td>NaN</td>\n",
       "      <td>NaN</td>\n",
       "      <td>NaN</td>\n",
       "      <td>NaN</td>\n",
       "    </tr>\n",
       "  </tbody>\n",
       "</table>\n",
       "</div>"
      ],
      "text/plain": [
       "              datetime    level  \\\n",
       "0  2025-09-12 10:52:59     INFO   \n",
       "1  2025-09-12 10:52:59    DEBUG   \n",
       "2  2025-09-12 10:53:01     INFO   \n",
       "3  2025-09-12 10:53:01     INFO   \n",
       "4  2025-09-12 10:53:01    DEBUG   \n",
       "5  2025-09-12 10:53:01     INFO   \n",
       "6  2025-09-12 10:53:01    DEBUG   \n",
       "7  2025-09-12 10:53:01     INFO   \n",
       "8  2025-09-12 10:53:01    DEBUG   \n",
       "9  2025-09-12 10:53:01     INFO   \n",
       "10 2025-09-12 10:53:01    DEBUG   \n",
       "11 2025-09-12 10:53:33    DEBUG   \n",
       "12 2025-09-12 10:53:33    DEBUG   \n",
       "13 2025-09-12 10:53:36    DEBUG   \n",
       "14 2025-09-12 10:54:12    DEBUG   \n",
       "15 2025-09-12 10:54:18  WARNING   \n",
       "16 2025-09-12 10:54:24    DEBUG   \n",
       "17 2025-09-12 10:54:28    DEBUG   \n",
       "18 2025-09-12 10:54:29  WARNING   \n",
       "19 2025-09-12 10:54:34  WARNING   \n",
       "20 2025-09-12 10:54:34     INFO   \n",
       "21 2025-09-12 10:54:34  WARNING   \n",
       "22 2025-09-12 10:54:34  WARNING   \n",
       "23 2025-09-12 10:54:34  WARNING   \n",
       "24 2025-09-12 10:54:34     INFO   \n",
       "\n",
       "                                              message event_type  \\\n",
       "0                              Starting run for task.       info   \n",
       "1                     Got accounts and posts objects.       info   \n",
       "2                                Connected 3 clients.       info   \n",
       "3                                  Validated 3 posts.       info   \n",
       "4                       Proceeding to worker creation       info   \n",
       "5              Worker started for client +18563995311       info   \n",
       "6                         Worker proceeds to reacting       info   \n",
       "7              Worker started for client +19283944162       info   \n",
       "8                         Worker proceeds to reacting       info   \n",
       "9              Worker started for client +19708267255       info   \n",
       "10                        Worker proceeds to reacting       info   \n",
       "11  Client +19708267255 reacted to post 6 with neg...       info   \n",
       "12  Client +18563995311 reacted to post 6 with neg...       info   \n",
       "13  Client +19283944162 reacted to post 6 with neg...       info   \n",
       "14  Client +19708267255 reacted to post 7 with neg...       info   \n",
       "15  Client +19708267255 failed to react to post 8:...      error   \n",
       "16  Client +18563995311 reacted to post 7 with neg...       info   \n",
       "17  Client +19283944162 reacted to post 7 with neg...       info   \n",
       "18  Client +18563995311 failed to react to post 8:...      error   \n",
       "19  Client +19283944162 failed to react to post 8:...      error   \n",
       "20               All workers have finished executing.       info   \n",
       "21  Worker for client 8140224296 raised an excepti...      error   \n",
       "22  Worker for client 8008781642 raised an excepti...      error   \n",
       "23  Worker for client 8014401447 raised an excepti...      error   \n",
       "24                                     Run has ended.       info   \n",
       "\n",
       "         action_type           details        client  post_id   palette  \\\n",
       "0               init         run_start           NaN      NaN       NaN   \n",
       "1               init       data_loaded           NaN      NaN       NaN   \n",
       "2         connecting    client_connect           NaN      NaN       NaN   \n",
       "3         connecting   posts_validated           NaN      NaN       NaN   \n",
       "4             action  creating_workers           NaN      NaN       NaN   \n",
       "5             worker              None           NaN      NaN       NaN   \n",
       "6             worker            action           NaN      NaN       NaN   \n",
       "7             worker              None           NaN      NaN       NaN   \n",
       "8             worker            action           NaN      NaN       NaN   \n",
       "9             worker              None           NaN      NaN       NaN   \n",
       "10            worker            action           NaN      NaN       NaN   \n",
       "11            worker             react  +19708267255      6.0  negative   \n",
       "12            worker             react  +18563995311      6.0  negative   \n",
       "13            worker             react  +19283944162      6.0  negative   \n",
       "14            worker             react  +19708267255      7.0  negative   \n",
       "15            worker             react           NaN      NaN       NaN   \n",
       "16            worker             react  +18563995311      7.0  negative   \n",
       "17            worker             react  +19283944162      7.0  negative   \n",
       "18            worker             react           NaN      NaN       NaN   \n",
       "19            worker             react           NaN      NaN       NaN   \n",
       "20            action  workers_finished           NaN      NaN       NaN   \n",
       "21  worker_exception              None           NaN      NaN       NaN   \n",
       "22  worker_exception              None           NaN      NaN       NaN   \n",
       "23  worker_exception              None           NaN      NaN       NaN   \n",
       "24           run_end              None           NaN      NaN       NaN   \n",
       "\n",
       "                                                error  \n",
       "0                                                 NaN  \n",
       "1                                                 NaN  \n",
       "2                                                 NaN  \n",
       "3                                                 NaN  \n",
       "4                                                 NaN  \n",
       "5                                                 NaN  \n",
       "6                                                 NaN  \n",
       "7                                                 NaN  \n",
       "8                                                 NaN  \n",
       "9                                                 NaN  \n",
       "10                                                NaN  \n",
       "11                                                NaN  \n",
       "12                                                NaN  \n",
       "13                                                NaN  \n",
       "14                                                NaN  \n",
       "15  AttributeError(\"'NoneType' object has no attri...  \n",
       "16                                                NaN  \n",
       "17                                                NaN  \n",
       "18  AttributeError(\"'NoneType' object has no attri...  \n",
       "19  AttributeError(\"'NoneType' object has no attri...  \n",
       "20                                                NaN  \n",
       "21                                                NaN  \n",
       "22                                                NaN  \n",
       "23                                                NaN  \n",
       "24                                                NaN  "
      ]
     },
     "execution_count": 5,
     "metadata": {},
     "output_type": "execute_result"
    }
   ],
   "source": [
    "data = await create_report(await eventManager.get_events('2c461a84-59cf-48ee-99bc-e28fdd0ac7d9'), type='full')\n",
    "data"
   ]
  },
  {
   "cell_type": "markdown",
   "id": "027e3209",
   "metadata": {},
   "source": [
    "## Session creating"
   ]
  },
  {
   "cell_type": "code",
   "execution_count": 1,
   "id": "62811ce3",
   "metadata": {},
   "outputs": [],
   "source": [
    "from agent import Account, Client"
   ]
  },
  {
   "cell_type": "code",
   "execution_count": 4,
   "id": "db743d6d",
   "metadata": {},
   "outputs": [],
   "source": [
    "# from schemas import SchemaMigration\n",
    "# SchemaMigration.print_migration_guide()"
   ]
  },
  {
   "cell_type": "code",
   "execution_count": 4,
   "id": "c1b947fc",
   "metadata": {},
   "outputs": [
    {
     "data": {
      "text/plain": [
       "Account(None, +1234567890)"
      ]
     },
     "execution_count": 4,
     "metadata": {},
     "output_type": "execute_result"
    }
   ],
   "source": [
    "acc = Account.from_keys(\n",
    "    phone_number='+1234567890',\n",
    "    twofa=True,\n",
    "    password_encrypted='encrypted_password',\n",
    "    notes='Test account'\n",
    ")\n",
    "acc"
   ]
  },
  {
   "cell_type": "code",
   "execution_count": null,
   "id": "1e4cf8ae",
   "metadata": {},
   "outputs": [],
   "source": [
    "acc = await acc.create_connection()"
   ]
  },
  {
   "cell_type": "code",
   "execution_count": null,
   "id": "166bcf2b",
   "metadata": {},
   "outputs": [],
   "source": [
    "acc"
   ]
  }
 ],
 "metadata": {
  "kernelspec": {
   "display_name": ".venv",
   "language": "python",
   "name": "python3"
  },
  "language_info": {
   "codemirror_mode": {
    "name": "ipython",
    "version": 3
   },
   "file_extension": ".py",
   "mimetype": "text/x-python",
   "name": "python",
   "nbconvert_exporter": "python",
   "pygments_lexer": "ipython3",
   "version": "3.12.6"
  }
 },
 "nbformat": 4,
 "nbformat_minor": 5
}
