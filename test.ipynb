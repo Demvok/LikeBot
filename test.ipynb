{
 "cells": [
  {
   "cell_type": "markdown",
   "id": "51522fcd",
   "metadata": {},
   "source": [
    "### Task test"
   ]
  },
  {
   "cell_type": "code",
   "execution_count": 1,
   "id": "ea211796",
   "metadata": {},
   "outputs": [],
   "source": [
    "from taskhandler import *\n",
    "from database import get_db\n",
    "from logger import setup_logger\n",
    "logger = setup_logger(\"main\", \"main.log\")\n",
    "Task.logger = logger\n",
    "db = get_db()"
   ]
  },
  {
   "cell_type": "code",
   "execution_count": 2,
   "id": "fb67928c",
   "metadata": {},
   "outputs": [],
   "source": [
    "# \n",
    "# tyt byw ura mhwah\n",
    "# heh"
   ]
  },
  {
   "cell_type": "code",
   "execution_count": 3,
   "id": "f747d867",
   "metadata": {},
   "outputs": [],
   "source": [
    "# client = await db.load_all_accounts()\n",
    "# client = await client[0].create_connection()\n",
    "# client"
   ]
  },
  {
   "cell_type": "code",
   "execution_count": 4,
   "id": "2749c17b",
   "metadata": {},
   "outputs": [
    {
     "data": {
      "text/plain": [
       "{'task_id': 0,\n",
       " 'name': 'Text reading speed test',\n",
       " 'description': 'A task to measure text reading speed.',\n",
       " 'post_ids': [2],\n",
       " 'accounts': ['+18563995311'],\n",
       " 'action': {'type': 'react', 'palette': 'positive'},\n",
       " 'status': 'PENDING',\n",
       " 'created_at': '2025-08-18T19:23:21.692553',\n",
       " 'updated_at': '2025-08-18T19:23:21.693552'}"
      ]
     },
     "execution_count": 4,
     "metadata": {},
     "output_type": "execute_result"
    }
   ],
   "source": [
    "tasks = await db.load_all_tasks()\n",
    "task = tasks[1]\n",
    "task.to_dict()"
   ]
  },
  {
   "cell_type": "code",
   "execution_count": null,
   "id": "bf194db0",
   "metadata": {},
   "outputs": [
    {
     "name": "stdout",
     "output_type": "stream",
     "text": [
      "2025-08-26 18:52:56 - main         - INFO - Starting task 0 - Text reading speed test...\n"
     ]
    },
    {
     "name": "stdout",
     "output_type": "stream",
     "text": [
      "2025-08-26 18:52:56 - main         - INFO - Connecting clients for 1 accounts...\n",
      "2025-08-26 18:52:56 - +18563995311 - INFO - Initializing client for +18563995311. Awaiting connection...\n",
      "2025-08-26 18:52:58 - +18563995311 - DEBUG - Client for +18563995311 started successfully.\n",
      "2025-08-26 18:52:58 - main         - INFO - Connected clients for 1 accounts.\n",
      "2025-08-26 18:52:58 - main         - INFO - Validating 1 posts...\n",
      "2025-08-26 18:52:58 - main         - INFO - Validated 1 posts: 0 newly validated, 1 already validated, 0 failed validation.\n",
      "2025-08-26 18:52:59 - +18563995311 - DEBUG - Estimated reading time: 1.181 seconds\n",
      "2025-08-26 18:53:01 - +18563995311 - INFO - Reaction added successfully\n",
      "2025-08-26 18:53:01 - main         - DEBUG - Client 8140224296 reacted to post 2\n",
      "2025-08-26 18:53:01 - +18563995311 - INFO - Client for +18563995311 disconnected.\n",
      "2025-08-26 18:53:01 - main         - INFO - Task 0 completed successfully.\n"
     ]
    }
   ],
   "source": [
    "await task.start()"
   ]
  },
  {
   "cell_type": "code",
   "execution_count": 9,
   "id": "f5afe982",
   "metadata": {},
   "outputs": [
    {
     "data": {
      "text/plain": [
       "FINISHED"
      ]
     },
     "execution_count": 9,
     "metadata": {},
     "output_type": "execute_result"
    }
   ],
   "source": [
    "await task.get_status()"
   ]
  },
  {
   "cell_type": "code",
   "execution_count": 7,
   "id": "efa01d7f",
   "metadata": {},
   "outputs": [],
   "source": [
    "# await task.pause()"
   ]
  },
  {
   "cell_type": "code",
   "execution_count": 8,
   "id": "b1a0f632",
   "metadata": {},
   "outputs": [],
   "source": [
    "# await task.resume()"
   ]
  },
  {
   "cell_type": "markdown",
   "id": "3f97c794",
   "metadata": {},
   "source": [
    "## DB tests"
   ]
  },
  {
   "cell_type": "markdown",
   "id": "fdc0f0de",
   "metadata": {},
   "source": [
    "### init"
   ]
  },
  {
   "cell_type": "code",
   "execution_count": 1,
   "id": "21346be2",
   "metadata": {},
   "outputs": [],
   "source": [
    "from database import get_db\n",
    "from agent import Account\n",
    "from taskhandler import Task, Post"
   ]
  },
  {
   "cell_type": "code",
   "execution_count": 2,
   "id": "3c22e705",
   "metadata": {},
   "outputs": [],
   "source": [
    "db = get_db()"
   ]
  },
  {
   "cell_type": "code",
   "execution_count": 3,
   "id": "5bca3cd3",
   "metadata": {},
   "outputs": [
    {
     "name": "stdout",
     "output_type": "stream",
     "text": [
      "2025-08-21 21:26:24 - +18563995311    - INFO - N/A - Initializing client for +18563995311. Awaiting connection...\n"
     ]
    },
    {
     "name": "stdout",
     "output_type": "stream",
     "text": [
      "2025-08-21 21:26:26 - +18563995311    - DEBUG - N/A - Client for +18563995311 started successfully.\n",
      "2025-08-21 21:26:26 - +18563995311    - INFO - N/A - Updated account_id for +18563995311 to 8140224296\n",
      "2025-08-21 21:26:26 - +18563995311    - INFO - N/A - Client for +18563995311 connected successfully.\n"
     ]
    },
    {
     "data": {
      "text/plain": [
       "Client(Account ID: 8140224296, phone: +18563995311, session: valya_nikitenko) connected: True"
      ]
     },
     "execution_count": 3,
     "metadata": {},
     "output_type": "execute_result"
    }
   ],
   "source": [
    "# client = await db.load_all_accounts()\n",
    "# client = client[0]\n",
    "# client = await client.create_connection()\n",
    "# client"
   ]
  },
  {
   "cell_type": "markdown",
   "id": "7dbb3a3c",
   "metadata": {},
   "source": [
    "### load"
   ]
  },
  {
   "cell_type": "code",
   "execution_count": 4,
   "id": "21a342f3",
   "metadata": {},
   "outputs": [
    {
     "data": {
      "text/plain": [
       "[Account(8140224296, +18563995311),\n",
       " Account(None, +19283944162),\n",
       " Account(None, +19708267255)]"
      ]
     },
     "execution_count": 4,
     "metadata": {},
     "output_type": "execute_result"
    }
   ],
   "source": [
    "await db.load_all_accounts()"
   ]
  },
  {
   "cell_type": "code",
   "execution_count": 4,
   "id": "e8754370",
   "metadata": {},
   "outputs": [
    {
     "data": {
      "text/plain": [
       "[Post(1, validated, https://t.me/c/2723750105/14),\n",
       " Post(2, validated, https://t.me/c/2723750105/15),\n",
       " Post(3, validated, https://t.me/c/2723750105/16),\n",
       " Post(4, validated, https://t.me/c/2723750105/20),\n",
       " Post(5, validated, https://t.me/c/2723750105/18)]"
      ]
     },
     "execution_count": 4,
     "metadata": {},
     "output_type": "execute_result"
    }
   ],
   "source": [
    "await db.load_all_posts()"
   ]
  },
  {
   "cell_type": "code",
   "execution_count": 22,
   "id": "08a4bcf8",
   "metadata": {},
   "outputs": [
    {
     "data": {
      "text/plain": [
       "[Task(1, Test task name, PENDING, 2025-08-07T20:27:29.954892, 2025-08-07T20:27:29.954892),\n",
       " Task(0, Text reading speed test, PENDING, 2025-08-18T19:23:21.692553, 2025-08-18T19:23:21.693552)]"
      ]
     },
     "execution_count": 22,
     "metadata": {},
     "output_type": "execute_result"
    }
   ],
   "source": [
    "await db.load_all_tasks()"
   ]
  },
  {
   "cell_type": "markdown",
   "id": "dd956569",
   "metadata": {},
   "source": [
    "### save all"
   ]
  },
  {
   "cell_type": "code",
   "execution_count": 7,
   "id": "48caa219",
   "metadata": {},
   "outputs": [],
   "source": [
    "await db.save_all_accounts(await db.load_all_accounts())"
   ]
  },
  {
   "cell_type": "code",
   "execution_count": 8,
   "id": "e9db58d8",
   "metadata": {},
   "outputs": [],
   "source": [
    "await db.save_all_posts(await db.load_all_posts())"
   ]
  },
  {
   "cell_type": "code",
   "execution_count": 9,
   "id": "654301bd",
   "metadata": {},
   "outputs": [],
   "source": [
    "await db.save_all_tasks(await db.load_all_tasks())"
   ]
  },
  {
   "cell_type": "markdown",
   "id": "6eafa1ae",
   "metadata": {},
   "source": [
    "### add, update and delete"
   ]
  },
  {
   "cell_type": "markdown",
   "id": "eb9dd42b",
   "metadata": {},
   "source": [
    "#### account"
   ]
  },
  {
   "cell_type": "code",
   "execution_count": 10,
   "id": "8b0a1a88",
   "metadata": {},
   "outputs": [
    {
     "data": {
      "text/plain": [
       "True"
      ]
     },
     "execution_count": 10,
     "metadata": {},
     "output_type": "execute_result"
    }
   ],
   "source": [
    "await db.add_account(Account.from_keys(phone_number='+123'))"
   ]
  },
  {
   "cell_type": "code",
   "execution_count": 11,
   "id": "b2b72714",
   "metadata": {},
   "outputs": [
    {
     "data": {
      "text/plain": [
       "Account(None, +123)"
      ]
     },
     "execution_count": 11,
     "metadata": {},
     "output_type": "execute_result"
    }
   ],
   "source": [
    "await db.get_account('+123')"
   ]
  },
  {
   "cell_type": "code",
   "execution_count": 12,
   "id": "8fa039b1",
   "metadata": {},
   "outputs": [
    {
     "data": {
      "text/plain": [
       "True"
      ]
     },
     "execution_count": 12,
     "metadata": {},
     "output_type": "execute_result"
    }
   ],
   "source": [
    "await db.update_account('+123', {'session_name': 'new_session'})"
   ]
  },
  {
   "cell_type": "code",
   "execution_count": 13,
   "id": "8350521b",
   "metadata": {},
   "outputs": [
    {
     "data": {
      "text/plain": [
       "True"
      ]
     },
     "execution_count": 13,
     "metadata": {},
     "output_type": "execute_result"
    }
   ],
   "source": [
    "await db.delete_account('+123')"
   ]
  },
  {
   "cell_type": "markdown",
   "id": "05c58a6b",
   "metadata": {},
   "source": [
    "#### post"
   ]
  },
  {
   "cell_type": "code",
   "execution_count": 14,
   "id": "8193a818",
   "metadata": {},
   "outputs": [
    {
     "data": {
      "text/plain": [
       "True"
      ]
     },
     "execution_count": 14,
     "metadata": {},
     "output_type": "execute_result"
    }
   ],
   "source": [
    "await db.add_post(Post.from_keys(post_id=-1, message_link='https://example.com/post1'))"
   ]
  },
  {
   "cell_type": "code",
   "execution_count": 15,
   "id": "c7c010dc",
   "metadata": {},
   "outputs": [
    {
     "data": {
      "text/plain": [
       "Post(-1, unvalidated, https://example.com/post1)"
      ]
     },
     "execution_count": 15,
     "metadata": {},
     "output_type": "execute_result"
    }
   ],
   "source": [
    "await db.get_post(-1)"
   ]
  },
  {
   "cell_type": "code",
   "execution_count": 16,
   "id": "689d2760",
   "metadata": {},
   "outputs": [
    {
     "data": {
      "text/plain": [
       "True"
      ]
     },
     "execution_count": 16,
     "metadata": {},
     "output_type": "execute_result"
    }
   ],
   "source": [
    "await db.update_post(-1, {'message_link': 'https://example.com/updated_post1'})"
   ]
  },
  {
   "cell_type": "code",
   "execution_count": 17,
   "id": "e0b483f8",
   "metadata": {},
   "outputs": [
    {
     "data": {
      "text/plain": [
       "True"
      ]
     },
     "execution_count": 17,
     "metadata": {},
     "output_type": "execute_result"
    }
   ],
   "source": [
    "await db.delete_post(-1)"
   ]
  },
  {
   "cell_type": "markdown",
   "id": "01c6938a",
   "metadata": {},
   "source": [
    "#### task"
   ]
  },
  {
   "cell_type": "code",
   "execution_count": 18,
   "id": "d61d35b5",
   "metadata": {},
   "outputs": [
    {
     "data": {
      "text/plain": [
       "True"
      ]
     },
     "execution_count": 18,
     "metadata": {},
     "output_type": "execute_result"
    }
   ],
   "source": [
    "await db.add_task(Task(-1, 'db test', [-1], [], []))"
   ]
  },
  {
   "cell_type": "code",
   "execution_count": 19,
   "id": "28af0590",
   "metadata": {},
   "outputs": [
    {
     "data": {
      "text/plain": [
       "Task(-1, db test, PENDING, 2025-08-21T21:21:38.668572, 2025-08-21T21:21:38.668572)"
      ]
     },
     "execution_count": 19,
     "metadata": {},
     "output_type": "execute_result"
    }
   ],
   "source": [
    "await db.get_task(-1)"
   ]
  },
  {
   "cell_type": "code",
   "execution_count": 20,
   "id": "d847aad0",
   "metadata": {},
   "outputs": [
    {
     "data": {
      "text/plain": [
       "False"
      ]
     },
     "execution_count": 20,
     "metadata": {},
     "output_type": "execute_result"
    }
   ],
   "source": [
    "await db.update_task('-1', {'name': 'updated db test'})"
   ]
  },
  {
   "cell_type": "code",
   "execution_count": 21,
   "id": "880c51cb",
   "metadata": {},
   "outputs": [
    {
     "data": {
      "text/plain": [
       "False"
      ]
     },
     "execution_count": 21,
     "metadata": {},
     "output_type": "execute_result"
    }
   ],
   "source": [
    "await db.delete_task('-1')"
   ]
  },
  {
   "cell_type": "markdown",
   "id": "0fdec9c2",
   "metadata": {},
   "source": [
    "## Else"
   ]
  },
  {
   "cell_type": "code",
   "execution_count": null,
   "id": "6f056aaf",
   "metadata": {},
   "outputs": [],
   "source": []
  }
 ],
 "metadata": {
  "kernelspec": {
   "display_name": ".venv",
   "language": "python",
   "name": "python3"
  },
  "language_info": {
   "codemirror_mode": {
    "name": "ipython",
    "version": 3
   },
   "file_extension": ".py",
   "mimetype": "text/x-python",
   "name": "python",
   "nbconvert_exporter": "python",
   "pygments_lexer": "ipython3",
   "version": "3.12.6"
  }
 },
 "nbformat": 4,
 "nbformat_minor": 5
}
