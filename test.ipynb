{
 "cells": [
  {
   "cell_type": "markdown",
   "id": "51522fcd",
   "metadata": {},
   "source": [
    "### Task test"
   ]
  },
  {
   "cell_type": "code",
   "execution_count": 1,
   "id": "ea211796",
   "metadata": {},
   "outputs": [],
   "source": [
    "from taskhandler import *\n",
    "from database import get_db\n",
    "db = get_db()"
   ]
  },
  {
   "cell_type": "code",
   "execution_count": 2,
   "id": "fb67928c",
   "metadata": {},
   "outputs": [],
   "source": [
    "# \n",
    "# tyt byw ura mhwah\n",
    "# heh"
   ]
  },
  {
   "cell_type": "code",
   "execution_count": 3,
   "id": "f747d867",
   "metadata": {},
   "outputs": [],
   "source": [
    "# client = await db.load_all_accounts()\n",
    "# client = await client[0].create_connection()\n",
    "# client"
   ]
  },
  {
   "cell_type": "code",
   "execution_count": 4,
   "id": "2749c17b",
   "metadata": {},
   "outputs": [
    {
     "name": "stdout",
     "output_type": "stream",
     "text": [
      "2025-09-06 20:03:19 - DB   - INFO    - Initializing MongoDB client and collections.\n",
      "2025-09-06 20:03:19 - DB   - INFO    - Loading all tasks from MongoDB.\n",
      "2025-09-06 20:03:19 - DB   - DEBUG   - Loaded 4 tasks from MongoDB.\n"
     ]
    },
    {
     "data": {
      "text/plain": [
       "{'task_id': 0,\n",
       " 'name': 'Text reading speed test',\n",
       " 'description': 'A task to measure text reading speed.',\n",
       " 'post_ids': [2],\n",
       " 'accounts': ['+18563995311'],\n",
       " 'action': {'type': 'react', 'palette': 'positive'},\n",
       " 'status': 'PENDING',\n",
       " 'created_at': '2025-08-18T19:23:21.692553',\n",
       " 'updated_at': '2025-08-18T19:23:21.693552'}"
      ]
     },
     "execution_count": 4,
     "metadata": {},
     "output_type": "execute_result"
    }
   ],
   "source": [
    "tasks = await db.load_all_tasks()\n",
    "task = tasks[1]\n",
    "task.to_dict()"
   ]
  },
  {
   "cell_type": "code",
   "execution_count": 5,
   "id": "451ef7f6",
   "metadata": {},
   "outputs": [
    {
     "name": "stdout",
     "output_type": "stream",
     "text": [
      "2025-09-06 20:03:19 - DB   - INFO    - Getting task from MongoDB with task_id: 3\n",
      "2025-09-06 20:03:19 - DB   - DEBUG   - Task found in MongoDB: {'task_id': 3, 'name': 'Test task created in code', 'description': 'Just a test task', 'post_ids': [6, 7, 8], 'accounts': ['+19283944162', '+19708267255', '+18563995311'], 'action': {'type': 'react', 'palette': 'negative'}, 'status': 'FINISHED', 'created_at': '2025-09-02T19:47:34.217079', 'updated_at': '2025-09-02T19:47:34.217079'}\n"
     ]
    },
    {
     "data": {
      "text/plain": [
       "{'task_id': 3,\n",
       " 'name': 'Test task created in code',\n",
       " 'description': 'Just a test task',\n",
       " 'post_ids': [6, 7, 8],\n",
       " 'accounts': ['+19283944162', '+19708267255', '+18563995311'],\n",
       " 'action': {'type': 'react', 'palette': 'negative'},\n",
       " 'status': 'FINISHED',\n",
       " 'created_at': '2025-09-02T19:47:34.217079',\n",
       " 'updated_at': '2025-09-02T19:47:34.217079'}"
      ]
     },
     "execution_count": 5,
     "metadata": {},
     "output_type": "execute_result"
    }
   ],
   "source": [
    "task = await db.get_task(3)\n",
    "task.to_dict()"
   ]
  },
  {
   "cell_type": "code",
   "execution_count": null,
   "id": "bf194db0",
   "metadata": {},
   "outputs": [
    {
     "name": "stdout",
     "output_type": "stream",
     "text": [
      "2025-09-06 20:03:19 - main - INFO    - Starting task 3 - Test task created in code...\n",
      "2025-09-06 20:03:19 - DB   - INFO    - Updating task 3 in MongoDB with data: {'status': 'RUNNING'}\n",
      "2025-09-06 20:03:19 - DB   - DEBUG   - Task 3 update result: 1\n"
     ]
    },
    {
     "name": "stdout",
     "output_type": "stream",
     "text": [
      "2025-09-06 20:03:19 - DB   - INFO    - Loading all accounts from MongoDB.\n",
      "2025-09-06 20:03:19 - DB   - DEBUG   - Loaded 3 accounts from MongoDB.\n",
      "2025-09-06 20:03:19 - DB   - INFO    - Loading all posts from MongoDB.\n",
      "2025-09-06 20:03:19 - DB   - DEBUG   - Loaded 8 posts from MongoDB.\n",
      "2025-09-06 20:03:19 - main - INFO    - Connecting clients for 3 accounts...\n",
      "2025-09-06 20:03:19 - +18563995311 - INFO    - Initializing client for +18563995311. Awaiting connection...\n",
      "2025-09-06 20:03:19 - +19283944162 - INFO    - Initializing client for +19283944162. Awaiting connection...\n",
      "2025-09-06 20:03:19 - +19708267255 - INFO    - Initializing client for +19708267255. Awaiting connection...\n",
      "2025-09-06 20:03:21 - +19283944162 - DEBUG   - Client for +19283944162 started successfully.\n",
      "2025-09-06 20:03:21 - +19708267255 - DEBUG   - Client for +19708267255 started successfully.\n",
      "2025-09-06 20:03:21 - +18563995311 - DEBUG   - Client for +18563995311 started successfully.\n",
      "2025-09-06 20:03:21 - main - INFO    - Connected clients for 3 accounts.\n",
      "2025-09-06 20:03:21 - main - INFO    - Validating 3 posts...\n",
      "2025-09-06 20:03:21 - main - INFO    - Validated 3 posts: 0 newly validated, 3 already validated, 0 failed validation.\n",
      "2025-09-06 20:03:21 - main - INFO    - Task 3 proceeding with action: react\n",
      "2025-09-06 20:03:21 - main - INFO    - Created 3 workers for task 3.\n",
      "2025-09-06 20:03:23 - +19283944162 - DEBUG   - Estimated reading time: 18.818 seconds\n",
      "2025-09-06 20:03:23 - +19708267255 - DEBUG   - Estimated reading time: 21.231 seconds\n",
      "2025-09-06 20:03:23 - +18563995311 - DEBUG   - Estimated reading time: 16.172 seconds\n",
      "2025-09-06 20:03:41 - +18563995311 - INFO    - Reaction added successfully\n",
      "2025-09-06 20:03:41 - main - DEBUG   - Client 8140224296 reacted to post 6\n",
      "2025-09-06 20:03:42 - +18563995311 - DEBUG   - Estimated reading time: 48.279 seconds\n",
      "2025-09-06 20:03:43 - +19283944162 - INFO    - Reaction added successfully\n",
      "2025-09-06 20:03:43 - main - DEBUG   - Client 8008781642 reacted to post 6\n",
      "2025-09-06 20:03:44 - +19283944162 - DEBUG   - Estimated reading time: 45.526 seconds\n",
      "2025-09-06 20:03:46 - +19708267255 - INFO    - Reaction added successfully\n",
      "2025-09-06 20:03:46 - main - DEBUG   - Client 8014401447 reacted to post 6\n",
      "2025-09-06 20:03:47 - +19708267255 - DEBUG   - Estimated reading time: 41.855 seconds\n",
      "2025-09-06 20:04:30 - +19708267255 - INFO    - Reaction added successfully\n",
      "2025-09-06 20:04:30 - main - DEBUG   - Client 8014401447 reacted to post 7\n",
      "2025-09-06 20:04:30 - +19708267255 - WARNING - React failed (attempt 1/3): 'NoneType' object has no attribute 'id'\n",
      "2025-09-06 20:04:31 - +18563995311 - INFO    - Reaction added successfully\n",
      "2025-09-06 20:04:31 - main - DEBUG   - Client 8140224296 reacted to post 7\n",
      "2025-09-06 20:04:32 - +19283944162 - INFO    - Reaction added successfully\n",
      "2025-09-06 20:04:32 - main - DEBUG   - Client 8008781642 reacted to post 7\n",
      "2025-09-06 20:04:32 - +18563995311 - WARNING - React failed (attempt 1/3): 'NoneType' object has no attribute 'id'\n",
      "2025-09-06 20:04:32 - +19283944162 - WARNING - React failed (attempt 1/3): 'NoneType' object has no attribute 'id'\n",
      "2025-09-06 20:04:33 - +19708267255 - WARNING - React failed (attempt 2/3): 'NoneType' object has no attribute 'id'\n",
      "2025-09-06 20:04:34 - +18563995311 - WARNING - React failed (attempt 2/3): 'NoneType' object has no attribute 'id'\n",
      "2025-09-06 20:04:35 - +19283944162 - WARNING - React failed (attempt 2/3): 'NoneType' object has no attribute 'id'\n",
      "2025-09-06 20:04:35 - +19708267255 - WARNING - React failed (attempt 3/3): 'NoneType' object has no attribute 'id'\n",
      "2025-09-06 20:04:35 - main - WARNING - Client 8014401447 failed to react to post 8: 'NoneType' object has no attribute 'id'\n",
      "2025-09-06 20:04:37 - +18563995311 - WARNING - React failed (attempt 3/3): 'NoneType' object has no attribute 'id'\n",
      "2025-09-06 20:04:37 - main - WARNING - Client 8140224296 failed to react to post 8: 'NoneType' object has no attribute 'id'\n",
      "2025-09-06 20:04:37 - +19283944162 - WARNING - React failed (attempt 3/3): 'NoneType' object has no attribute 'id'\n",
      "2025-09-06 20:04:37 - main - WARNING - Client 8008781642 failed to react to post 8: 'NoneType' object has no attribute 'id'\n",
      "2025-09-06 20:04:37 - main - INFO    - All workers for task 3 have finished executing.\n",
      "2025-09-06 20:04:37 - main - ERROR   - Error in worker for client 8140224296: 'NoneType' object has no attribute 'id'\n",
      "2025-09-06 20:04:37 - main - ERROR   - Error in worker for client 8008781642: 'NoneType' object has no attribute 'id'\n",
      "2025-09-06 20:04:37 - main - ERROR   - Error in worker for client 8014401447: 'NoneType' object has no attribute 'id'\n",
      "2025-09-06 20:04:37 - main - INFO    - Disconnecting 3 clients...\n",
      "2025-09-06 20:04:37 - +18563995311 - INFO    - Client for +18563995311 disconnected.\n",
      "2025-09-06 20:04:37 - +19283944162 - INFO    - Client for +19283944162 disconnected.\n",
      "2025-09-06 20:04:37 - +19708267255 - INFO    - Client for +19708267255 disconnected.\n",
      "2025-09-06 20:04:37 - main - INFO    - Disconnected 3 clients.\n",
      "2025-09-06 20:04:37 - DB   - INFO    - Updating task 3 in MongoDB with data: {'status': 'FINISHED'}\n",
      "2025-09-06 20:04:37 - DB   - DEBUG   - Task 3 update result: 1\n",
      "2025-09-06 20:04:37 - main - INFO    - Task 3 completed successfully.\n"
     ]
    }
   ],
   "source": [
    "await task.start()"
   ]
  },
  {
   "cell_type": "code",
   "execution_count": 7,
   "id": "f5afe982",
   "metadata": {},
   "outputs": [
    {
     "data": {
      "text/plain": [
       "RUNNING"
      ]
     },
     "execution_count": 7,
     "metadata": {},
     "output_type": "execute_result"
    }
   ],
   "source": [
    "await task.get_status()"
   ]
  },
  {
   "cell_type": "code",
   "execution_count": 8,
   "id": "12989c37",
   "metadata": {},
   "outputs": [],
   "source": [
    "# await task.pause()\n",
    "# await task.resume()"
   ]
  },
  {
   "cell_type": "code",
   "execution_count": 9,
   "id": "efa01d7f",
   "metadata": {},
   "outputs": [],
   "source": [
    "# await task.pause()"
   ]
  },
  {
   "cell_type": "code",
   "execution_count": 10,
   "id": "b1a0f632",
   "metadata": {},
   "outputs": [],
   "source": [
    "# await task.resume()"
   ]
  },
  {
   "cell_type": "markdown",
   "id": "3f97c794",
   "metadata": {},
   "source": [
    "## DB tests"
   ]
  },
  {
   "cell_type": "markdown",
   "id": "fdc0f0de",
   "metadata": {},
   "source": [
    "### init"
   ]
  },
  {
   "cell_type": "code",
   "execution_count": 9,
   "id": "21346be2",
   "metadata": {},
   "outputs": [],
   "source": [
    "from database import get_db\n",
    "from agent import Account\n",
    "from taskhandler import Task, Post"
   ]
  },
  {
   "cell_type": "code",
   "execution_count": 10,
   "id": "3c22e705",
   "metadata": {},
   "outputs": [],
   "source": [
    "db = get_db()"
   ]
  },
  {
   "cell_type": "code",
   "execution_count": 11,
   "id": "5bca3cd3",
   "metadata": {},
   "outputs": [],
   "source": [
    "# client = await db.load_all_accounts()\n",
    "# client = client[0]\n",
    "# client = await client.create_connection()\n",
    "# client"
   ]
  },
  {
   "cell_type": "markdown",
   "id": "7dbb3a3c",
   "metadata": {},
   "source": [
    "### load"
   ]
  },
  {
   "cell_type": "code",
   "execution_count": 12,
   "id": "21a342f3",
   "metadata": {},
   "outputs": [
    {
     "data": {
      "text/plain": [
       "[Account(8140224296, +18563995311),\n",
       " Account(None, +19283944162),\n",
       " Account(None, +19708267255)]"
      ]
     },
     "execution_count": 12,
     "metadata": {},
     "output_type": "execute_result"
    }
   ],
   "source": [
    "await db.load_all_accounts()"
   ]
  },
  {
   "cell_type": "code",
   "execution_count": 13,
   "id": "e8754370",
   "metadata": {},
   "outputs": [
    {
     "data": {
      "text/plain": [
       "[Post(1, validated, https://t.me/c/2723750105/14),\n",
       " Post(2, validated, https://t.me/c/2723750105/15),\n",
       " Post(3, unvalidated, https://t.me/c/2723750105/16),\n",
       " Post(4, validated, https://t.me/c/2723750105/20),\n",
       " Post(5, validated, https://t.me/c/2723750105/18)]"
      ]
     },
     "execution_count": 13,
     "metadata": {},
     "output_type": "execute_result"
    }
   ],
   "source": [
    "await db.load_all_posts()"
   ]
  },
  {
   "cell_type": "code",
   "execution_count": 14,
   "id": "08a4bcf8",
   "metadata": {},
   "outputs": [
    {
     "data": {
      "text/plain": [
       "[Task(1, Test task name, PENDING, 2025-08-07 20:27:29.954892, 2025-08-07 20:27:29.954892),\n",
       " Task(0, Text reading speed test, PENDING, 2025-08-18 19:23:21.692553, 2025-08-18 19:23:21.693552)]"
      ]
     },
     "execution_count": 14,
     "metadata": {},
     "output_type": "execute_result"
    }
   ],
   "source": [
    "await db.load_all_tasks()"
   ]
  },
  {
   "cell_type": "markdown",
   "id": "dd956569",
   "metadata": {},
   "source": [
    "### save all"
   ]
  },
  {
   "cell_type": "code",
   "execution_count": 15,
   "id": "48caa219",
   "metadata": {},
   "outputs": [],
   "source": [
    "await db.save_all_accounts(await db.load_all_accounts())"
   ]
  },
  {
   "cell_type": "code",
   "execution_count": 16,
   "id": "e9db58d8",
   "metadata": {},
   "outputs": [],
   "source": [
    "await db.save_all_posts(await db.load_all_posts())"
   ]
  },
  {
   "cell_type": "code",
   "execution_count": 17,
   "id": "654301bd",
   "metadata": {},
   "outputs": [],
   "source": [
    "await db.save_all_tasks(await db.load_all_tasks())"
   ]
  },
  {
   "cell_type": "markdown",
   "id": "6eafa1ae",
   "metadata": {},
   "source": [
    "### add, update and delete"
   ]
  },
  {
   "cell_type": "markdown",
   "id": "eb9dd42b",
   "metadata": {},
   "source": [
    "#### account"
   ]
  },
  {
   "cell_type": "code",
   "execution_count": 18,
   "id": "8b0a1a88",
   "metadata": {},
   "outputs": [
    {
     "data": {
      "text/plain": [
       "True"
      ]
     },
     "execution_count": 18,
     "metadata": {},
     "output_type": "execute_result"
    }
   ],
   "source": [
    "await db.add_account(Account.from_keys(phone_number='+123'))"
   ]
  },
  {
   "cell_type": "code",
   "execution_count": 19,
   "id": "b2b72714",
   "metadata": {},
   "outputs": [
    {
     "data": {
      "text/plain": [
       "Account(None, +123)"
      ]
     },
     "execution_count": 19,
     "metadata": {},
     "output_type": "execute_result"
    }
   ],
   "source": [
    "await db.get_account('+123')"
   ]
  },
  {
   "cell_type": "code",
   "execution_count": 20,
   "id": "8fa039b1",
   "metadata": {},
   "outputs": [
    {
     "data": {
      "text/plain": [
       "True"
      ]
     },
     "execution_count": 20,
     "metadata": {},
     "output_type": "execute_result"
    }
   ],
   "source": [
    "await db.update_account('+123', {'session_name': 'new_session'})"
   ]
  },
  {
   "cell_type": "code",
   "execution_count": 21,
   "id": "8350521b",
   "metadata": {},
   "outputs": [
    {
     "data": {
      "text/plain": [
       "True"
      ]
     },
     "execution_count": 21,
     "metadata": {},
     "output_type": "execute_result"
    }
   ],
   "source": [
    "await db.delete_account('+123')"
   ]
  },
  {
   "cell_type": "markdown",
   "id": "05c58a6b",
   "metadata": {},
   "source": [
    "#### post"
   ]
  },
  {
   "cell_type": "code",
   "execution_count": 22,
   "id": "8193a818",
   "metadata": {},
   "outputs": [
    {
     "data": {
      "text/plain": [
       "True"
      ]
     },
     "execution_count": 22,
     "metadata": {},
     "output_type": "execute_result"
    }
   ],
   "source": [
    "await db.add_post(Post.from_keys(post_id=-1, message_link='https://example.com/post1'))"
   ]
  },
  {
   "cell_type": "code",
   "execution_count": 23,
   "id": "c7c010dc",
   "metadata": {},
   "outputs": [
    {
     "data": {
      "text/plain": [
       "Post(-1, unvalidated, https://example.com/post1)"
      ]
     },
     "execution_count": 23,
     "metadata": {},
     "output_type": "execute_result"
    }
   ],
   "source": [
    "await db.get_post(-1)"
   ]
  },
  {
   "cell_type": "code",
   "execution_count": 24,
   "id": "689d2760",
   "metadata": {},
   "outputs": [
    {
     "data": {
      "text/plain": [
       "True"
      ]
     },
     "execution_count": 24,
     "metadata": {},
     "output_type": "execute_result"
    }
   ],
   "source": [
    "await db.update_post(-1, {'message_link': 'https://example.com/updated_post1'})"
   ]
  },
  {
   "cell_type": "code",
   "execution_count": 25,
   "id": "e0b483f8",
   "metadata": {},
   "outputs": [
    {
     "data": {
      "text/plain": [
       "True"
      ]
     },
     "execution_count": 25,
     "metadata": {},
     "output_type": "execute_result"
    }
   ],
   "source": [
    "await db.delete_post(-1)"
   ]
  },
  {
   "cell_type": "markdown",
   "id": "01c6938a",
   "metadata": {},
   "source": [
    "#### task"
   ]
  },
  {
   "cell_type": "code",
   "execution_count": 26,
   "id": "d61d35b5",
   "metadata": {},
   "outputs": [
    {
     "data": {
      "text/plain": [
       "True"
      ]
     },
     "execution_count": 26,
     "metadata": {},
     "output_type": "execute_result"
    }
   ],
   "source": [
    "await db.add_task(Task(-1, 'db test', [-1], [], []))"
   ]
  },
  {
   "cell_type": "code",
   "execution_count": 27,
   "id": "28af0590",
   "metadata": {},
   "outputs": [
    {
     "data": {
      "text/plain": [
       "Task(-1, db test, PENDING, 2025-08-26T21:01:42.279120, 2025-08-26T21:01:42.279120)"
      ]
     },
     "execution_count": 27,
     "metadata": {},
     "output_type": "execute_result"
    }
   ],
   "source": [
    "await db.get_task(-1)"
   ]
  },
  {
   "cell_type": "code",
   "execution_count": 28,
   "id": "d847aad0",
   "metadata": {},
   "outputs": [
    {
     "data": {
      "text/plain": [
       "False"
      ]
     },
     "execution_count": 28,
     "metadata": {},
     "output_type": "execute_result"
    }
   ],
   "source": [
    "await db.update_task('-1', {'name': 'updated db test'})"
   ]
  },
  {
   "cell_type": "code",
   "execution_count": 29,
   "id": "880c51cb",
   "metadata": {},
   "outputs": [
    {
     "data": {
      "text/plain": [
       "False"
      ]
     },
     "execution_count": 29,
     "metadata": {},
     "output_type": "execute_result"
    }
   ],
   "source": [
    "await db.delete_task('-1')"
   ]
  },
  {
   "cell_type": "markdown",
   "id": "0fdec9c2",
   "metadata": {},
   "source": [
    "## Event viewer"
   ]
  },
  {
   "cell_type": "code",
   "execution_count": 1,
   "id": "6f056aaf",
   "metadata": {},
   "outputs": [],
   "source": [
    "from reporter import RunEventManager, create_report\n",
    "eventManager = RunEventManager()"
   ]
  },
  {
   "cell_type": "code",
   "execution_count": 2,
   "id": "3ffa87b5",
   "metadata": {},
   "outputs": [
    {
     "data": {
      "text/html": [
       "<div>\n",
       "<style scoped>\n",
       "    .dataframe tbody tr th:only-of-type {\n",
       "        vertical-align: middle;\n",
       "    }\n",
       "\n",
       "    .dataframe tbody tr th {\n",
       "        vertical-align: top;\n",
       "    }\n",
       "\n",
       "    .dataframe thead th {\n",
       "        text-align: right;\n",
       "    }\n",
       "</style>\n",
       "<table border=\"1\" class=\"dataframe\">\n",
       "  <thead>\n",
       "    <tr style=\"text-align: right;\">\n",
       "      <th></th>\n",
       "      <th>task_id</th>\n",
       "      <th>run_count</th>\n",
       "    </tr>\n",
       "  </thead>\n",
       "  <tbody>\n",
       "    <tr>\n",
       "      <th>0</th>\n",
       "      <td>3</td>\n",
       "      <td>8</td>\n",
       "    </tr>\n",
       "  </tbody>\n",
       "</table>\n",
       "</div>"
      ],
      "text/plain": [
       "   task_id  run_count\n",
       "0        3          8"
      ]
     },
     "execution_count": 2,
     "metadata": {},
     "output_type": "execute_result"
    }
   ],
   "source": [
    "await eventManager.get_tasks()"
   ]
  },
  {
   "cell_type": "code",
   "execution_count": 3,
   "id": "9d9e38cb",
   "metadata": {},
   "outputs": [
    {
     "data": {
      "text/html": [
       "<div>\n",
       "<style scoped>\n",
       "    .dataframe tbody tr th:only-of-type {\n",
       "        vertical-align: middle;\n",
       "    }\n",
       "\n",
       "    .dataframe tbody tr th {\n",
       "        vertical-align: top;\n",
       "    }\n",
       "\n",
       "    .dataframe thead th {\n",
       "        text-align: right;\n",
       "    }\n",
       "</style>\n",
       "<table border=\"1\" class=\"dataframe\">\n",
       "  <thead>\n",
       "    <tr style=\"text-align: right;\">\n",
       "      <th></th>\n",
       "      <th>_id</th>\n",
       "      <th>run_id</th>\n",
       "      <th>task_id</th>\n",
       "      <th>started_at</th>\n",
       "      <th>finished_at</th>\n",
       "      <th>status</th>\n",
       "      <th>meta</th>\n",
       "      <th>event_count</th>\n",
       "    </tr>\n",
       "  </thead>\n",
       "  <tbody>\n",
       "    <tr>\n",
       "      <th>0</th>\n",
       "      <td>68bc69579c843bb225add693</td>\n",
       "      <td>99e9dbee-c473-4453-9414-9e63336b4fc1</td>\n",
       "      <td>3</td>\n",
       "      <td>2025-09-06 17:03:19.578</td>\n",
       "      <td>2025-09-06 17:04:37.775</td>\n",
       "      <td>success</td>\n",
       "      <td>{'task_name': 'Test task created in code', 'ac...</td>\n",
       "      <td>25</td>\n",
       "    </tr>\n",
       "    <tr>\n",
       "      <th>1</th>\n",
       "      <td>68bc65839cbb5f24e8f6665c</td>\n",
       "      <td>5ff4abfe-1964-468f-8a1a-99d86b41e9ed</td>\n",
       "      <td>3</td>\n",
       "      <td>2025-09-06 16:46:59.782</td>\n",
       "      <td>2025-09-06 16:48:26.144</td>\n",
       "      <td>success</td>\n",
       "      <td>{'task_name': 'Test task created in code', 'ac...</td>\n",
       "      <td>25</td>\n",
       "    </tr>\n",
       "    <tr>\n",
       "      <th>2</th>\n",
       "      <td>68bc64fd8b93cb0015c470f2</td>\n",
       "      <td>d0b020fc-ef9f-4a33-bb15-340d8db6a2ed</td>\n",
       "      <td>3</td>\n",
       "      <td>2025-09-06 16:44:45.726</td>\n",
       "      <td>NaT</td>\n",
       "      <td>persist_error</td>\n",
       "      <td>{'task_name': 'Test task created in code', 'ac...</td>\n",
       "      <td>3</td>\n",
       "    </tr>\n",
       "    <tr>\n",
       "      <th>3</th>\n",
       "      <td>68bc61cadc6a3eeed99a686c</td>\n",
       "      <td>9bbaa8fa-7867-45e6-89d4-3c6923b01531</td>\n",
       "      <td>3</td>\n",
       "      <td>2025-09-06 16:31:06.849</td>\n",
       "      <td>NaT</td>\n",
       "      <td>persist_error</td>\n",
       "      <td>{'task_name': 'Test task created in code', 'ac...</td>\n",
       "      <td>3</td>\n",
       "    </tr>\n",
       "    <tr>\n",
       "      <th>4</th>\n",
       "      <td>68bc558a1d75ec4c323ccef5</td>\n",
       "      <td>56e6b0df-d44f-40e3-bf54-13157c42c263</td>\n",
       "      <td>3</td>\n",
       "      <td>2025-09-06 15:38:50.749</td>\n",
       "      <td>2025-09-06 15:40:26.762</td>\n",
       "      <td>success</td>\n",
       "      <td>{'task_name': 'Test task created in code', 'ac...</td>\n",
       "      <td>22</td>\n",
       "    </tr>\n",
       "    <tr>\n",
       "      <th>5</th>\n",
       "      <td>68b9d33711b39f33ffbc6647</td>\n",
       "      <td>e5a976ba-2ff5-434a-8e52-c1ed0c31d782</td>\n",
       "      <td>3</td>\n",
       "      <td>2025-09-04 17:58:15.622</td>\n",
       "      <td>2025-09-04 17:59:32.809</td>\n",
       "      <td>success</td>\n",
       "      <td>{'task_name': 'Test task created in code', 'ac...</td>\n",
       "      <td>22</td>\n",
       "    </tr>\n",
       "    <tr>\n",
       "      <th>6</th>\n",
       "      <td>68b9c6904121ac9b54d1e815</td>\n",
       "      <td>c59f904c-f30f-4866-acb5-201f79a432b4</td>\n",
       "      <td>3</td>\n",
       "      <td>2025-09-04 17:04:16.286</td>\n",
       "      <td>2025-09-04 17:05:44.174</td>\n",
       "      <td>success</td>\n",
       "      <td>{'task_name': 'Test task created in code', 'ac...</td>\n",
       "      <td>22</td>\n",
       "    </tr>\n",
       "    <tr>\n",
       "      <th>7</th>\n",
       "      <td>68b8099ab06dc9fbe9b5796e</td>\n",
       "      <td>e7e0ce69-46a9-46d0-aafa-7d572f4f8fb6</td>\n",
       "      <td>3</td>\n",
       "      <td>2025-09-03 09:25:46.261</td>\n",
       "      <td>2025-09-03 09:27:00.639</td>\n",
       "      <td>success</td>\n",
       "      <td>{'task_name': 'Test task created in code', 'ac...</td>\n",
       "      <td>22</td>\n",
       "    </tr>\n",
       "  </tbody>\n",
       "</table>\n",
       "</div>"
      ],
      "text/plain": [
       "                        _id                                run_id  task_id  \\\n",
       "0  68bc69579c843bb225add693  99e9dbee-c473-4453-9414-9e63336b4fc1        3   \n",
       "1  68bc65839cbb5f24e8f6665c  5ff4abfe-1964-468f-8a1a-99d86b41e9ed        3   \n",
       "2  68bc64fd8b93cb0015c470f2  d0b020fc-ef9f-4a33-bb15-340d8db6a2ed        3   \n",
       "3  68bc61cadc6a3eeed99a686c  9bbaa8fa-7867-45e6-89d4-3c6923b01531        3   \n",
       "4  68bc558a1d75ec4c323ccef5  56e6b0df-d44f-40e3-bf54-13157c42c263        3   \n",
       "5  68b9d33711b39f33ffbc6647  e5a976ba-2ff5-434a-8e52-c1ed0c31d782        3   \n",
       "6  68b9c6904121ac9b54d1e815  c59f904c-f30f-4866-acb5-201f79a432b4        3   \n",
       "7  68b8099ab06dc9fbe9b5796e  e7e0ce69-46a9-46d0-aafa-7d572f4f8fb6        3   \n",
       "\n",
       "               started_at             finished_at         status  \\\n",
       "0 2025-09-06 17:03:19.578 2025-09-06 17:04:37.775        success   \n",
       "1 2025-09-06 16:46:59.782 2025-09-06 16:48:26.144        success   \n",
       "2 2025-09-06 16:44:45.726                     NaT  persist_error   \n",
       "3 2025-09-06 16:31:06.849                     NaT  persist_error   \n",
       "4 2025-09-06 15:38:50.749 2025-09-06 15:40:26.762        success   \n",
       "5 2025-09-04 17:58:15.622 2025-09-04 17:59:32.809        success   \n",
       "6 2025-09-04 17:04:16.286 2025-09-04 17:05:44.174        success   \n",
       "7 2025-09-03 09:25:46.261 2025-09-03 09:27:00.639        success   \n",
       "\n",
       "                                                meta  event_count  \n",
       "0  {'task_name': 'Test task created in code', 'ac...           25  \n",
       "1  {'task_name': 'Test task created in code', 'ac...           25  \n",
       "2  {'task_name': 'Test task created in code', 'ac...            3  \n",
       "3  {'task_name': 'Test task created in code', 'ac...            3  \n",
       "4  {'task_name': 'Test task created in code', 'ac...           22  \n",
       "5  {'task_name': 'Test task created in code', 'ac...           22  \n",
       "6  {'task_name': 'Test task created in code', 'ac...           22  \n",
       "7  {'task_name': 'Test task created in code', 'ac...           22  "
      ]
     },
     "execution_count": 3,
     "metadata": {},
     "output_type": "execute_result"
    }
   ],
   "source": [
    "await eventManager.get_runs(3)"
   ]
  },
  {
   "cell_type": "code",
   "execution_count": 8,
   "id": "7dd852e6",
   "metadata": {},
   "outputs": [
    {
     "data": {
      "text/html": [
       "<div>\n",
       "<style scoped>\n",
       "    .dataframe tbody tr th:only-of-type {\n",
       "        vertical-align: middle;\n",
       "    }\n",
       "\n",
       "    .dataframe tbody tr th {\n",
       "        vertical-align: top;\n",
       "    }\n",
       "\n",
       "    .dataframe thead th {\n",
       "        text-align: right;\n",
       "    }\n",
       "</style>\n",
       "<table border=\"1\" class=\"dataframe\">\n",
       "  <thead>\n",
       "    <tr style=\"text-align: right;\">\n",
       "      <th></th>\n",
       "      <th>_id</th>\n",
       "      <th>run_id</th>\n",
       "      <th>task_id</th>\n",
       "      <th>ts</th>\n",
       "      <th>level</th>\n",
       "      <th>message</th>\n",
       "      <th>payload</th>\n",
       "      <th>event_type</th>\n",
       "      <th>action_type</th>\n",
       "      <th>details</th>\n",
       "    </tr>\n",
       "  </thead>\n",
       "  <tbody>\n",
       "    <tr>\n",
       "      <th>0</th>\n",
       "      <td>68bc69a39c843bb225add6a5</td>\n",
       "      <td>99e9dbee-c473-4453-9414-9e63336b4fc1</td>\n",
       "      <td>3</td>\n",
       "      <td>2025-09-06 17:04:35.842</td>\n",
       "      <td>WARNING</td>\n",
       "      <td>Client +19708267255 failed to react to post 8:...</td>\n",
       "      <td>{}</td>\n",
       "      <td>error</td>\n",
       "      <td>worker</td>\n",
       "      <td>react</td>\n",
       "    </tr>\n",
       "    <tr>\n",
       "      <th>1</th>\n",
       "      <td>68bc69a59c843bb225add6a6</td>\n",
       "      <td>99e9dbee-c473-4453-9414-9e63336b4fc1</td>\n",
       "      <td>3</td>\n",
       "      <td>2025-09-06 17:04:37.322</td>\n",
       "      <td>WARNING</td>\n",
       "      <td>Client +18563995311 failed to react to post 8:...</td>\n",
       "      <td>{}</td>\n",
       "      <td>error</td>\n",
       "      <td>worker</td>\n",
       "      <td>react</td>\n",
       "    </tr>\n",
       "    <tr>\n",
       "      <th>2</th>\n",
       "      <td>68bc69a69c843bb225add6a7</td>\n",
       "      <td>99e9dbee-c473-4453-9414-9e63336b4fc1</td>\n",
       "      <td>3</td>\n",
       "      <td>2025-09-06 17:04:37.532</td>\n",
       "      <td>WARNING</td>\n",
       "      <td>Client +19283944162 failed to react to post 8:...</td>\n",
       "      <td>{}</td>\n",
       "      <td>error</td>\n",
       "      <td>worker</td>\n",
       "      <td>react</td>\n",
       "    </tr>\n",
       "    <tr>\n",
       "      <th>3</th>\n",
       "      <td>68bc69a69c843bb225add6a9</td>\n",
       "      <td>99e9dbee-c473-4453-9414-9e63336b4fc1</td>\n",
       "      <td>3</td>\n",
       "      <td>2025-09-06 17:04:37.537</td>\n",
       "      <td>WARNING</td>\n",
       "      <td>Worker for client 8140224296 raised an excepti...</td>\n",
       "      <td>{}</td>\n",
       "      <td>error</td>\n",
       "      <td>worker_exception</td>\n",
       "      <td>None</td>\n",
       "    </tr>\n",
       "    <tr>\n",
       "      <th>4</th>\n",
       "      <td>68bc69a69c843bb225add6aa</td>\n",
       "      <td>99e9dbee-c473-4453-9414-9e63336b4fc1</td>\n",
       "      <td>3</td>\n",
       "      <td>2025-09-06 17:04:37.539</td>\n",
       "      <td>WARNING</td>\n",
       "      <td>Worker for client 8008781642 raised an excepti...</td>\n",
       "      <td>{}</td>\n",
       "      <td>error</td>\n",
       "      <td>worker_exception</td>\n",
       "      <td>None</td>\n",
       "    </tr>\n",
       "    <tr>\n",
       "      <th>5</th>\n",
       "      <td>68bc69a69c843bb225add6ab</td>\n",
       "      <td>99e9dbee-c473-4453-9414-9e63336b4fc1</td>\n",
       "      <td>3</td>\n",
       "      <td>2025-09-06 17:04:37.541</td>\n",
       "      <td>WARNING</td>\n",
       "      <td>Worker for client 8014401447 raised an excepti...</td>\n",
       "      <td>{}</td>\n",
       "      <td>error</td>\n",
       "      <td>worker_exception</td>\n",
       "      <td>None</td>\n",
       "    </tr>\n",
       "  </tbody>\n",
       "</table>\n",
       "</div>"
      ],
      "text/plain": [
       "                        _id                                run_id  task_id  \\\n",
       "0  68bc69a39c843bb225add6a5  99e9dbee-c473-4453-9414-9e63336b4fc1        3   \n",
       "1  68bc69a59c843bb225add6a6  99e9dbee-c473-4453-9414-9e63336b4fc1        3   \n",
       "2  68bc69a69c843bb225add6a7  99e9dbee-c473-4453-9414-9e63336b4fc1        3   \n",
       "3  68bc69a69c843bb225add6a9  99e9dbee-c473-4453-9414-9e63336b4fc1        3   \n",
       "4  68bc69a69c843bb225add6aa  99e9dbee-c473-4453-9414-9e63336b4fc1        3   \n",
       "5  68bc69a69c843bb225add6ab  99e9dbee-c473-4453-9414-9e63336b4fc1        3   \n",
       "\n",
       "                       ts    level  \\\n",
       "0 2025-09-06 17:04:35.842  WARNING   \n",
       "1 2025-09-06 17:04:37.322  WARNING   \n",
       "2 2025-09-06 17:04:37.532  WARNING   \n",
       "3 2025-09-06 17:04:37.537  WARNING   \n",
       "4 2025-09-06 17:04:37.539  WARNING   \n",
       "5 2025-09-06 17:04:37.541  WARNING   \n",
       "\n",
       "                                             message payload event_type  \\\n",
       "0  Client +19708267255 failed to react to post 8:...      {}      error   \n",
       "1  Client +18563995311 failed to react to post 8:...      {}      error   \n",
       "2  Client +19283944162 failed to react to post 8:...      {}      error   \n",
       "3  Worker for client 8140224296 raised an excepti...      {}      error   \n",
       "4  Worker for client 8008781642 raised an excepti...      {}      error   \n",
       "5  Worker for client 8014401447 raised an excepti...      {}      error   \n",
       "\n",
       "        action_type details  \n",
       "0            worker   react  \n",
       "1            worker   react  \n",
       "2            worker   react  \n",
       "3  worker_exception    None  \n",
       "4  worker_exception    None  \n",
       "5  worker_exception    None  "
      ]
     },
     "execution_count": 8,
     "metadata": {},
     "output_type": "execute_result"
    }
   ],
   "source": [
    "data = await create_report(await eventManager.get_events('99e9dbee-c473-4453-9414-9e63336b4fc1'), type='errors')\n",
    "data"
   ]
  }
 ],
 "metadata": {
  "kernelspec": {
   "display_name": ".venv",
   "language": "python",
   "name": "python3"
  },
  "language_info": {
   "codemirror_mode": {
    "name": "ipython",
    "version": 3
   },
   "file_extension": ".py",
   "mimetype": "text/x-python",
   "name": "python",
   "nbconvert_exporter": "python",
   "pygments_lexer": "ipython3",
   "version": "3.12.6"
  }
 },
 "nbformat": 4,
 "nbformat_minor": 5
}
